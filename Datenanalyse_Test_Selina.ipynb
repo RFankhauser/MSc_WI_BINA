{
  "nbformat": 4,
  "nbformat_minor": 0,
  "metadata": {
    "colab": {
      "provenance": [],
      "authorship_tag": "ABX9TyOnjMoTxuNlQenR4qH57Zyj",
      "include_colab_link": true
    },
    "kernelspec": {
      "name": "python3",
      "display_name": "Python 3"
    },
    "language_info": {
      "name": "python"
    }
  },
  "cells": [
    {
      "cell_type": "markdown",
      "metadata": {
        "id": "view-in-github",
        "colab_type": "text"
      },
      "source": [
        "<a href=\"https://colab.research.google.com/github/RFankhauser/MSc_WI_BINA/blob/main/Datenanalyse_Test_Selina.ipynb\" target=\"_parent\"><img src=\"https://colab.research.google.com/assets/colab-badge.svg\" alt=\"Open In Colab\"/></a>"
      ]
    },
    {
      "cell_type": "code",
      "execution_count": null,
      "metadata": {
        "colab": {
          "base_uri": "https://localhost:8080/"
        },
        "id": "G-opyUeZxrPh",
        "outputId": "b7f208f1-8d53-437c-ec44-3e7144aba9dd"
      },
      "outputs": [
        {
          "output_type": "stream",
          "name": "stdout",
          "text": [
            "Mounted at /content/drive\n"
          ]
        }
      ],
      "source": [
        "from google.colab import drive\n",
        "drive.mount('/content/drive')"
      ]
    },
    {
      "cell_type": "code",
      "source": [
        "import gdown\n",
        "\n",
        "# Die Datei-ID aus dem Google Drive-Link\n",
        "file_id = '1VB_9wbmdneUo32XGGDNULnUZje4HsX8Q'\n",
        "destination = '/content/deine_datei.csv'\n",
        "\n",
        "# Datei herunterladen\n",
        "gdown.download(f'https://drive.google.com/uc?id={file_id}', destination, quiet=False)\n"
      ],
      "metadata": {
        "colab": {
          "base_uri": "https://localhost:8080/",
          "height": 127
        },
        "id": "nAKaaeJWx-O4",
        "outputId": "b54b4c37-7a73-4181-f168-b7e9d265619c"
      },
      "execution_count": null,
      "outputs": [
        {
          "output_type": "stream",
          "name": "stderr",
          "text": [
            "Downloading...\n",
            "From (original): https://drive.google.com/uc?id=1VB_9wbmdneUo32XGGDNULnUZje4HsX8Q\n",
            "From (redirected): https://drive.google.com/uc?id=1VB_9wbmdneUo32XGGDNULnUZje4HsX8Q&confirm=t&uuid=11539637-66cb-40e3-96be-5bdcd0f139e3\n",
            "To: /content/deine_datei.csv\n",
            "100%|██████████| 1.90G/1.90G [00:18<00:00, 103MB/s]\n"
          ]
        },
        {
          "output_type": "execute_result",
          "data": {
            "text/plain": [
              "'/content/deine_datei.csv'"
            ],
            "application/vnd.google.colaboratory.intrinsic+json": {
              "type": "string"
            }
          },
          "metadata": {},
          "execution_count": 2
        }
      ]
    },
    {
      "cell_type": "code",
      "source": [
        "import pandas as pd\n",
        "import seaborn as sns\n",
        "import matplotlib.pyplot as plt\n",
        "import numpy as np\n",
        "from tqdm import tqdm"
      ],
      "metadata": {
        "id": "jA7_Lfh7yI4w"
      },
      "execution_count": null,
      "outputs": []
    },
    {
      "cell_type": "code",
      "source": [
        "# Lade die heruntergeladene CSV-Datei\n",
        "df = pd.read_csv('/content/deine_datei.csv')\n",
        "\n",
        "# Zeige die ersten paar Zeilen der Datei an\n",
        "print(df.head(10))"
      ],
      "metadata": {
        "colab": {
          "base_uri": "https://localhost:8080/"
        },
        "id": "raI5dRGuyKEB",
        "outputId": "31ad14ae-6ea1-44b0-ae5f-bbecbd3040d2"
      },
      "execution_count": null,
      "outputs": [
        {
          "output_type": "stream",
          "name": "stdout",
          "text": [
            "   LINIEN_TEXT            HALTESTELLEN_NAME         ABFAHRTSZEIT  \\\n",
            "0           10           Zürich, Salersteig  2024-01-01 04:36:00   \n",
            "1           10         Zürich, Berninaplatz  2024-01-01 04:37:00   \n",
            "2           10  Zürich, Hirschwiesenstrasse  2024-01-01 04:38:00   \n",
            "3           10            Zürich, Milchbuck  2024-01-01 04:40:00   \n",
            "4           10   Zürich, Universität Irchel  2024-01-01 04:41:00   \n",
            "5           10     Zürich, Langmauerstrasse  2024-01-01 04:42:00   \n",
            "6           10         Zürich, Letzistrasse  2024-01-01 04:43:00   \n",
            "7           10     Zürich, Sternen Oerlikon  2024-01-01 04:44:00   \n",
            "8           10        Zürich, Kinkelstrasse  2024-01-01 04:44:00   \n",
            "9           10   Zürich, Seilbahn Rigiblick  2024-01-01 04:45:00   \n",
            "\n",
            "           AB_PROGNOSE AB_PROGNOSE_STATUS  VERSPAETUNG [s] STATION  \\\n",
            "0  2024-01-01 04:37:09               REAL             69.0  NABZUE   \n",
            "1  2024-01-01 04:38:08               REAL             68.0  NABZUE   \n",
            "2  2024-01-01 04:39:12               REAL             72.0  NABZUE   \n",
            "3  2024-01-01 04:42:18               REAL            138.0  NABZUE   \n",
            "4  2024-01-01 04:44:07               REAL            187.0  NABZUE   \n",
            "5  2024-01-01 04:45:15               REAL            195.0  NABZUE   \n",
            "6  2024-01-01 04:46:08               REAL            188.0  NABZUE   \n",
            "7  2024-01-01 04:45:45               REAL            105.0  NABZUE   \n",
            "8  2024-01-01 04:46:51               REAL            171.0  NABZUE   \n",
            "9  2024-01-01 04:47:49               REAL            169.0  NABZUE   \n",
            "\n",
            "   BOEENSPITZE_[kmh]  GLOBALSTRAHLUNG [Wm2]  TEMPERATUR [°C]  \\\n",
            "0               50.4                    0.0              4.9   \n",
            "1               50.4                    0.0              4.9   \n",
            "2               50.4                    0.0              4.9   \n",
            "3               50.4                    0.0              4.9   \n",
            "4               50.4                    0.0              4.9   \n",
            "5               50.4                    0.0              4.9   \n",
            "6               50.4                    0.0              4.9   \n",
            "7               50.4                    0.0              4.9   \n",
            "8               50.4                    0.0              4.9   \n",
            "9               50.4                    0.0              4.9   \n",
            "\n",
            "   NIEDERSCHLAG [mm]  WINDGESCHWINDIGKEIT [kmh]  NEUSCHNEEHOEHE [cm]  \\\n",
            "0                1.1                       15.5                  0.0   \n",
            "1                1.1                       15.5                  0.0   \n",
            "2                1.1                       15.5                  0.0   \n",
            "3                1.1                       15.5                  0.0   \n",
            "4                1.1                       15.5                  0.0   \n",
            "5                1.1                       15.5                  0.0   \n",
            "6                1.1                       15.5                  0.0   \n",
            "7                1.1                       15.5                  0.0   \n",
            "8                1.1                       15.5                  0.0   \n",
            "9                1.1                       15.5                  0.0   \n",
            "\n",
            "   SCHNEHOEHE_MORGENMESSUNG_6_UTC [cm]  TAG_MIT_HAGEL  TAG_MIT_NEBEL  \\\n",
            "0                                  0.0            0.0            0.0   \n",
            "1                                  0.0            0.0            0.0   \n",
            "2                                  0.0            0.0            0.0   \n",
            "3                                  0.0            0.0            0.0   \n",
            "4                                  0.0            0.0            0.0   \n",
            "5                                  0.0            0.0            0.0   \n",
            "6                                  0.0            0.0            0.0   \n",
            "7                                  0.0            0.0            0.0   \n",
            "8                                  0.0            0.0            0.0   \n",
            "9                                  0.0            0.0            0.0   \n",
            "\n",
            "   TEMPERATUR_GLATT  GPS_LATITUDE  GPS_LONGITUDE  \n",
            "0              5.12     47.406052       8.548386  \n",
            "1              5.12     47.403601       8.547871  \n",
            "2              5.12     47.400376       8.543683  \n",
            "3              5.12     47.398125       8.542047  \n",
            "4              5.12     47.396090       8.545105  \n",
            "5              5.12     47.393788       8.544964  \n",
            "6              5.12     47.390906       8.545434  \n",
            "7              5.12     47.410213       8.545994  \n",
            "8              5.12     47.388801       8.546384  \n",
            "9              5.12     47.386039       8.548274  \n"
          ]
        }
      ]
    },
    {
      "cell_type": "code",
      "source": [
        "#analyse\n"
      ],
      "metadata": {
        "id": "_PYFVHMnzrkn"
      },
      "execution_count": null,
      "outputs": []
    }
  ]
}