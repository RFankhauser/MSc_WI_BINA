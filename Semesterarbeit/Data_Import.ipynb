{
 "cells": [
  {
   "cell_type": "code",
   "execution_count": null,
   "metadata": {},
   "outputs": [],
   "source": [
    "import os\n",
    "import glob\n",
    "import pandas as pd\n",
    "\n",
    "def merge_csv_files(input_path, output_path):\n",
    "    \"\"\"\n",
    "    Liest alle CSV-Dateien im Ordner <input_path> ein, kombiniert sie zu einem DataFrame,\n",
    "    filtert Zeilen, in denen in der Spalte 'BETREIBER_ABK' der String \"VBZ\" enthalten ist,\n",
    "    und speichert das Ergebnis als CSV unter <output_path>.\n",
    "\n",
    "    Parameter:\n",
    "      input_path (str): Pfad zum Ordner mit den CSV-Dateien.\n",
    "      output_path (str): Pfad inkl. Dateiname für die Ausgabedatei.\n",
    "    \"\"\"\n",
    "    # Finde alle CSV-Dateien im Ordner\n",
    "    csv_files = glob.glob(os.path.join(input_path, \"*.csv\"))\n",
    "\n",
    "\n",
    "    # Lese und kombiniere alle CSV-Dateien\n",
    "    df_merged = pd.concat((pd.read_csv(file, sep=None) for file in csv_files), ignore_index=True)\n",
    "\n",
    "    # Filtere Zeilen, in denen 'BETREIBER_ABK' \"VBZ\" enthält\n",
    "    df_merged_filtered_vbz = df_merged[df_merged[\"BETREIBER_ABK\"].str.contains(\"VBZ\")]\n",
    "\n",
    "    # Speichere das zusammengeführte DataFrame als CSV\n",
    "    df_merged_filtered_vbz.to_csv(output_path, index=False)"
   ]
  },
  {
   "cell_type": "code",
   "execution_count": null,
   "metadata": {},
   "outputs": [],
   "source": [
    "def filter_single_csv(input_path, output_path):\n",
    "    \"\"\"\n",
    "    Liest eine CSV-Datei ein, filtert Zeilen, in denen in der Spalte 'BETREIBER_ABK' der String \"VBZ\" enthalten ist,\n",
    "    und speichert das Ergebnis als CSV unter <output_file>.\n",
    "\n",
    "    Parameter:\n",
    "      input_file (str): Pfad zur CSV-Datei.\n",
    "      output_file (str): Pfad inkl. Dateiname für die Ausgabedatei.\n",
    "    \"\"\"\n",
    "    # CSV-Datei einlesen (ggf. Separator anpassen, falls nicht Komma-getrennt)\n",
    "    df = pd.read_csv(input_path, sep=\",\", low_memory=False)\n",
    "\n",
    "    # Nur Zeilen behalten, in denen \"VBZ\" in der Spalte BETREIBER_ABK enthalten ist\n",
    "    df_filtered = df[df[\"BETREIBER_ABK\"].str.contains(\"VBZ\")]\n",
    "\n",
    "    # Gefilterte Daten speichern\n",
    "    df_filtered.to_csv(output_path, index=False)\n",
    "\n",
    "    print(f\"Gefilterte Datei wurde gespeichert unter: {output_path}\")"
   ]
  }
 ],
 "metadata": {
  "language_info": {
   "name": "python"
  }
 },
 "nbformat": 4,
 "nbformat_minor": 2
}
