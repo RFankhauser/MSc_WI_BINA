{
  "cells": [
    {
      "cell_type": "markdown",
      "source": [
        "Import der Daten"
      ],
      "metadata": {
        "id": "8zvbPCc3qXLU"
      }
    },
    {
      "cell_type": "code",
      "execution_count": 12,
      "metadata": {
        "id": "SAZXlKEhglM2",
        "outputId": "fa192a26-ae9a-4314-dbd0-d21344f18fc5",
        "colab": {
          "base_uri": "https://localhost:8080/"
        }
      },
      "outputs": [
        {
          "output_type": "stream",
          "name": "stdout",
          "text": [
            "                   Datum                 Standort Parameter Intervall Einheit  \\\n",
            "0  2024-01-01T00:00+0100  Zch_Stampfenbachstrasse         T        h1      °C   \n",
            "1  2024-01-01T00:00+0100  Zch_Stampfenbachstrasse        Hr        h1     %Hr   \n",
            "2  2024-01-01T00:00+0100  Zch_Stampfenbachstrasse         p        h1     hPa   \n",
            "3  2024-01-01T00:00+0100  Zch_Stampfenbachstrasse   RainDur        h1     min   \n",
            "4  2024-01-01T00:00+0100  Zch_Stampfenbachstrasse    StrGlo        h1    W/m2   \n",
            "\n",
            "     Wert        Status  \n",
            "0    5.23  provisorisch  \n",
            "1   77.04  provisorisch  \n",
            "2  961.72  provisorisch  \n",
            "3    0.00  provisorisch  \n",
            "4    0.02  provisorisch  \n"
          ]
        }
      ],
      "source": [
        "\n",
        "#Selina\n",
        "\n",
        "\n",
        "import pandas as pd\n",
        "import seaborn as sns\n",
        "import matplotlib.pyplot as plt\n",
        "\n",
        "url = \"https://raw.githubusercontent.com/RFankhauser/MSc_WI_BINA/main/Semesterarbeit/Wetter_Z%C3%BCrich_st%C3%BCndlich/ugz_ogd_meteo_h1_2024.csv\"\n",
        "\n",
        "try:\n",
        "    df_raw = pd.read_csv(url, sep=\",\", encoding=\"utf-8\")\n",
        "    print(df_raw.head())\n",
        "except Exception as e:\n",
        "    print(f\"Fehler beim Laden der Datei: {e}\")"
      ]
    },
    {
      "cell_type": "code",
      "source": [
        "  #Selina - Zeitstemepl in Datum und Uhrzeit trennen\n",
        "\n",
        "# Datum-Uhrzeit-Spalte in ein Datetime-Format umwandeln\n",
        "df_raw['Datum'] = pd.to_datetime(df_raw['Datum'])\n",
        "\n",
        "# Datum und Uhrzeit in separate Spalten aufteilen\n",
        "df_raw['Datum_Teil'] = df_raw['Datum'].dt.date\n",
        "df_raw['Uhrzeit_Teil'] = df_raw['Datum'].dt.time\n",
        "print(df_raw[['Datum_Teil', 'Uhrzeit_Teil']].head())"
      ],
      "metadata": {
        "colab": {
          "base_uri": "https://localhost:8080/"
        },
        "id": "3kFqlRXBsa62",
        "outputId": "c778ab64-a77d-4546-cb66-acb410725dec"
      },
      "execution_count": 36,
      "outputs": [
        {
          "output_type": "stream",
          "name": "stdout",
          "text": [
            "   Datum_Teil Uhrzeit_Teil\n",
            "0  2024-01-01     00:00:00\n",
            "1  2024-01-01     00:00:00\n",
            "2  2024-01-01     00:00:00\n",
            "3  2024-01-01     00:00:00\n",
            "4  2024-01-01     00:00:00\n"
          ]
        }
      ]
    }
  ],
  "metadata": {
    "kernelspec": {
      "display_name": ".venv",
      "language": "python",
      "name": "python3"
    },
    "language_info": {
      "codemirror_mode": {
        "name": "ipython",
        "version": 3
      },
      "file_extension": ".py",
      "mimetype": "text/x-python",
      "name": "python",
      "nbconvert_exporter": "python",
      "pygments_lexer": "ipython3",
      "version": "3.12.9"
    },
    "colab": {
      "provenance": []
    }
  },
  "nbformat": 4,
  "nbformat_minor": 0
}