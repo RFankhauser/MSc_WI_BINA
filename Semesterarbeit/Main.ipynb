{
 "cells": [
  {
   "cell_type": "code",
   "execution_count": null,
   "metadata": {},
   "outputs": [],
   "source": []
  },
  {
   "cell_type": "code",
   "execution_count": null,
   "metadata": {},
   "outputs": [],
   "source": [
    "Import pandas as pd\n",
    "Import numpy as np\n",
    "Import matplotlib.pyplot as plt\n",
    "Import seaborn as sns\n",
    "Import os\n",
    "Import glob "
   ]
  }
 ],
 "metadata": {
  "language_info": {
   "name": "python"
  }
 },
 "nbformat": 4,
 "nbformat_minor": 2
}
