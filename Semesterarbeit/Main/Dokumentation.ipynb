{
 "cells": [
  {
   "cell_type": "markdown",
   "metadata": {},
   "source": [
    "## 1 Einleitung\n"
   ]
  },
  {
   "cell_type": "markdown",
   "metadata": {},
   "source": [
    "### 1.1 Ziel"
   ]
  },
  {
   "cell_type": "markdown",
   "metadata": {},
   "source": [
    "### 1.2 Vorgehen"
   ]
  },
  {
   "cell_type": "markdown",
   "metadata": {},
   "source": [
    "## 2 Daten"
   ]
  },
  {
   "cell_type": "markdown",
   "metadata": {},
   "source": [
    "### 2.1 Quellen"
   ]
  },
  {
   "cell_type": "markdown",
   "metadata": {},
   "source": [
    "### 2.2 Import, Bereinigung und Transformation"
   ]
  },
  {
   "cell_type": "markdown",
   "metadata": {},
   "source": [
    "#### Verkehrsdaten"
   ]
  },
  {
   "cell_type": "markdown",
   "metadata": {},
   "source": [
    "Laden eines einzelnen Datensatz auf Tagesbasis als Basis für Data Cleaning"
   ]
  },
  {
   "cell_type": "code",
   "execution_count": 51,
   "metadata": {},
   "outputs": [
    {
     "data": {
      "application/vnd.microsoft.datawrangler.viewer.v0+json": {
       "columns": [
        {
         "name": "index",
         "rawType": "int64",
         "type": "integer"
        },
        {
         "name": "BETRIEBSTAG",
         "rawType": "object",
         "type": "string"
        },
        {
         "name": "FAHRT_BEZEICHNER",
         "rawType": "object",
         "type": "string"
        },
        {
         "name": "BETREIBER_ID",
         "rawType": "object",
         "type": "string"
        },
        {
         "name": "BETREIBER_ABK",
         "rawType": "object",
         "type": "string"
        },
        {
         "name": "BETREIBER_NAME",
         "rawType": "object",
         "type": "string"
        },
        {
         "name": "PRODUKT_ID",
         "rawType": "object",
         "type": "string"
        },
        {
         "name": "LINIEN_ID",
         "rawType": "object",
         "type": "string"
        },
        {
         "name": "LINIEN_TEXT",
         "rawType": "object",
         "type": "string"
        },
        {
         "name": "UMLAUF_ID",
         "rawType": "object",
         "type": "unknown"
        },
        {
         "name": "VERKEHRSMITTEL_TEXT",
         "rawType": "object",
         "type": "string"
        },
        {
         "name": "ZUSATZFAHRT_TF",
         "rawType": "bool",
         "type": "boolean"
        },
        {
         "name": "FAELLT_AUS_TF",
         "rawType": "bool",
         "type": "boolean"
        },
        {
         "name": "BPUIC",
         "rawType": "int64",
         "type": "integer"
        },
        {
         "name": "HALTESTELLEN_NAME",
         "rawType": "object",
         "type": "string"
        },
        {
         "name": "ANKUNFTSZEIT",
         "rawType": "object",
         "type": "unknown"
        },
        {
         "name": "AN_PROGNOSE",
         "rawType": "object",
         "type": "unknown"
        },
        {
         "name": "AN_PROGNOSE_STATUS",
         "rawType": "object",
         "type": "unknown"
        },
        {
         "name": "ABFAHRTSZEIT",
         "rawType": "object",
         "type": "unknown"
        },
        {
         "name": "AB_PROGNOSE",
         "rawType": "object",
         "type": "unknown"
        },
        {
         "name": "AB_PROGNOSE_STATUS",
         "rawType": "object",
         "type": "unknown"
        },
        {
         "name": "DURCHFAHRT_TF",
         "rawType": "bool",
         "type": "boolean"
        }
       ],
       "conversionMethod": "pd.DataFrame",
       "ref": "ec2fc395-ea8a-40e8-a3c6-c105afec8bce",
       "rows": [
        [
         "0",
         "01.01.2024",
         "80:06____:17291:000",
         "80:06____",
         "DB",
         "DB Regio AG Baden-Württemberg",
         "Zug",
         "17291",
         "RB",
         null,
         "RB",
         "True",
         "True",
         "8500090",
         "Basel Bad Bf",
         null,
         null,
         "UNBEKANNT",
         "01.01.2024 01:05",
         null,
         "UNBEKANNT",
         "False"
        ],
        [
         "1",
         "01.01.2024",
         "80:06____:70665:000",
         "80:06____",
         "DB",
         "DB Regio AG Baden-Württemberg",
         "Zug",
         "70665",
         "RB",
         null,
         "RB",
         "True",
         "False",
         "8500090",
         "Basel Bad Bf",
         null,
         null,
         null,
         "01.01.2024 01:05",
         "01.01.2024 01:06:00",
         "PROGNOSE",
         "False"
        ],
        [
         "2",
         "01.01.2024",
         "80:800631:17238:000",
         "80:800631",
         "DB",
         "DB Regio AG Baden-Württemberg",
         "Zug",
         "17238",
         "RB",
         null,
         "RB",
         "False",
         "False",
         "8500090",
         "Basel Bad Bf",
         "01.01.2024 07:05",
         "01.01.2024 07:05:00",
         "PROGNOSE",
         null,
         null,
         null,
         "False"
        ],
        [
         "3",
         "01.01.2024",
         "80:800631:17239:000",
         "80:800631",
         "DB",
         "DB Regio AG Baden-Württemberg",
         "Zug",
         "17239",
         "RB",
         null,
         "RB",
         "False",
         "False",
         "8500090",
         "Basel Bad Bf",
         null,
         null,
         null,
         "01.01.2024 07:53",
         "01.01.2024 07:53:00",
         "PROGNOSE",
         "False"
        ],
        [
         "4",
         "01.01.2024",
         "80:800631:17241:000",
         "80:800631",
         "DB",
         "DB Regio AG Baden-Württemberg",
         "Zug",
         "17241",
         "RB",
         null,
         "RB",
         "False",
         "False",
         "8500090",
         "Basel Bad Bf",
         null,
         null,
         null,
         "01.01.2024 08:53",
         "01.01.2024 08:54:00",
         "PROGNOSE",
         "False"
        ]
       ],
       "shape": {
        "columns": 21,
        "rows": 5
       }
      },
      "text/html": [
       "<div>\n",
       "<style scoped>\n",
       "    .dataframe tbody tr th:only-of-type {\n",
       "        vertical-align: middle;\n",
       "    }\n",
       "\n",
       "    .dataframe tbody tr th {\n",
       "        vertical-align: top;\n",
       "    }\n",
       "\n",
       "    .dataframe thead th {\n",
       "        text-align: right;\n",
       "    }\n",
       "</style>\n",
       "<table border=\"1\" class=\"dataframe\">\n",
       "  <thead>\n",
       "    <tr style=\"text-align: right;\">\n",
       "      <th></th>\n",
       "      <th>BETRIEBSTAG</th>\n",
       "      <th>FAHRT_BEZEICHNER</th>\n",
       "      <th>BETREIBER_ID</th>\n",
       "      <th>BETREIBER_ABK</th>\n",
       "      <th>BETREIBER_NAME</th>\n",
       "      <th>PRODUKT_ID</th>\n",
       "      <th>LINIEN_ID</th>\n",
       "      <th>LINIEN_TEXT</th>\n",
       "      <th>UMLAUF_ID</th>\n",
       "      <th>VERKEHRSMITTEL_TEXT</th>\n",
       "      <th>...</th>\n",
       "      <th>FAELLT_AUS_TF</th>\n",
       "      <th>BPUIC</th>\n",
       "      <th>HALTESTELLEN_NAME</th>\n",
       "      <th>ANKUNFTSZEIT</th>\n",
       "      <th>AN_PROGNOSE</th>\n",
       "      <th>AN_PROGNOSE_STATUS</th>\n",
       "      <th>ABFAHRTSZEIT</th>\n",
       "      <th>AB_PROGNOSE</th>\n",
       "      <th>AB_PROGNOSE_STATUS</th>\n",
       "      <th>DURCHFAHRT_TF</th>\n",
       "    </tr>\n",
       "  </thead>\n",
       "  <tbody>\n",
       "    <tr>\n",
       "      <th>0</th>\n",
       "      <td>01.01.2024</td>\n",
       "      <td>80:06____:17291:000</td>\n",
       "      <td>80:06____</td>\n",
       "      <td>DB</td>\n",
       "      <td>DB Regio AG Baden-Württemberg</td>\n",
       "      <td>Zug</td>\n",
       "      <td>17291</td>\n",
       "      <td>RB</td>\n",
       "      <td>NaN</td>\n",
       "      <td>RB</td>\n",
       "      <td>...</td>\n",
       "      <td>True</td>\n",
       "      <td>8500090</td>\n",
       "      <td>Basel Bad Bf</td>\n",
       "      <td>NaN</td>\n",
       "      <td>NaN</td>\n",
       "      <td>UNBEKANNT</td>\n",
       "      <td>01.01.2024 01:05</td>\n",
       "      <td>NaN</td>\n",
       "      <td>UNBEKANNT</td>\n",
       "      <td>False</td>\n",
       "    </tr>\n",
       "    <tr>\n",
       "      <th>1</th>\n",
       "      <td>01.01.2024</td>\n",
       "      <td>80:06____:70665:000</td>\n",
       "      <td>80:06____</td>\n",
       "      <td>DB</td>\n",
       "      <td>DB Regio AG Baden-Württemberg</td>\n",
       "      <td>Zug</td>\n",
       "      <td>70665</td>\n",
       "      <td>RB</td>\n",
       "      <td>NaN</td>\n",
       "      <td>RB</td>\n",
       "      <td>...</td>\n",
       "      <td>False</td>\n",
       "      <td>8500090</td>\n",
       "      <td>Basel Bad Bf</td>\n",
       "      <td>NaN</td>\n",
       "      <td>NaN</td>\n",
       "      <td>NaN</td>\n",
       "      <td>01.01.2024 01:05</td>\n",
       "      <td>01.01.2024 01:06:00</td>\n",
       "      <td>PROGNOSE</td>\n",
       "      <td>False</td>\n",
       "    </tr>\n",
       "    <tr>\n",
       "      <th>2</th>\n",
       "      <td>01.01.2024</td>\n",
       "      <td>80:800631:17238:000</td>\n",
       "      <td>80:800631</td>\n",
       "      <td>DB</td>\n",
       "      <td>DB Regio AG Baden-Württemberg</td>\n",
       "      <td>Zug</td>\n",
       "      <td>17238</td>\n",
       "      <td>RB</td>\n",
       "      <td>NaN</td>\n",
       "      <td>RB</td>\n",
       "      <td>...</td>\n",
       "      <td>False</td>\n",
       "      <td>8500090</td>\n",
       "      <td>Basel Bad Bf</td>\n",
       "      <td>01.01.2024 07:05</td>\n",
       "      <td>01.01.2024 07:05:00</td>\n",
       "      <td>PROGNOSE</td>\n",
       "      <td>NaN</td>\n",
       "      <td>NaN</td>\n",
       "      <td>NaN</td>\n",
       "      <td>False</td>\n",
       "    </tr>\n",
       "    <tr>\n",
       "      <th>3</th>\n",
       "      <td>01.01.2024</td>\n",
       "      <td>80:800631:17239:000</td>\n",
       "      <td>80:800631</td>\n",
       "      <td>DB</td>\n",
       "      <td>DB Regio AG Baden-Württemberg</td>\n",
       "      <td>Zug</td>\n",
       "      <td>17239</td>\n",
       "      <td>RB</td>\n",
       "      <td>NaN</td>\n",
       "      <td>RB</td>\n",
       "      <td>...</td>\n",
       "      <td>False</td>\n",
       "      <td>8500090</td>\n",
       "      <td>Basel Bad Bf</td>\n",
       "      <td>NaN</td>\n",
       "      <td>NaN</td>\n",
       "      <td>NaN</td>\n",
       "      <td>01.01.2024 07:53</td>\n",
       "      <td>01.01.2024 07:53:00</td>\n",
       "      <td>PROGNOSE</td>\n",
       "      <td>False</td>\n",
       "    </tr>\n",
       "    <tr>\n",
       "      <th>4</th>\n",
       "      <td>01.01.2024</td>\n",
       "      <td>80:800631:17241:000</td>\n",
       "      <td>80:800631</td>\n",
       "      <td>DB</td>\n",
       "      <td>DB Regio AG Baden-Württemberg</td>\n",
       "      <td>Zug</td>\n",
       "      <td>17241</td>\n",
       "      <td>RB</td>\n",
       "      <td>NaN</td>\n",
       "      <td>RB</td>\n",
       "      <td>...</td>\n",
       "      <td>False</td>\n",
       "      <td>8500090</td>\n",
       "      <td>Basel Bad Bf</td>\n",
       "      <td>NaN</td>\n",
       "      <td>NaN</td>\n",
       "      <td>NaN</td>\n",
       "      <td>01.01.2024 08:53</td>\n",
       "      <td>01.01.2024 08:54:00</td>\n",
       "      <td>PROGNOSE</td>\n",
       "      <td>False</td>\n",
       "    </tr>\n",
       "  </tbody>\n",
       "</table>\n",
       "<p>5 rows × 21 columns</p>\n",
       "</div>"
      ],
      "text/plain": [
       "  BETRIEBSTAG     FAHRT_BEZEICHNER BETREIBER_ID BETREIBER_ABK  \\\n",
       "0  01.01.2024  80:06____:17291:000    80:06____            DB   \n",
       "1  01.01.2024  80:06____:70665:000    80:06____            DB   \n",
       "2  01.01.2024  80:800631:17238:000    80:800631            DB   \n",
       "3  01.01.2024  80:800631:17239:000    80:800631            DB   \n",
       "4  01.01.2024  80:800631:17241:000    80:800631            DB   \n",
       "\n",
       "                  BETREIBER_NAME PRODUKT_ID LINIEN_ID LINIEN_TEXT UMLAUF_ID  \\\n",
       "0  DB Regio AG Baden-Württemberg        Zug     17291          RB       NaN   \n",
       "1  DB Regio AG Baden-Württemberg        Zug     70665          RB       NaN   \n",
       "2  DB Regio AG Baden-Württemberg        Zug     17238          RB       NaN   \n",
       "3  DB Regio AG Baden-Württemberg        Zug     17239          RB       NaN   \n",
       "4  DB Regio AG Baden-Württemberg        Zug     17241          RB       NaN   \n",
       "\n",
       "  VERKEHRSMITTEL_TEXT  ...  FAELLT_AUS_TF    BPUIC  HALTESTELLEN_NAME  \\\n",
       "0                  RB  ...           True  8500090       Basel Bad Bf   \n",
       "1                  RB  ...          False  8500090       Basel Bad Bf   \n",
       "2                  RB  ...          False  8500090       Basel Bad Bf   \n",
       "3                  RB  ...          False  8500090       Basel Bad Bf   \n",
       "4                  RB  ...          False  8500090       Basel Bad Bf   \n",
       "\n",
       "       ANKUNFTSZEIT          AN_PROGNOSE AN_PROGNOSE_STATUS      ABFAHRTSZEIT  \\\n",
       "0               NaN                  NaN          UNBEKANNT  01.01.2024 01:05   \n",
       "1               NaN                  NaN                NaN  01.01.2024 01:05   \n",
       "2  01.01.2024 07:05  01.01.2024 07:05:00           PROGNOSE               NaN   \n",
       "3               NaN                  NaN                NaN  01.01.2024 07:53   \n",
       "4               NaN                  NaN                NaN  01.01.2024 08:53   \n",
       "\n",
       "           AB_PROGNOSE AB_PROGNOSE_STATUS DURCHFAHRT_TF  \n",
       "0                  NaN          UNBEKANNT         False  \n",
       "1  01.01.2024 01:06:00           PROGNOSE         False  \n",
       "2                  NaN                NaN         False  \n",
       "3  01.01.2024 07:53:00           PROGNOSE         False  \n",
       "4  01.01.2024 08:54:00           PROGNOSE         False  \n",
       "\n",
       "[5 rows x 21 columns]"
      ]
     },
     "metadata": {},
     "output_type": "display_data"
    }
   ],
   "source": [
    "import pandas as pd\n",
    "\n",
    "datei_pfad = \"/Users/remofankhauser/Verkehrsdaten_2024/2024-01-01_istdaten.csv\"\n",
    "df_verkehr_raw = pd.read_csv(datei_pfad, sep=None, engine=\"python\") #Laden der CSV-Datei\n",
    "\n",
    "display(df_verkehr_raw.head())"
   ]
  },
  {
   "cell_type": "markdown",
   "metadata": {},
   "source": [
    "Übersicht der vorhandenen Spalten und Datentypen"
   ]
  },
  {
   "cell_type": "code",
   "execution_count": 52,
   "metadata": {},
   "outputs": [
    {
     "name": "stdout",
     "output_type": "stream",
     "text": [
      "<class 'pandas.core.frame.DataFrame'>\n",
      "RangeIndex: 1501831 entries, 0 to 1501830\n",
      "Data columns (total 21 columns):\n",
      " #   Column               Non-Null Count    Dtype \n",
      "---  ------               --------------    ----- \n",
      " 0   BETRIEBSTAG          1501831 non-null  object\n",
      " 1   FAHRT_BEZEICHNER     1501831 non-null  object\n",
      " 2   BETREIBER_ID         1501831 non-null  object\n",
      " 3   BETREIBER_ABK        1501831 non-null  object\n",
      " 4   BETREIBER_NAME       1501831 non-null  object\n",
      " 5   PRODUKT_ID           1501831 non-null  object\n",
      " 6   LINIEN_ID            1501831 non-null  object\n",
      " 7   LINIEN_TEXT          1501831 non-null  object\n",
      " 8   UMLAUF_ID            688303 non-null   object\n",
      " 9   VERKEHRSMITTEL_TEXT  1501831 non-null  object\n",
      " 10  ZUSATZFAHRT_TF       1501831 non-null  bool  \n",
      " 11  FAELLT_AUS_TF        1501831 non-null  bool  \n",
      " 12  BPUIC                1501831 non-null  int64 \n",
      " 13  HALTESTELLEN_NAME    1389616 non-null  object\n",
      " 14  ANKUNFTSZEIT         1413665 non-null  object\n",
      " 15  AN_PROGNOSE          1404772 non-null  object\n",
      " 16  AN_PROGNOSE_STATUS   1413735 non-null  object\n",
      " 17  ABFAHRTSZEIT         1413727 non-null  object\n",
      " 18  AB_PROGNOSE          1404403 non-null  object\n",
      " 19  AB_PROGNOSE_STATUS   1413854 non-null  object\n",
      " 20  DURCHFAHRT_TF        1501831 non-null  bool  \n",
      "dtypes: bool(3), int64(1), object(17)\n",
      "memory usage: 210.5+ MB\n"
     ]
    },
    {
     "data": {
      "text/plain": [
       "None"
      ]
     },
     "metadata": {},
     "output_type": "display_data"
    }
   ],
   "source": [
    "display(df_verkehr_raw.info())"
   ]
  },
  {
   "cell_type": "markdown",
   "metadata": {},
   "source": [
    "Sparten welche offensichtlich nicht zur Analyse beitragen werden entfernt:\n",
    "- **BETRIEBSTAG:** *Das Datum ist bereits in der Abfahrtszeit enthalten – daher überflüssig*\n",
    "- **FAHRT_BEZEICHNER:** *Numerische Bezeichnung der Fahrt, die für die Analyse keinen Mehrwert bietet*\n",
    "- **BETREIBER_ID:** *Numerische ID des Betreibers, redundant da BETREIBER_ABK ausreichend ist*\n",
    "- **BETREIBER_NAME:** *Vollständiger Name des Betreibers, ebenfalls durch BETREIBER_ABK abgedeckt*\n",
    "- **LINIEN_ID:** *Numerischer Identifikator der Linie, wobei LINIEN_TEXT klarere Informationen liefert*\n",
    "- **UMLAUF_ID:** *Numerische Fahrtbezeichnung, die für die Analyse nicht relevant ist*\n",
    "- **VERKEHRSMITTEL_TEXT:** *Abkürzung zu PRODUKT_ID – somit nicht erforderlich*\n",
    "- **BPUIC:** *Nicht aussagekräftig für die Analyse*\n",
    "- **ANKUNFTSZEIT:** *Wird nicht betrachtet, da ausschließlich Abfahrtszeiten relevant sind*\n",
    "- **AN_PROGNOSE:** *Nicht genutzt, da nur Abfahrtszeiten im Fokus stehen*\n",
    "- **AN_PROGNOSE_STATUS:** *Status der Ankunftsprognose wird nicht analysiert – daher entbehrlich*\n"
   ]
  },
  {
   "cell_type": "code",
   "execution_count": 53,
   "metadata": {},
   "outputs": [
    {
     "data": {
      "application/vnd.microsoft.datawrangler.viewer.v0+json": {
       "columns": [
        {
         "name": "index",
         "rawType": "int64",
         "type": "integer"
        },
        {
         "name": "BETREIBER_ABK",
         "rawType": "object",
         "type": "string"
        },
        {
         "name": "PRODUKT_ID",
         "rawType": "object",
         "type": "string"
        },
        {
         "name": "LINIEN_TEXT",
         "rawType": "object",
         "type": "string"
        },
        {
         "name": "ZUSATZFAHRT_TF",
         "rawType": "bool",
         "type": "boolean"
        },
        {
         "name": "FAELLT_AUS_TF",
         "rawType": "bool",
         "type": "boolean"
        },
        {
         "name": "HALTESTELLEN_NAME",
         "rawType": "object",
         "type": "string"
        },
        {
         "name": "ABFAHRTSZEIT",
         "rawType": "object",
         "type": "unknown"
        },
        {
         "name": "AB_PROGNOSE",
         "rawType": "object",
         "type": "unknown"
        },
        {
         "name": "AB_PROGNOSE_STATUS",
         "rawType": "object",
         "type": "unknown"
        },
        {
         "name": "DURCHFAHRT_TF",
         "rawType": "bool",
         "type": "boolean"
        }
       ],
       "conversionMethod": "pd.DataFrame",
       "ref": "f45b5755-4cff-44b9-bce8-8e44f59e3d86",
       "rows": [
        [
         "0",
         "DB",
         "Zug",
         "RB",
         "True",
         "True",
         "Basel Bad Bf",
         "01.01.2024 01:05",
         null,
         "UNBEKANNT",
         "False"
        ],
        [
         "1",
         "DB",
         "Zug",
         "RB",
         "True",
         "False",
         "Basel Bad Bf",
         "01.01.2024 01:05",
         "01.01.2024 01:06:00",
         "PROGNOSE",
         "False"
        ],
        [
         "2",
         "DB",
         "Zug",
         "RB",
         "False",
         "False",
         "Basel Bad Bf",
         null,
         null,
         null,
         "False"
        ],
        [
         "3",
         "DB",
         "Zug",
         "RB",
         "False",
         "False",
         "Basel Bad Bf",
         "01.01.2024 07:53",
         "01.01.2024 07:53:00",
         "PROGNOSE",
         "False"
        ],
        [
         "4",
         "DB",
         "Zug",
         "RB",
         "False",
         "False",
         "Basel Bad Bf",
         "01.01.2024 08:53",
         "01.01.2024 08:54:00",
         "PROGNOSE",
         "False"
        ]
       ],
       "shape": {
        "columns": 10,
        "rows": 5
       }
      },
      "text/html": [
       "<div>\n",
       "<style scoped>\n",
       "    .dataframe tbody tr th:only-of-type {\n",
       "        vertical-align: middle;\n",
       "    }\n",
       "\n",
       "    .dataframe tbody tr th {\n",
       "        vertical-align: top;\n",
       "    }\n",
       "\n",
       "    .dataframe thead th {\n",
       "        text-align: right;\n",
       "    }\n",
       "</style>\n",
       "<table border=\"1\" class=\"dataframe\">\n",
       "  <thead>\n",
       "    <tr style=\"text-align: right;\">\n",
       "      <th></th>\n",
       "      <th>BETREIBER_ABK</th>\n",
       "      <th>PRODUKT_ID</th>\n",
       "      <th>LINIEN_TEXT</th>\n",
       "      <th>ZUSATZFAHRT_TF</th>\n",
       "      <th>FAELLT_AUS_TF</th>\n",
       "      <th>HALTESTELLEN_NAME</th>\n",
       "      <th>ABFAHRTSZEIT</th>\n",
       "      <th>AB_PROGNOSE</th>\n",
       "      <th>AB_PROGNOSE_STATUS</th>\n",
       "      <th>DURCHFAHRT_TF</th>\n",
       "    </tr>\n",
       "  </thead>\n",
       "  <tbody>\n",
       "    <tr>\n",
       "      <th>0</th>\n",
       "      <td>DB</td>\n",
       "      <td>Zug</td>\n",
       "      <td>RB</td>\n",
       "      <td>True</td>\n",
       "      <td>True</td>\n",
       "      <td>Basel Bad Bf</td>\n",
       "      <td>01.01.2024 01:05</td>\n",
       "      <td>NaN</td>\n",
       "      <td>UNBEKANNT</td>\n",
       "      <td>False</td>\n",
       "    </tr>\n",
       "    <tr>\n",
       "      <th>1</th>\n",
       "      <td>DB</td>\n",
       "      <td>Zug</td>\n",
       "      <td>RB</td>\n",
       "      <td>True</td>\n",
       "      <td>False</td>\n",
       "      <td>Basel Bad Bf</td>\n",
       "      <td>01.01.2024 01:05</td>\n",
       "      <td>01.01.2024 01:06:00</td>\n",
       "      <td>PROGNOSE</td>\n",
       "      <td>False</td>\n",
       "    </tr>\n",
       "    <tr>\n",
       "      <th>2</th>\n",
       "      <td>DB</td>\n",
       "      <td>Zug</td>\n",
       "      <td>RB</td>\n",
       "      <td>False</td>\n",
       "      <td>False</td>\n",
       "      <td>Basel Bad Bf</td>\n",
       "      <td>NaN</td>\n",
       "      <td>NaN</td>\n",
       "      <td>NaN</td>\n",
       "      <td>False</td>\n",
       "    </tr>\n",
       "    <tr>\n",
       "      <th>3</th>\n",
       "      <td>DB</td>\n",
       "      <td>Zug</td>\n",
       "      <td>RB</td>\n",
       "      <td>False</td>\n",
       "      <td>False</td>\n",
       "      <td>Basel Bad Bf</td>\n",
       "      <td>01.01.2024 07:53</td>\n",
       "      <td>01.01.2024 07:53:00</td>\n",
       "      <td>PROGNOSE</td>\n",
       "      <td>False</td>\n",
       "    </tr>\n",
       "    <tr>\n",
       "      <th>4</th>\n",
       "      <td>DB</td>\n",
       "      <td>Zug</td>\n",
       "      <td>RB</td>\n",
       "      <td>False</td>\n",
       "      <td>False</td>\n",
       "      <td>Basel Bad Bf</td>\n",
       "      <td>01.01.2024 08:53</td>\n",
       "      <td>01.01.2024 08:54:00</td>\n",
       "      <td>PROGNOSE</td>\n",
       "      <td>False</td>\n",
       "    </tr>\n",
       "  </tbody>\n",
       "</table>\n",
       "</div>"
      ],
      "text/plain": [
       "  BETREIBER_ABK PRODUKT_ID LINIEN_TEXT  ZUSATZFAHRT_TF  FAELLT_AUS_TF  \\\n",
       "0            DB        Zug          RB            True           True   \n",
       "1            DB        Zug          RB            True          False   \n",
       "2            DB        Zug          RB           False          False   \n",
       "3            DB        Zug          RB           False          False   \n",
       "4            DB        Zug          RB           False          False   \n",
       "\n",
       "  HALTESTELLEN_NAME      ABFAHRTSZEIT          AB_PROGNOSE AB_PROGNOSE_STATUS  \\\n",
       "0      Basel Bad Bf  01.01.2024 01:05                  NaN          UNBEKANNT   \n",
       "1      Basel Bad Bf  01.01.2024 01:05  01.01.2024 01:06:00           PROGNOSE   \n",
       "2      Basel Bad Bf               NaN                  NaN                NaN   \n",
       "3      Basel Bad Bf  01.01.2024 07:53  01.01.2024 07:53:00           PROGNOSE   \n",
       "4      Basel Bad Bf  01.01.2024 08:53  01.01.2024 08:54:00           PROGNOSE   \n",
       "\n",
       "   DURCHFAHRT_TF  \n",
       "0          False  \n",
       "1          False  \n",
       "2          False  \n",
       "3          False  \n",
       "4          False  "
      ]
     },
     "metadata": {},
     "output_type": "display_data"
    }
   ],
   "source": [
    "df_verkehr = df_verkehr_raw.drop(columns=[\"BETRIEBSTAG\", \"FAHRT_BEZEICHNER\", \"BETREIBER_ID\", \"BETREIBER_NAME\", \"LINIEN_ID\", \"UMLAUF_ID\", \"VERKEHRSMITTEL_TEXT\", \"BPUIC\", \"ANKUNFTSZEIT\", \"AN_PROGNOSE\", \"AN_PROGNOSE_STATUS\"])\n",
    "display(df_verkehr.head())"
   ]
  },
  {
   "cell_type": "markdown",
   "metadata": {},
   "source": [
    "Filtern nach Daten der Zürcher Verkehrsbetriebe (VBZ) mit anschliessender Kontrolle und löschung der Spalte"
   ]
  },
  {
   "cell_type": "code",
   "execution_count": null,
   "metadata": {},
   "outputs": [
    {
     "data": {
      "text/plain": [
       "BETREIBER_ABK\n",
       "VBZ           90362\n",
       "VBZ    Fpl    69637\n",
       "Name: count, dtype: int64"
      ]
     },
     "metadata": {},
     "output_type": "display_data"
    }
   ],
   "source": [
    "filter_betreiber = df_verkehr[\"BETREIBER_ABK\"].astype(str).str.contains(\"VBZ\", na=False)\n",
    "df_verkehr_vbz = df_verkehr[filter_betreiber]\n",
    "\n",
    "display(df_verkehr_vbz[\"BETREIBER_ABK\"].value_counts()) #Kontrollen, ob nur VBZ drin sind\n",
    "\n",
    "df_verkehr_vbz = df_verkehr_vbz.drop(columns=[\"BETREIBER_ABK\"])\n"
   ]
  },
  {
   "cell_type": "markdown",
   "metadata": {},
   "source": [
    "Analyse spezifischer Spalten auf ihre relevanz"
   ]
  },
  {
   "cell_type": "code",
   "execution_count": null,
   "metadata": {},
   "outputs": [
    {
     "name": "stdout",
     "output_type": "stream",
     "text": [
      "AB_PROGNOSE_STATUS\n",
      "REAL          148627\n",
      "PROGNOSE        1654\n",
      "GESCHAETZT      1007\n",
      "UNBEKANNT        313\n",
      "Name: count, dtype: int64\n",
      "ZUSATZFAHRT_TF\n",
      "False    0.9876\n",
      "True     0.0124\n",
      "Name: count, dtype: float64\n",
      "FAELLT_AUS_TF\n",
      "False    0.9725\n",
      "True     0.0275\n",
      "Name: count, dtype: float64\n",
      "DURCHFAHRT_TF\n",
      "False    1.0\n",
      "Name: count, dtype: float64\n",
      "PRODUKT_ID\n",
      "Bus     90362\n",
      "Tram    69637\n",
      "Name: count, dtype: int64\n"
     ]
    }
   ],
   "source": [
    "print(df_verkehr_vbz[\"AB_PROGNOSE_STATUS\"].value_counts())\n",
    "print((df_verkehr_vbz[\"ZUSATZFAHRT_TF\"].value_counts() / len(df_verkehr_vbz)).round(4))\n",
    "print((df_verkehr_vbz[\"FAELLT_AUS_TF\"].value_counts() / len(df_verkehr_vbz)).round(4))\n",
    "print(df_verkehr_vbz[\"DURCHFAHRT_TF\"].value_counts() / len(df_verkehr_vbz))\n",
    "print(df_verkehr_vbz[\"PRODUKT_ID\"].value_counts())\n",
    "#pberarbeiten"
   ]
  },
  {
   "cell_type": "markdown",
   "metadata": {},
   "source": [
    "ZUSATZFAHRT und FAELLT_AUS haben einen TRUE Gehalt von 1.25 respektive 2.75%. Da dies eine relativ geringe grösse ist werden diese Eintröge als nicht relevant angesehen und gelöscht. Da es im VBZ-Netz scheinbar keine Durchfahrten gibt oder diese Werte nur sehr klein sind wird diese Spalte ebenfalls gelöscht. Der Prognose Status der Abfahrtszeit wird zudem nach Real und Geschätzt gefiltert da alle anderen aten nicht relevant für die Analyse sind (siehe Cookbook)"
   ]
  },
  {
   "cell_type": "code",
   "execution_count": 56,
   "metadata": {},
   "outputs": [
    {
     "data": {
      "application/vnd.microsoft.datawrangler.viewer.v0+json": {
       "columns": [
        {
         "name": "index",
         "rawType": "int64",
         "type": "integer"
        },
        {
         "name": "PRODUKT_ID",
         "rawType": "object",
         "type": "string"
        },
        {
         "name": "LINIEN_TEXT",
         "rawType": "object",
         "type": "string"
        },
        {
         "name": "HALTESTELLEN_NAME",
         "rawType": "object",
         "type": "string"
        },
        {
         "name": "ABFAHRTSZEIT",
         "rawType": "object",
         "type": "string"
        },
        {
         "name": "AB_PROGNOSE",
         "rawType": "object",
         "type": "string"
        },
        {
         "name": "AB_PROGNOSE_STATUS",
         "rawType": "object",
         "type": "string"
        }
       ],
       "conversionMethod": "pd.DataFrame",
       "ref": "65de4151-80d6-4627-a95e-84a05e1b646d",
       "rows": [
        [
         "262646",
         "Tram",
         "2",
         "Zürich,Kalkbreite/Bhf.Wiedikon",
         "01.01.2024 04:51",
         "01.01.2024 04:52:03",
         "REAL"
        ],
        [
         "262647",
         "Tram",
         "2",
         "Zürich, Bezirksgebäude",
         "01.01.2024 04:52",
         "01.01.2024 04:53:27",
         "REAL"
        ],
        [
         "262648",
         "Tram",
         "2",
         "Zürich, Stauffacher",
         "01.01.2024 04:54",
         "01.01.2024 04:55:26",
         "REAL"
        ],
        [
         "262649",
         "Tram",
         "2",
         "Zürich, Sihlstrasse",
         "01.01.2024 04:55",
         "01.01.2024 04:57:26",
         "REAL"
        ],
        [
         "262650",
         "Tram",
         "2",
         "Zürich, Paradeplatz",
         "01.01.2024 04:57",
         "01.01.2024 04:59:19",
         "REAL"
        ]
       ],
       "shape": {
        "columns": 6,
        "rows": 5
       }
      },
      "text/html": [
       "<div>\n",
       "<style scoped>\n",
       "    .dataframe tbody tr th:only-of-type {\n",
       "        vertical-align: middle;\n",
       "    }\n",
       "\n",
       "    .dataframe tbody tr th {\n",
       "        vertical-align: top;\n",
       "    }\n",
       "\n",
       "    .dataframe thead th {\n",
       "        text-align: right;\n",
       "    }\n",
       "</style>\n",
       "<table border=\"1\" class=\"dataframe\">\n",
       "  <thead>\n",
       "    <tr style=\"text-align: right;\">\n",
       "      <th></th>\n",
       "      <th>PRODUKT_ID</th>\n",
       "      <th>LINIEN_TEXT</th>\n",
       "      <th>HALTESTELLEN_NAME</th>\n",
       "      <th>ABFAHRTSZEIT</th>\n",
       "      <th>AB_PROGNOSE</th>\n",
       "      <th>AB_PROGNOSE_STATUS</th>\n",
       "    </tr>\n",
       "  </thead>\n",
       "  <tbody>\n",
       "    <tr>\n",
       "      <th>262646</th>\n",
       "      <td>Tram</td>\n",
       "      <td>2</td>\n",
       "      <td>Zürich,Kalkbreite/Bhf.Wiedikon</td>\n",
       "      <td>01.01.2024 04:51</td>\n",
       "      <td>01.01.2024 04:52:03</td>\n",
       "      <td>REAL</td>\n",
       "    </tr>\n",
       "    <tr>\n",
       "      <th>262647</th>\n",
       "      <td>Tram</td>\n",
       "      <td>2</td>\n",
       "      <td>Zürich, Bezirksgebäude</td>\n",
       "      <td>01.01.2024 04:52</td>\n",
       "      <td>01.01.2024 04:53:27</td>\n",
       "      <td>REAL</td>\n",
       "    </tr>\n",
       "    <tr>\n",
       "      <th>262648</th>\n",
       "      <td>Tram</td>\n",
       "      <td>2</td>\n",
       "      <td>Zürich, Stauffacher</td>\n",
       "      <td>01.01.2024 04:54</td>\n",
       "      <td>01.01.2024 04:55:26</td>\n",
       "      <td>REAL</td>\n",
       "    </tr>\n",
       "    <tr>\n",
       "      <th>262649</th>\n",
       "      <td>Tram</td>\n",
       "      <td>2</td>\n",
       "      <td>Zürich, Sihlstrasse</td>\n",
       "      <td>01.01.2024 04:55</td>\n",
       "      <td>01.01.2024 04:57:26</td>\n",
       "      <td>REAL</td>\n",
       "    </tr>\n",
       "    <tr>\n",
       "      <th>262650</th>\n",
       "      <td>Tram</td>\n",
       "      <td>2</td>\n",
       "      <td>Zürich, Paradeplatz</td>\n",
       "      <td>01.01.2024 04:57</td>\n",
       "      <td>01.01.2024 04:59:19</td>\n",
       "      <td>REAL</td>\n",
       "    </tr>\n",
       "  </tbody>\n",
       "</table>\n",
       "</div>"
      ],
      "text/plain": [
       "       PRODUKT_ID LINIEN_TEXT               HALTESTELLEN_NAME  \\\n",
       "262646       Tram           2  Zürich,Kalkbreite/Bhf.Wiedikon   \n",
       "262647       Tram           2          Zürich, Bezirksgebäude   \n",
       "262648       Tram           2             Zürich, Stauffacher   \n",
       "262649       Tram           2             Zürich, Sihlstrasse   \n",
       "262650       Tram           2             Zürich, Paradeplatz   \n",
       "\n",
       "            ABFAHRTSZEIT          AB_PROGNOSE AB_PROGNOSE_STATUS  \n",
       "262646  01.01.2024 04:51  01.01.2024 04:52:03               REAL  \n",
       "262647  01.01.2024 04:52  01.01.2024 04:53:27               REAL  \n",
       "262648  01.01.2024 04:54  01.01.2024 04:55:26               REAL  \n",
       "262649  01.01.2024 04:55  01.01.2024 04:57:26               REAL  \n",
       "262650  01.01.2024 04:57  01.01.2024 04:59:19               REAL  "
      ]
     },
     "metadata": {},
     "output_type": "display_data"
    }
   ],
   "source": [
    "filter_status = df_verkehr_vbz[\"AB_PROGNOSE_STATUS\"].astype(str).str.contains(\"REAL|GESCHAETZT\", na=False)\n",
    "\n",
    "filter_faellt_aus = df_verkehr_vbz[\"FAELLT_AUS_TF\"] == False\n",
    "filter_zusatzfahrt = df_verkehr_vbz[\"ZUSATZFAHRT_TF\"] == False\n",
    "filter_durchfahrt = df_verkehr_vbz[\"DURCHFAHRT_TF\"] == False\n",
    "df_verkehr_vbz = df_verkehr_vbz[filter_status & filter_faellt_aus & filter_zusatzfahrt & filter_durchfahrt]\n",
    "\n",
    "df_verkehr_vbz = df_verkehr_vbz.drop(columns=[\"ZUSATZFAHRT_TF\", \"FAELLT_AUS_TF\", \"DURCHFAHRT_TF\"])\n",
    "\n",
    "display(df_verkehr_vbz.head())"
   ]
  },
  {
   "cell_type": "markdown",
   "metadata": {},
   "source": [
    "Analyse der Verkehrsmittel und Linien"
   ]
  },
  {
   "cell_type": "code",
   "execution_count": 57,
   "metadata": {},
   "outputs": [
    {
     "name": "stdout",
     "output_type": "stream",
     "text": [
      "PRODUKT_ID\n",
      "Bus     83866\n",
      "Tram    61525\n",
      "Name: count, dtype: int64\n",
      "['2' '3' '4' '5' '6' '7' '8' '9' '10' '11' '12' '13' '14' '15' '17' '31'\n",
      " '32' '33' '35' '37' '38' '39' '40' '46' '61' '62' '64' '66' '67' '69'\n",
      " '70' '72' '73' '75' '77' '78' '80' 'EV' '89' '91' '99' '161' '163' '165'\n",
      " '184' '185' '301' '302' '304' '305' '306' '307' '309' '314' '317' '325'\n",
      " '701' '704' '743' '751' '910' '916' '919']\n"
     ]
    }
   ],
   "source": [
    "print(df_verkehr_vbz[\"PRODUKT_ID\"].value_counts())\n",
    "print(df_verkehr_vbz[\"LINIEN_TEXT\"].unique())"
   ]
  },
  {
   "cell_type": "markdown",
   "metadata": {},
   "source": [
    "Nach Tram filtern um klaren Fokus für die Aufgabe zu schaffen"
   ]
  },
  {
   "cell_type": "code",
   "execution_count": null,
   "metadata": {},
   "outputs": [
    {
     "data": {
      "application/vnd.microsoft.datawrangler.viewer.v0+json": {
       "columns": [
        {
         "name": "index",
         "rawType": "int64",
         "type": "integer"
        },
        {
         "name": "LINIEN_TEXT",
         "rawType": "object",
         "type": "string"
        },
        {
         "name": "HALTESTELLEN_NAME",
         "rawType": "object",
         "type": "string"
        },
        {
         "name": "ABFAHRTSZEIT",
         "rawType": "object",
         "type": "string"
        },
        {
         "name": "AB_PROGNOSE",
         "rawType": "object",
         "type": "string"
        },
        {
         "name": "AB_PROGNOSE_STATUS",
         "rawType": "object",
         "type": "string"
        }
       ],
       "conversionMethod": "pd.DataFrame",
       "ref": "aecc6d5b-d663-478b-986d-95eb0e6536ca",
       "rows": [
        [
         "262646",
         "2",
         "Zürich,Kalkbreite/Bhf.Wiedikon",
         "01.01.2024 04:51",
         "01.01.2024 04:52:03",
         "REAL"
        ],
        [
         "262647",
         "2",
         "Zürich, Bezirksgebäude",
         "01.01.2024 04:52",
         "01.01.2024 04:53:27",
         "REAL"
        ],
        [
         "262648",
         "2",
         "Zürich, Stauffacher",
         "01.01.2024 04:54",
         "01.01.2024 04:55:26",
         "REAL"
        ],
        [
         "262649",
         "2",
         "Zürich, Sihlstrasse",
         "01.01.2024 04:55",
         "01.01.2024 04:57:26",
         "REAL"
        ],
        [
         "262650",
         "2",
         "Zürich, Paradeplatz",
         "01.01.2024 04:57",
         "01.01.2024 04:59:19",
         "REAL"
        ]
       ],
       "shape": {
        "columns": 5,
        "rows": 5
       }
      },
      "text/html": [
       "<div>\n",
       "<style scoped>\n",
       "    .dataframe tbody tr th:only-of-type {\n",
       "        vertical-align: middle;\n",
       "    }\n",
       "\n",
       "    .dataframe tbody tr th {\n",
       "        vertical-align: top;\n",
       "    }\n",
       "\n",
       "    .dataframe thead th {\n",
       "        text-align: right;\n",
       "    }\n",
       "</style>\n",
       "<table border=\"1\" class=\"dataframe\">\n",
       "  <thead>\n",
       "    <tr style=\"text-align: right;\">\n",
       "      <th></th>\n",
       "      <th>LINIEN_TEXT</th>\n",
       "      <th>HALTESTELLEN_NAME</th>\n",
       "      <th>ABFAHRTSZEIT</th>\n",
       "      <th>AB_PROGNOSE</th>\n",
       "      <th>AB_PROGNOSE_STATUS</th>\n",
       "    </tr>\n",
       "  </thead>\n",
       "  <tbody>\n",
       "    <tr>\n",
       "      <th>262646</th>\n",
       "      <td>2</td>\n",
       "      <td>Zürich,Kalkbreite/Bhf.Wiedikon</td>\n",
       "      <td>01.01.2024 04:51</td>\n",
       "      <td>01.01.2024 04:52:03</td>\n",
       "      <td>REAL</td>\n",
       "    </tr>\n",
       "    <tr>\n",
       "      <th>262647</th>\n",
       "      <td>2</td>\n",
       "      <td>Zürich, Bezirksgebäude</td>\n",
       "      <td>01.01.2024 04:52</td>\n",
       "      <td>01.01.2024 04:53:27</td>\n",
       "      <td>REAL</td>\n",
       "    </tr>\n",
       "    <tr>\n",
       "      <th>262648</th>\n",
       "      <td>2</td>\n",
       "      <td>Zürich, Stauffacher</td>\n",
       "      <td>01.01.2024 04:54</td>\n",
       "      <td>01.01.2024 04:55:26</td>\n",
       "      <td>REAL</td>\n",
       "    </tr>\n",
       "    <tr>\n",
       "      <th>262649</th>\n",
       "      <td>2</td>\n",
       "      <td>Zürich, Sihlstrasse</td>\n",
       "      <td>01.01.2024 04:55</td>\n",
       "      <td>01.01.2024 04:57:26</td>\n",
       "      <td>REAL</td>\n",
       "    </tr>\n",
       "    <tr>\n",
       "      <th>262650</th>\n",
       "      <td>2</td>\n",
       "      <td>Zürich, Paradeplatz</td>\n",
       "      <td>01.01.2024 04:57</td>\n",
       "      <td>01.01.2024 04:59:19</td>\n",
       "      <td>REAL</td>\n",
       "    </tr>\n",
       "  </tbody>\n",
       "</table>\n",
       "</div>"
      ],
      "text/plain": [
       "       LINIEN_TEXT               HALTESTELLEN_NAME      ABFAHRTSZEIT  \\\n",
       "262646           2  Zürich,Kalkbreite/Bhf.Wiedikon  01.01.2024 04:51   \n",
       "262647           2          Zürich, Bezirksgebäude  01.01.2024 04:52   \n",
       "262648           2             Zürich, Stauffacher  01.01.2024 04:54   \n",
       "262649           2             Zürich, Sihlstrasse  01.01.2024 04:55   \n",
       "262650           2             Zürich, Paradeplatz  01.01.2024 04:57   \n",
       "\n",
       "                AB_PROGNOSE AB_PROGNOSE_STATUS  \n",
       "262646  01.01.2024 04:52:03               REAL  \n",
       "262647  01.01.2024 04:53:27               REAL  \n",
       "262648  01.01.2024 04:55:26               REAL  \n",
       "262649  01.01.2024 04:57:26               REAL  \n",
       "262650  01.01.2024 04:59:19               REAL  "
      ]
     },
     "metadata": {},
     "output_type": "display_data"
    }
   ],
   "source": [
    "filter_produkt = df_verkehr_vbz[\"PRODUKT_ID\"]==\"Tram\"\n",
    "df_verkehr_vbz = df_verkehr_vbz[filter_produkt]\n",
    "print(df_verkehr_vbz[\"PRODUKT_ID\"].unique))\n",
    "\n",
    "df_verkehr_vbz = df_verkehr_vbz.drop(columns=[\"PRODUKT_ID\"])\n",
    "\n",
    "display(df_verkehr_vbz.head())"
   ]
  },
  {
   "cell_type": "markdown",
   "metadata": {},
   "source": [
    "Datentypen anpassen"
   ]
  },
  {
   "cell_type": "code",
   "execution_count": 59,
   "metadata": {},
   "outputs": [
    {
     "name": "stdout",
     "output_type": "stream",
     "text": [
      "<class 'pandas.core.frame.DataFrame'>\n",
      "Index: 61525 entries, 262646 to 332281\n",
      "Data columns (total 5 columns):\n",
      " #   Column              Non-Null Count  Dtype         \n",
      "---  ------              --------------  -----         \n",
      " 0   LINIEN_TEXT         61525 non-null  object        \n",
      " 1   HALTESTELLEN_NAME   61525 non-null  object        \n",
      " 2   ABFAHRTSZEIT        61525 non-null  datetime64[ns]\n",
      " 3   AB_PROGNOSE         61525 non-null  datetime64[ns]\n",
      " 4   AB_PROGNOSE_STATUS  61525 non-null  object        \n",
      "dtypes: datetime64[ns](2), object(3)\n",
      "memory usage: 2.8+ MB\n"
     ]
    },
    {
     "data": {
      "text/plain": [
       "None"
      ]
     },
     "metadata": {},
     "output_type": "display_data"
    }
   ],
   "source": [
    "df_verkehr_vbz[\"ABFAHRTSZEIT\"] = pd.to_datetime(df_verkehr_vbz[\"ABFAHRTSZEIT\"]+ \":00\", dayfirst=True)\n",
    "df_verkehr_vbz[\"AB_PROGNOSE\"] = pd.to_datetime(df_verkehr_vbz[\"AB_PROGNOSE\"], dayfirst=True)\n",
    "\n",
    "display(df_verkehr_vbz.info())"
   ]
  },
  {
   "cell_type": "markdown",
   "metadata": {},
   "source": [
    "Aus den erkenntnissen der Tagesdaten wird nachfolgend ein Code erstellt der die Datensätze von einem Jahr zusmmenführt. Dabei werden die gleichen Methoden wie oben angewendet"
   ]
  },
  {
   "cell_type": "code",
   "execution_count": null,
   "metadata": {},
   "outputs": [
    {
     "data": {
      "application/vnd.microsoft.datawrangler.viewer.v0+json": {
       "columns": [
        {
         "name": "index",
         "rawType": "int64",
         "type": "integer"
        },
        {
         "name": "LINIEN_TEXT",
         "rawType": "object",
         "type": "string"
        },
        {
         "name": "HALTESTELLEN_NAME",
         "rawType": "object",
         "type": "string"
        },
        {
         "name": "ABFAHRTSZEIT",
         "rawType": "datetime64[ns]",
         "type": "datetime"
        },
        {
         "name": "AB_PROGNOSE",
         "rawType": "datetime64[ns]",
         "type": "datetime"
        },
        {
         "name": "AB_PROGNOSE_STATUS",
         "rawType": "object",
         "type": "string"
        }
       ],
       "conversionMethod": "pd.DataFrame",
       "ref": "5b7efa55-211a-4ffd-a980-d8bb6c863a8d",
       "rows": [
        [
         "269250",
         "2",
         "Zürich, Kappeli",
         "2024-07-28 17:00:00",
         "2024-07-28 17:01:48",
         "REAL"
        ],
        [
         "269251",
         "2",
         "Zürich, Freihofstrasse",
         "2024-07-28 17:01:00",
         "2024-07-28 17:02:53",
         "REAL"
        ],
        [
         "269252",
         "2",
         "Zürich, Letzigrund",
         "2024-07-28 17:03:00",
         "2024-07-28 17:04:11",
         "REAL"
        ],
        [
         "269253",
         "2",
         "Zürich, Albisriederplatz",
         "2024-07-28 17:04:00",
         "2024-07-28 17:05:34",
         "REAL"
        ],
        [
         "269254",
         "2",
         "Zürich, Zypressenstrasse",
         "2024-07-28 17:05:00",
         "2024-07-28 17:07:04",
         "REAL"
        ]
       ],
       "shape": {
        "columns": 5,
        "rows": 5
       }
      },
      "text/html": [
       "<div>\n",
       "<style scoped>\n",
       "    .dataframe tbody tr th:only-of-type {\n",
       "        vertical-align: middle;\n",
       "    }\n",
       "\n",
       "    .dataframe tbody tr th {\n",
       "        vertical-align: top;\n",
       "    }\n",
       "\n",
       "    .dataframe thead th {\n",
       "        text-align: right;\n",
       "    }\n",
       "</style>\n",
       "<table border=\"1\" class=\"dataframe\">\n",
       "  <thead>\n",
       "    <tr style=\"text-align: right;\">\n",
       "      <th></th>\n",
       "      <th>LINIEN_TEXT</th>\n",
       "      <th>HALTESTELLEN_NAME</th>\n",
       "      <th>ABFAHRTSZEIT</th>\n",
       "      <th>AB_PROGNOSE</th>\n",
       "      <th>AB_PROGNOSE_STATUS</th>\n",
       "    </tr>\n",
       "  </thead>\n",
       "  <tbody>\n",
       "    <tr>\n",
       "      <th>269250</th>\n",
       "      <td>2</td>\n",
       "      <td>Zürich, Kappeli</td>\n",
       "      <td>2024-07-28 17:00:00</td>\n",
       "      <td>2024-07-28 17:01:48</td>\n",
       "      <td>REAL</td>\n",
       "    </tr>\n",
       "    <tr>\n",
       "      <th>269251</th>\n",
       "      <td>2</td>\n",
       "      <td>Zürich, Freihofstrasse</td>\n",
       "      <td>2024-07-28 17:01:00</td>\n",
       "      <td>2024-07-28 17:02:53</td>\n",
       "      <td>REAL</td>\n",
       "    </tr>\n",
       "    <tr>\n",
       "      <th>269252</th>\n",
       "      <td>2</td>\n",
       "      <td>Zürich, Letzigrund</td>\n",
       "      <td>2024-07-28 17:03:00</td>\n",
       "      <td>2024-07-28 17:04:11</td>\n",
       "      <td>REAL</td>\n",
       "    </tr>\n",
       "    <tr>\n",
       "      <th>269253</th>\n",
       "      <td>2</td>\n",
       "      <td>Zürich, Albisriederplatz</td>\n",
       "      <td>2024-07-28 17:04:00</td>\n",
       "      <td>2024-07-28 17:05:34</td>\n",
       "      <td>REAL</td>\n",
       "    </tr>\n",
       "    <tr>\n",
       "      <th>269254</th>\n",
       "      <td>2</td>\n",
       "      <td>Zürich, Zypressenstrasse</td>\n",
       "      <td>2024-07-28 17:05:00</td>\n",
       "      <td>2024-07-28 17:07:04</td>\n",
       "      <td>REAL</td>\n",
       "    </tr>\n",
       "  </tbody>\n",
       "</table>\n",
       "</div>"
      ],
      "text/plain": [
       "       LINIEN_TEXT         HALTESTELLEN_NAME        ABFAHRTSZEIT  \\\n",
       "269250           2           Zürich, Kappeli 2024-07-28 17:00:00   \n",
       "269251           2    Zürich, Freihofstrasse 2024-07-28 17:01:00   \n",
       "269252           2        Zürich, Letzigrund 2024-07-28 17:03:00   \n",
       "269253           2  Zürich, Albisriederplatz 2024-07-28 17:04:00   \n",
       "269254           2  Zürich, Zypressenstrasse 2024-07-28 17:05:00   \n",
       "\n",
       "               AB_PROGNOSE AB_PROGNOSE_STATUS  \n",
       "269250 2024-07-28 17:01:48               REAL  \n",
       "269251 2024-07-28 17:02:53               REAL  \n",
       "269252 2024-07-28 17:04:11               REAL  \n",
       "269253 2024-07-28 17:05:34               REAL  \n",
       "269254 2024-07-28 17:07:04               REAL  "
      ]
     },
     "metadata": {},
     "output_type": "display_data"
    }
   ],
   "source": [
    "import glob\n",
    "import os\n",
    "\n",
    "# ----------Individuell Anpassen-----------\n",
    "ordner_pfad = \"/Users/remofankhauser/Verkehrsdaten_2024\" # Ordnerpfad mit den CSV-Dateien\n",
    "# -----------------------------------------\n",
    "\n",
    "csv_dateien = glob.glob(os.path.join(ordner_pfad, \"*.csv\")) # Alle CSV-Dateien im Ordner finden\n",
    "\n",
    "df_list = [] # Liste zum Speichern der DataFrames\n",
    "\n",
    "\n",
    "for datei in csv_dateien:\n",
    "    df = pd.read_csv(datei, sep=None, engine=\"python\")  # Alle CSV-Dateien einlesen\n",
    "\n",
    "    # Nicht benötigte Spalten entfernen\n",
    "    df = df.drop(columns=[\"BETRIEBSTAG\", \"FAHRT_BEZEICHNER\", \"BETREIBER_ID\", \n",
    "                          \"BETREIBER_NAME\", \"LINIEN_ID\", \"UMLAUF_ID\", \n",
    "                          \"VERKEHRSMITTEL_TEXT\", \"BPUIC\", \"ANKUNFTSZEIT\",\n",
    "                          \"AN_PROGNOSE\", \"AN_PROGNOSE_STATUS\"])\n",
    "    \n",
    "\n",
    "    # Filterbedingungen definieren\n",
    "    filter_conditions = (\n",
    "        df[\"BETREIBER_ABK\"].astype(str).str.contains(\"VBZ\", na=False) &\n",
    "        df[\"AB_PROGNOSE_STATUS\"].astype(str).str.contains(\"REAL|GESCHAETZT\", na=False) &\n",
    "        (df[\"ZUSATZFAHRT_TF\"] == False) & #Evtl erst später filtern\n",
    "        (df[\"FAELLT_AUS_TF\"] == False) & #Evtl erst später filtern\n",
    "        (df[\"DURCHFAHRT_TF\"] == False) & #Evtl erst später filtern\n",
    "        df[\"PRODUKT_ID\"].astype(str).str.contains(\"Tram\", na=False)\n",
    "    )\n",
    "\n",
    "    df = df[filter_conditions]\n",
    "\n",
    "    # # Kontrolle der Spalteninhalte\n",
    "    # print(df[\"BETREIBER_ABK\"].unique())\n",
    "    # print(df[\"PRODUKT_ID\"].unique())\n",
    "    # print(df[\"ZUSATZFAHRT_TF\"].unique())\n",
    "    # print(df[\"FAELLT_AUS_TF\"].unique())\n",
    "    # print(df[\"DURCHFAHRT_TF\"].unique())\n",
    "\n",
    "\n",
    "    # Weitere Spalten entfernen\n",
    "    df = df.drop(columns=[\"BETREIBER_ABK\", \"PRODUKT_ID\", \"ZUSATZFAHRT_TF\",\"FAELLT_AUS_TF\", \"DURCHFAHRT_TF\"])\n",
    "\n",
    "\n",
    "    # Datums- und Zeitformat korrekt setzen\n",
    "    df[\"ABFAHRTSZEIT\"] = pd.to_datetime(df[\"ABFAHRTSZEIT\"]+ \":00\", dayfirst=True)# format=\"%d.%m.%Y %H:%M:%S\")\n",
    "    df[\"AB_PROGNOSE\"] = pd.to_datetime(df[\"AB_PROGNOSE\"], dayfirst=True)# format=\"%d.%m.%Y %H:%M:%S\")\n",
    "\n",
    "\n",
    "    # df_list.append(df)\n",
    "    # display(df.head())\n",
    "    # break\n",
    "\n",
    "    if df_list: # prüfen ob df_list leer ist\n",
    "        df_gesamt = pd.concat(df_list, ignore_index=True) # Alle DataFrames zusammenfügen\n",
    "    \n",
    "        df_gesamt = df_gesamt.sort_values(by=\"ABFAHRTSZEIT\").reset_index(drop=True)  # Sortierung nach Abfahrtszeit und Index zurücksetzen\n",
    "\n",
    "        # speicherpfad = os.path.join(ordner_pfad, \"Verkehrs_Daten_2024.csv\") # Speicherpfad definieren\n",
    "        # df_gesamt.to_csv(speicherpfad, index=False) # DataFrame speichern"
   ]
  },
  {
   "cell_type": "code",
   "execution_count": null,
   "metadata": {},
   "outputs": [],
   "source": [
    "df_2024 = pd.read_csv(\"/Users/remofankhauser/Verkehrsdaten_2024/Verkehrs_Daten_2024_red.csv\", sep=None, engine=\"python\")\n",
    "print(df_2024[\"LINIEN_TEXT\"].value_counts())\n",
    "print((df_verkehr_vbz[\"ZUSATZFAHRT_TF\"].value_counts() / len(df_verkehr_vbz)).round(4))\n",
    "print((df_verkehr_vbz[\"FAELLT_AUS_TF\"].value_counts() / len(df_verkehr_vbz)).round(4))\n",
    "print(df_verkehr_vbz[\"DURCHFAHRT_TF\"].value_counts() / len(df_verkehr_vbz))"
   ]
  },
  {
   "cell_type": "code",
   "execution_count": null,
   "metadata": {},
   "outputs": [],
   "source": [
    "filter_linie_10 = df_2024[\"LINIEN_TEXT\"] != \"10\"\n",
    "filter_linie_E = df_2024[\"LINIEN_TEXT\"] != \"E\"\n",
    "\n",
    "df_2024_red = df_2024[filter_linie_10 & filter_linie_E]"
   ]
  },
  {
   "cell_type": "code",
   "execution_count": null,
   "metadata": {},
   "outputs": [],
   "source": [
    "df_2024.drop(columns=[\"ZUSATZFAHRT_TF\", \"FAELLT_AUS_TF\", \"DURCHFAHRT_TF\"], inplace=True)\n",
    "\n",
    "display(df_2024.head())"
   ]
  },
  {
   "cell_type": "markdown",
   "metadata": {},
   "source": [
    "### Wetterdaten"
   ]
  },
  {
   "cell_type": "markdown",
   "metadata": {},
   "source": []
  },
  {
   "cell_type": "code",
   "execution_count": null,
   "metadata": {},
   "outputs": [],
   "source": []
  },
  {
   "cell_type": "markdown",
   "metadata": {},
   "source": [
    "## 3 Datenanalyse"
   ]
  },
  {
   "cell_type": "markdown",
   "metadata": {},
   "source": [
    "## 4 Präsentation der Ergebnisse"
   ]
  },
  {
   "cell_type": "markdown",
   "metadata": {},
   "source": []
  }
 ],
 "metadata": {
  "kernelspec": {
   "display_name": ".venv",
   "language": "python",
   "name": "python3"
  },
  "language_info": {
   "codemirror_mode": {
    "name": "ipython",
    "version": 3
   },
   "file_extension": ".py",
   "mimetype": "text/x-python",
   "name": "python",
   "nbconvert_exporter": "python",
   "pygments_lexer": "ipython3",
   "version": "3.12.9"
  }
 },
 "nbformat": 4,
 "nbformat_minor": 2
}
