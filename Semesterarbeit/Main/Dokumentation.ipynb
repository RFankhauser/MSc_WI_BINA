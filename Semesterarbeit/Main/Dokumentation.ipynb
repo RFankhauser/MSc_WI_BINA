{
  "cells": [
    {
      "cell_type": "markdown",
      "metadata": {},
      "source": [
        "# Analyse von ÖV- und Wetterdaten"
      ]
    },
    {
      "cell_type": "markdown",
      "metadata": {
        "id": "p4A2_nGp7KWm"
      },
      "source": [
        "---\n",
        "## 1 Einleitung\n",
        "\n",
        "Zuverlässigkeit und Pünktlichkeit sind entscheidende Qualitätsmerkmale des öffentlichen Verkehrs. Gerade in einer Stadt wie Zürich, in der das Tramnetz einen wichtigen Bestandteil des städtischen Mobilitätsangebots darstellt, können Verspätungen zu spürbaren Einschränkungen im Alltag der Bevölkerung führen. Neben betrieblichen und infrastrukturellen Faktoren wird vermutet, dass auch das Wetter - wie etwa Regen, Schnee, Sonneneinstrahlung oder Temperaturschwankungen - eine wesentliche Rolle bei der Entstehung von Verspätungen spielt.\n",
        "\n",
        "Im Rahmen der Projektarbeit im Modul \"Business Intelligence and Business Analytics\" soll untersucht werden, ob und inwieweit das Wetter die Pünktlichkeit des Trambetriebs in der Stadt Zürich im Zeitraum von Januar 2023 bis Dezember 2024 beeinflusst hat. Dabei soll nicht nur geprüft werden, ob es statistische signifikante Zusammenhänge gibt, sondern auch, welche Wetterphänomene besonders ausschlaggebend sind und ob sich daraus Muster für zukünftige Entwicklungen ableiten lassen.\n",
        "\n",
        "Die Analyse erfolgt datenbasiert und verknüpft Fahrplandaten der Zürcher Verkehrsbetriebe mit meterologischen Informationen. Ziel ist es, eine fundierte Grundlage für eine Handlungsempfehlung auf Managementebene zu schaffen, die zur Verbesserung der Betriebsführung beitragen können."
      ]
    },
    {
      "cell_type": "markdown",
      "metadata": {
        "id": "49C0nia17KWo"
      },
      "source": [
        "### 1.1 Zielsetzung und Forschungsfragen\n",
        "\n",
        "Das Hauptziel dieser Arbeit besteht darin, den Einfluss verschiedener Wetterbedingungen auf die Pünktlichkeit des Trambetriebs in der Stadt Zürich systematisch zu analysieren. Durch den Vergleich von Wetter- und Verspätungsdaten für den Zeitraum 2023-2024 sollen belastbare Aussagen darüber getroffen werden, ob und wann wetterbedingte Beeinträchtigungen auftreten.\n",
        "\n",
        "Folgende Forschungsfragen stehen dabei im Mittelpunkt:\n",
        "- Lassen sich statistisch signifikante Zusammenhänge zwischen bestimmten Wetterereignissen und ÖV-Verbindungen identifizieren?\n",
        "- Welche Wetterfaktoren haben den grössten Einfluss auf die Pünktlichkeit?\n",
        "- In welchen Zeiträumen oder auf welchen Linien treten wetterbedingte Verspätungen häufig auf?\n",
        "- Welche praktische Empfehlungen lassen sich aus den - Ergebnissen für die betriebliche Planung und Steuerung ableiten?\n",
        "- ...?"
      ]
    },
    {
      "cell_type": "markdown",
      "metadata": {
        "id": "C5bo9oAT7KWp"
      },
      "source": [
        "### 1.2 Methodisches Vorgehen\n",
        "\n",
        "Das Vorgehen in dieser Arbeit orientiert sich am fünfstufigen Framework zur datenbasierten Entscheidungsfindung nach Bernhard Marr (2020). Es umfasst die Definition des Informationsbedarfs, die Erhebung und Aufbereitung der relevanten Daten, die Durchführung der Analyse sowie die Darstellung der Ergebnisse.\n",
        "\n",
        "Im ersten Schritt werden die Ziele und der Informationsbedarf anhand der definierten Forschungsfragen definiert (Kapitel 1.1).\n",
        "\n",
        "In Kapitel 2 werden die verwendeten Datenquellen vorgestellt, die Datenqualität überprüft und der Prozess der Datenaufbereitung beschrieben. Dabei werden die Wetterdaten der Stadt Zürich und die ÖV-Betriebsdaten des Zürcher Verkehrsbetriebs berücksichtigt.\n",
        "\n",
        "In Kapitel 3 erfolgt die Analyse der Daten, wobei verschieddene statistische Verfahren und Methoden zur Aufdeckung von Zusammenhängen und Mustern eingesetzt werden.\n",
        "\n",
        "Die gewonnenen Erkenntnisse werden in Kapitel 4 in Form von Visualisierungen und einer managementgerechten Ergebnisdarstellung aufbereitet.\n",
        "\n",
        "Ziel ist es, am Ende der Arbeit eine fundierte Datenbasis und erste Handlungsempfehlungen zur Verfügung zu stellen, die als Grundlage für zukünftige Optimierungsmassnahmen des öffentlichen Verkehrs der Stadt Zürich dienen können."
      ]
    },
    {
      "cell_type": "markdown",
      "metadata": {
        "id": "khml1oVW7KWp"
      },
      "source": [
        "---\n",
        "## 2 Daten"
      ]
    },
    {
      "cell_type": "markdown",
      "metadata": {
        "id": "41FLx86_7KWp"
      },
      "source": [
        "### 2.1 Quellen\n",
        "\n",
        "Verkehr\n",
        "\n",
        "\n",
        "Wetter:\n",
        "Die Wetterdaten wurden vom Datenportal IDAweb (https://gate.meteoswiss.ch/idaweb) von MeteoSchweiz bezogen. Das Portal bietet Universitäten, (Fach-)Hochschulen und Schulen die Möglichkeit, Bodenstationsdaten von MeteoSchweiz zu beziehen."
      ]
    },
    {
      "cell_type": "markdown",
      "metadata": {
        "id": "fROzLtcO7KWq"
      },
      "source": [
        "### 2.2 Import, Bereinigung und Transformation"
      ]
    },
    {
      "cell_type": "code",
      "execution_count": 4,
      "metadata": {},
      "outputs": [],
      "source": [
        "import pandas as pd\n",
        "import seaborn as sns\n",
        "import matplotlib.pyplot as plt\n",
        "import numpy as np"
      ]
    },
    {
      "cell_type": "markdown",
      "metadata": {
        "id": "63HvSKJJ7KWq"
      },
      "source": [
        "#### 2.2.1 Verkehrsdaten"
      ]
    },
    {
      "cell_type": "markdown",
      "metadata": {},
      "source": [
        "##### 2.2.1.1 Laden des Datensatz"
      ]
    },
    {
      "cell_type": "markdown",
      "metadata": {},
      "source": [
        "Laden der benötigten Packages für den Import und die Analyse"
      ]
    },
    {
      "cell_type": "markdown",
      "metadata": {
        "id": "Hg9bSZCl7KWq"
      },
      "source": [
        "Laden eines einzelnen Datensatz auf Tagesbasis als Grundlage für die Datenbereinigung"
      ]
    },
    {
      "cell_type": "code",
      "execution_count": null,
      "metadata": {
        "id": "6Ig_caoU7KWr",
        "outputId": "e62a9b71-5837-4eff-b399-1ac0219f8fe7"
      },
      "outputs": [
        {
          "data": {
            "application/vnd.microsoft.datawrangler.viewer.v0+json": {
              "columns": [
                {
                  "name": "index",
                  "rawType": "int64",
                  "type": "integer"
                },
                {
                  "name": "BETRIEBSTAG",
                  "rawType": "object",
                  "type": "string"
                },
                {
                  "name": "FAHRT_BEZEICHNER",
                  "rawType": "object",
                  "type": "string"
                },
                {
                  "name": "BETREIBER_ID",
                  "rawType": "object",
                  "type": "string"
                },
                {
                  "name": "BETREIBER_ABK",
                  "rawType": "object",
                  "type": "string"
                },
                {
                  "name": "BETREIBER_NAME",
                  "rawType": "object",
                  "type": "string"
                },
                {
                  "name": "PRODUKT_ID",
                  "rawType": "object",
                  "type": "string"
                },
                {
                  "name": "LINIEN_ID",
                  "rawType": "object",
                  "type": "string"
                },
                {
                  "name": "LINIEN_TEXT",
                  "rawType": "object",
                  "type": "string"
                },
                {
                  "name": "UMLAUF_ID",
                  "rawType": "object",
                  "type": "unknown"
                },
                {
                  "name": "VERKEHRSMITTEL_TEXT",
                  "rawType": "object",
                  "type": "string"
                },
                {
                  "name": "ZUSATZFAHRT_TF",
                  "rawType": "bool",
                  "type": "boolean"
                },
                {
                  "name": "FAELLT_AUS_TF",
                  "rawType": "bool",
                  "type": "boolean"
                },
                {
                  "name": "BPUIC",
                  "rawType": "int64",
                  "type": "integer"
                },
                {
                  "name": "HALTESTELLEN_NAME",
                  "rawType": "object",
                  "type": "string"
                },
                {
                  "name": "ANKUNFTSZEIT",
                  "rawType": "object",
                  "type": "unknown"
                },
                {
                  "name": "AN_PROGNOSE",
                  "rawType": "object",
                  "type": "unknown"
                },
                {
                  "name": "AN_PROGNOSE_STATUS",
                  "rawType": "object",
                  "type": "unknown"
                },
                {
                  "name": "ABFAHRTSZEIT",
                  "rawType": "object",
                  "type": "unknown"
                },
                {
                  "name": "AB_PROGNOSE",
                  "rawType": "object",
                  "type": "unknown"
                },
                {
                  "name": "AB_PROGNOSE_STATUS",
                  "rawType": "object",
                  "type": "unknown"
                },
                {
                  "name": "DURCHFAHRT_TF",
                  "rawType": "bool",
                  "type": "boolean"
                }
              ],
              "conversionMethod": "pd.DataFrame",
              "ref": "b417a611-dc31-42b0-9cd5-4c49d07c3a2f",
              "rows": [
                [
                  "0",
                  "01.01.2024",
                  "80:06____:17291:000",
                  "80:06____",
                  "DB",
                  "DB Regio AG Baden-Württemberg",
                  "Zug",
                  "17291",
                  "RB",
                  null,
                  "RB",
                  "True",
                  "True",
                  "8500090",
                  "Basel Bad Bf",
                  null,
                  null,
                  "UNBEKANNT",
                  "01.01.2024 01:05",
                  null,
                  "UNBEKANNT",
                  "False"
                ],
                [
                  "1",
                  "01.01.2024",
                  "80:06____:70665:000",
                  "80:06____",
                  "DB",
                  "DB Regio AG Baden-Württemberg",
                  "Zug",
                  "70665",
                  "RB",
                  null,
                  "RB",
                  "True",
                  "False",
                  "8500090",
                  "Basel Bad Bf",
                  null,
                  null,
                  null,
                  "01.01.2024 01:05",
                  "01.01.2024 01:06:00",
                  "PROGNOSE",
                  "False"
                ],
                [
                  "2",
                  "01.01.2024",
                  "80:800631:17238:000",
                  "80:800631",
                  "DB",
                  "DB Regio AG Baden-Württemberg",
                  "Zug",
                  "17238",
                  "RB",
                  null,
                  "RB",
                  "False",
                  "False",
                  "8500090",
                  "Basel Bad Bf",
                  "01.01.2024 07:05",
                  "01.01.2024 07:05:00",
                  "PROGNOSE",
                  null,
                  null,
                  null,
                  "False"
                ],
                [
                  "3",
                  "01.01.2024",
                  "80:800631:17239:000",
                  "80:800631",
                  "DB",
                  "DB Regio AG Baden-Württemberg",
                  "Zug",
                  "17239",
                  "RB",
                  null,
                  "RB",
                  "False",
                  "False",
                  "8500090",
                  "Basel Bad Bf",
                  null,
                  null,
                  null,
                  "01.01.2024 07:53",
                  "01.01.2024 07:53:00",
                  "PROGNOSE",
                  "False"
                ],
                [
                  "4",
                  "01.01.2024",
                  "80:800631:17241:000",
                  "80:800631",
                  "DB",
                  "DB Regio AG Baden-Württemberg",
                  "Zug",
                  "17241",
                  "RB",
                  null,
                  "RB",
                  "False",
                  "False",
                  "8500090",
                  "Basel Bad Bf",
                  null,
                  null,
                  null,
                  "01.01.2024 08:53",
                  "01.01.2024 08:54:00",
                  "PROGNOSE",
                  "False"
                ]
              ],
              "shape": {
                "columns": 21,
                "rows": 5
              }
            },
            "text/html": [
              "<div>\n",
              "<style scoped>\n",
              "    .dataframe tbody tr th:only-of-type {\n",
              "        vertical-align: middle;\n",
              "    }\n",
              "\n",
              "    .dataframe tbody tr th {\n",
              "        vertical-align: top;\n",
              "    }\n",
              "\n",
              "    .dataframe thead th {\n",
              "        text-align: right;\n",
              "    }\n",
              "</style>\n",
              "<table border=\"1\" class=\"dataframe\">\n",
              "  <thead>\n",
              "    <tr style=\"text-align: right;\">\n",
              "      <th></th>\n",
              "      <th>BETRIEBSTAG</th>\n",
              "      <th>FAHRT_BEZEICHNER</th>\n",
              "      <th>BETREIBER_ID</th>\n",
              "      <th>BETREIBER_ABK</th>\n",
              "      <th>BETREIBER_NAME</th>\n",
              "      <th>PRODUKT_ID</th>\n",
              "      <th>LINIEN_ID</th>\n",
              "      <th>LINIEN_TEXT</th>\n",
              "      <th>UMLAUF_ID</th>\n",
              "      <th>VERKEHRSMITTEL_TEXT</th>\n",
              "      <th>...</th>\n",
              "      <th>FAELLT_AUS_TF</th>\n",
              "      <th>BPUIC</th>\n",
              "      <th>HALTESTELLEN_NAME</th>\n",
              "      <th>ANKUNFTSZEIT</th>\n",
              "      <th>AN_PROGNOSE</th>\n",
              "      <th>AN_PROGNOSE_STATUS</th>\n",
              "      <th>ABFAHRTSZEIT</th>\n",
              "      <th>AB_PROGNOSE</th>\n",
              "      <th>AB_PROGNOSE_STATUS</th>\n",
              "      <th>DURCHFAHRT_TF</th>\n",
              "    </tr>\n",
              "  </thead>\n",
              "  <tbody>\n",
              "    <tr>\n",
              "      <th>0</th>\n",
              "      <td>01.01.2024</td>\n",
              "      <td>80:06____:17291:000</td>\n",
              "      <td>80:06____</td>\n",
              "      <td>DB</td>\n",
              "      <td>DB Regio AG Baden-Württemberg</td>\n",
              "      <td>Zug</td>\n",
              "      <td>17291</td>\n",
              "      <td>RB</td>\n",
              "      <td>NaN</td>\n",
              "      <td>RB</td>\n",
              "      <td>...</td>\n",
              "      <td>True</td>\n",
              "      <td>8500090</td>\n",
              "      <td>Basel Bad Bf</td>\n",
              "      <td>NaN</td>\n",
              "      <td>NaN</td>\n",
              "      <td>UNBEKANNT</td>\n",
              "      <td>01.01.2024 01:05</td>\n",
              "      <td>NaN</td>\n",
              "      <td>UNBEKANNT</td>\n",
              "      <td>False</td>\n",
              "    </tr>\n",
              "    <tr>\n",
              "      <th>1</th>\n",
              "      <td>01.01.2024</td>\n",
              "      <td>80:06____:70665:000</td>\n",
              "      <td>80:06____</td>\n",
              "      <td>DB</td>\n",
              "      <td>DB Regio AG Baden-Württemberg</td>\n",
              "      <td>Zug</td>\n",
              "      <td>70665</td>\n",
              "      <td>RB</td>\n",
              "      <td>NaN</td>\n",
              "      <td>RB</td>\n",
              "      <td>...</td>\n",
              "      <td>False</td>\n",
              "      <td>8500090</td>\n",
              "      <td>Basel Bad Bf</td>\n",
              "      <td>NaN</td>\n",
              "      <td>NaN</td>\n",
              "      <td>NaN</td>\n",
              "      <td>01.01.2024 01:05</td>\n",
              "      <td>01.01.2024 01:06:00</td>\n",
              "      <td>PROGNOSE</td>\n",
              "      <td>False</td>\n",
              "    </tr>\n",
              "    <tr>\n",
              "      <th>2</th>\n",
              "      <td>01.01.2024</td>\n",
              "      <td>80:800631:17238:000</td>\n",
              "      <td>80:800631</td>\n",
              "      <td>DB</td>\n",
              "      <td>DB Regio AG Baden-Württemberg</td>\n",
              "      <td>Zug</td>\n",
              "      <td>17238</td>\n",
              "      <td>RB</td>\n",
              "      <td>NaN</td>\n",
              "      <td>RB</td>\n",
              "      <td>...</td>\n",
              "      <td>False</td>\n",
              "      <td>8500090</td>\n",
              "      <td>Basel Bad Bf</td>\n",
              "      <td>01.01.2024 07:05</td>\n",
              "      <td>01.01.2024 07:05:00</td>\n",
              "      <td>PROGNOSE</td>\n",
              "      <td>NaN</td>\n",
              "      <td>NaN</td>\n",
              "      <td>NaN</td>\n",
              "      <td>False</td>\n",
              "    </tr>\n",
              "    <tr>\n",
              "      <th>3</th>\n",
              "      <td>01.01.2024</td>\n",
              "      <td>80:800631:17239:000</td>\n",
              "      <td>80:800631</td>\n",
              "      <td>DB</td>\n",
              "      <td>DB Regio AG Baden-Württemberg</td>\n",
              "      <td>Zug</td>\n",
              "      <td>17239</td>\n",
              "      <td>RB</td>\n",
              "      <td>NaN</td>\n",
              "      <td>RB</td>\n",
              "      <td>...</td>\n",
              "      <td>False</td>\n",
              "      <td>8500090</td>\n",
              "      <td>Basel Bad Bf</td>\n",
              "      <td>NaN</td>\n",
              "      <td>NaN</td>\n",
              "      <td>NaN</td>\n",
              "      <td>01.01.2024 07:53</td>\n",
              "      <td>01.01.2024 07:53:00</td>\n",
              "      <td>PROGNOSE</td>\n",
              "      <td>False</td>\n",
              "    </tr>\n",
              "    <tr>\n",
              "      <th>4</th>\n",
              "      <td>01.01.2024</td>\n",
              "      <td>80:800631:17241:000</td>\n",
              "      <td>80:800631</td>\n",
              "      <td>DB</td>\n",
              "      <td>DB Regio AG Baden-Württemberg</td>\n",
              "      <td>Zug</td>\n",
              "      <td>17241</td>\n",
              "      <td>RB</td>\n",
              "      <td>NaN</td>\n",
              "      <td>RB</td>\n",
              "      <td>...</td>\n",
              "      <td>False</td>\n",
              "      <td>8500090</td>\n",
              "      <td>Basel Bad Bf</td>\n",
              "      <td>NaN</td>\n",
              "      <td>NaN</td>\n",
              "      <td>NaN</td>\n",
              "      <td>01.01.2024 08:53</td>\n",
              "      <td>01.01.2024 08:54:00</td>\n",
              "      <td>PROGNOSE</td>\n",
              "      <td>False</td>\n",
              "    </tr>\n",
              "  </tbody>\n",
              "</table>\n",
              "<p>5 rows × 21 columns</p>\n",
              "</div>"
            ],
            "text/plain": [
              "  BETRIEBSTAG     FAHRT_BEZEICHNER BETREIBER_ID BETREIBER_ABK  \\\n",
              "0  01.01.2024  80:06____:17291:000    80:06____            DB   \n",
              "1  01.01.2024  80:06____:70665:000    80:06____            DB   \n",
              "2  01.01.2024  80:800631:17238:000    80:800631            DB   \n",
              "3  01.01.2024  80:800631:17239:000    80:800631            DB   \n",
              "4  01.01.2024  80:800631:17241:000    80:800631            DB   \n",
              "\n",
              "                  BETREIBER_NAME PRODUKT_ID LINIEN_ID LINIEN_TEXT UMLAUF_ID  \\\n",
              "0  DB Regio AG Baden-Württemberg        Zug     17291          RB       NaN   \n",
              "1  DB Regio AG Baden-Württemberg        Zug     70665          RB       NaN   \n",
              "2  DB Regio AG Baden-Württemberg        Zug     17238          RB       NaN   \n",
              "3  DB Regio AG Baden-Württemberg        Zug     17239          RB       NaN   \n",
              "4  DB Regio AG Baden-Württemberg        Zug     17241          RB       NaN   \n",
              "\n",
              "  VERKEHRSMITTEL_TEXT  ...  FAELLT_AUS_TF    BPUIC  HALTESTELLEN_NAME  \\\n",
              "0                  RB  ...           True  8500090       Basel Bad Bf   \n",
              "1                  RB  ...          False  8500090       Basel Bad Bf   \n",
              "2                  RB  ...          False  8500090       Basel Bad Bf   \n",
              "3                  RB  ...          False  8500090       Basel Bad Bf   \n",
              "4                  RB  ...          False  8500090       Basel Bad Bf   \n",
              "\n",
              "       ANKUNFTSZEIT          AN_PROGNOSE AN_PROGNOSE_STATUS      ABFAHRTSZEIT  \\\n",
              "0               NaN                  NaN          UNBEKANNT  01.01.2024 01:05   \n",
              "1               NaN                  NaN                NaN  01.01.2024 01:05   \n",
              "2  01.01.2024 07:05  01.01.2024 07:05:00           PROGNOSE               NaN   \n",
              "3               NaN                  NaN                NaN  01.01.2024 07:53   \n",
              "4               NaN                  NaN                NaN  01.01.2024 08:53   \n",
              "\n",
              "           AB_PROGNOSE AB_PROGNOSE_STATUS DURCHFAHRT_TF  \n",
              "0                  NaN          UNBEKANNT         False  \n",
              "1  01.01.2024 01:06:00           PROGNOSE         False  \n",
              "2                  NaN                NaN         False  \n",
              "3  01.01.2024 07:53:00           PROGNOSE         False  \n",
              "4  01.01.2024 08:54:00           PROGNOSE         False  \n",
              "\n",
              "[5 rows x 21 columns]"
            ]
          },
          "metadata": {},
          "output_type": "display_data"
        },
        {
          "name": "stdout",
          "output_type": "stream",
          "text": [
            "<class 'pandas.core.frame.DataFrame'>\n",
            "RangeIndex: 1501831 entries, 0 to 1501830\n",
            "Data columns (total 21 columns):\n",
            " #   Column               Non-Null Count    Dtype \n",
            "---  ------               --------------    ----- \n",
            " 0   BETRIEBSTAG          1501831 non-null  object\n",
            " 1   FAHRT_BEZEICHNER     1501831 non-null  object\n",
            " 2   BETREIBER_ID         1501831 non-null  object\n",
            " 3   BETREIBER_ABK        1501831 non-null  object\n",
            " 4   BETREIBER_NAME       1501831 non-null  object\n",
            " 5   PRODUKT_ID           1501831 non-null  object\n",
            " 6   LINIEN_ID            1501831 non-null  object\n",
            " 7   LINIEN_TEXT          1501831 non-null  object\n",
            " 8   UMLAUF_ID            688303 non-null   object\n",
            " 9   VERKEHRSMITTEL_TEXT  1501831 non-null  object\n",
            " 10  ZUSATZFAHRT_TF       1501831 non-null  bool  \n",
            " 11  FAELLT_AUS_TF        1501831 non-null  bool  \n",
            " 12  BPUIC                1501831 non-null  int64 \n",
            " 13  HALTESTELLEN_NAME    1389616 non-null  object\n",
            " 14  ANKUNFTSZEIT         1413665 non-null  object\n",
            " 15  AN_PROGNOSE          1404772 non-null  object\n",
            " 16  AN_PROGNOSE_STATUS   1413735 non-null  object\n",
            " 17  ABFAHRTSZEIT         1413727 non-null  object\n",
            " 18  AB_PROGNOSE          1404403 non-null  object\n",
            " 19  AB_PROGNOSE_STATUS   1413854 non-null  object\n",
            " 20  DURCHFAHRT_TF        1501831 non-null  bool  \n",
            "dtypes: bool(3), int64(1), object(17)\n",
            "memory usage: 210.5+ MB\n"
          ]
        },
        {
          "data": {
            "text/plain": [
              "None"
            ]
          },
          "metadata": {},
          "output_type": "display_data"
        }
      ],
      "source": [
        "df_verkehr_daily_raw = pd.read_csv(\"Verkehrsdaten_daily.csv\", sep=\";\", encoding=\"utf-8\", low_memory=False) #Laden der CSV-Datei\n",
        "\n",
        "display(df_verkehr_daily_raw.head(5)) #Anzeige der ersten 5 Zeilen\n",
        "display(df_verkehr_daily_raw.info()) #Anzeige der Informationen des DataFrames"
      ]
    },
    {
      "cell_type": "markdown",
      "metadata": {},
      "source": [
        "##### 2.2.1.2 Nicht relevante Spalten entfernen\n",
        "\n",
        "Spalten welche offensichtlich nicht zur Analyse beitragen werden entfernt:\n",
        "- **BETRIEBSTAG:** *Das Datum ist bereits in der Abfahrtszeit enthalten – daher überflüssig*\n",
        "- **FAHRT_BEZEICHNER:** *Numerische Bezeichnung der Fahrt, die für die Analyse keinen Mehrwert bietet*\n",
        "- **BETREIBER_ID:** *Numerische ID des Betreibers, redundant da BETREIBER_ABK ausreichend ist*\n",
        "- **BETREIBER_NAME:** *Vollständiger Name des Betreibers, ebenfalls durch BETREIBER_ABK abgedeckt*\n",
        "- **LINIEN_ID:** *Numerischer Identifikator der Linie, wobei LINIEN_TEXT klarere Informationen liefert*\n",
        "- **UMLAUF_ID:** *Numerische Fahrtbezeichnung, die für die Analyse nicht relevant ist*\n",
        "- **VERKEHRSMITTEL_TEXT:** *Abkürzung zu PRODUKT_ID – somit nicht erforderlich*\n",
        "- **BPUIC:** *Nicht aussagekräftig für die Analyse*\n",
        "- **ANKUNFTSZEIT:** *Wird nicht betrachtet, da ausschließlich Abfahrtszeiten relevant sind*\n",
        "- **AN_PROGNOSE:** *Nicht genutzt, da nur Abfahrtszeiten im Fokus stehen*\n",
        "- **AN_PROGNOSE_STATUS:** *Status der Ankunftsprognose wird nicht analysiert – daher entbehrlich*"
      ]
    },
    {
      "cell_type": "code",
      "execution_count": 15,
      "metadata": {
        "id": "BvofUB2-7KWu",
        "outputId": "d0fe0452-9c16-4728-89a2-be7af7ffb433"
      },
      "outputs": [
        {
          "data": {
            "application/vnd.microsoft.datawrangler.viewer.v0+json": {
              "columns": [
                {
                  "name": "index",
                  "rawType": "int64",
                  "type": "integer"
                },
                {
                  "name": "BETREIBER_ABK",
                  "rawType": "object",
                  "type": "string"
                },
                {
                  "name": "PRODUKT_ID",
                  "rawType": "object",
                  "type": "string"
                },
                {
                  "name": "LINIEN_TEXT",
                  "rawType": "object",
                  "type": "string"
                },
                {
                  "name": "ZUSATZFAHRT_TF",
                  "rawType": "bool",
                  "type": "boolean"
                },
                {
                  "name": "FAELLT_AUS_TF",
                  "rawType": "bool",
                  "type": "boolean"
                },
                {
                  "name": "HALTESTELLEN_NAME",
                  "rawType": "object",
                  "type": "string"
                },
                {
                  "name": "ABFAHRTSZEIT",
                  "rawType": "object",
                  "type": "unknown"
                },
                {
                  "name": "AB_PROGNOSE",
                  "rawType": "object",
                  "type": "unknown"
                },
                {
                  "name": "AB_PROGNOSE_STATUS",
                  "rawType": "object",
                  "type": "unknown"
                },
                {
                  "name": "DURCHFAHRT_TF",
                  "rawType": "bool",
                  "type": "boolean"
                }
              ],
              "conversionMethod": "pd.DataFrame",
              "ref": "8383d499-97ef-4399-b93d-663565661322",
              "rows": [
                [
                  "0",
                  "DB",
                  "Zug",
                  "RB",
                  "True",
                  "True",
                  "Basel Bad Bf",
                  "01.01.2024 01:05",
                  null,
                  "UNBEKANNT",
                  "False"
                ],
                [
                  "1",
                  "DB",
                  "Zug",
                  "RB",
                  "True",
                  "False",
                  "Basel Bad Bf",
                  "01.01.2024 01:05",
                  "01.01.2024 01:06:00",
                  "PROGNOSE",
                  "False"
                ],
                [
                  "2",
                  "DB",
                  "Zug",
                  "RB",
                  "False",
                  "False",
                  "Basel Bad Bf",
                  null,
                  null,
                  null,
                  "False"
                ],
                [
                  "3",
                  "DB",
                  "Zug",
                  "RB",
                  "False",
                  "False",
                  "Basel Bad Bf",
                  "01.01.2024 07:53",
                  "01.01.2024 07:53:00",
                  "PROGNOSE",
                  "False"
                ],
                [
                  "4",
                  "DB",
                  "Zug",
                  "RB",
                  "False",
                  "False",
                  "Basel Bad Bf",
                  "01.01.2024 08:53",
                  "01.01.2024 08:54:00",
                  "PROGNOSE",
                  "False"
                ]
              ],
              "shape": {
                "columns": 10,
                "rows": 5
              }
            },
            "text/html": [
              "<div>\n",
              "<style scoped>\n",
              "    .dataframe tbody tr th:only-of-type {\n",
              "        vertical-align: middle;\n",
              "    }\n",
              "\n",
              "    .dataframe tbody tr th {\n",
              "        vertical-align: top;\n",
              "    }\n",
              "\n",
              "    .dataframe thead th {\n",
              "        text-align: right;\n",
              "    }\n",
              "</style>\n",
              "<table border=\"1\" class=\"dataframe\">\n",
              "  <thead>\n",
              "    <tr style=\"text-align: right;\">\n",
              "      <th></th>\n",
              "      <th>BETREIBER_ABK</th>\n",
              "      <th>PRODUKT_ID</th>\n",
              "      <th>LINIEN_TEXT</th>\n",
              "      <th>ZUSATZFAHRT_TF</th>\n",
              "      <th>FAELLT_AUS_TF</th>\n",
              "      <th>HALTESTELLEN_NAME</th>\n",
              "      <th>ABFAHRTSZEIT</th>\n",
              "      <th>AB_PROGNOSE</th>\n",
              "      <th>AB_PROGNOSE_STATUS</th>\n",
              "      <th>DURCHFAHRT_TF</th>\n",
              "    </tr>\n",
              "  </thead>\n",
              "  <tbody>\n",
              "    <tr>\n",
              "      <th>0</th>\n",
              "      <td>DB</td>\n",
              "      <td>Zug</td>\n",
              "      <td>RB</td>\n",
              "      <td>True</td>\n",
              "      <td>True</td>\n",
              "      <td>Basel Bad Bf</td>\n",
              "      <td>01.01.2024 01:05</td>\n",
              "      <td>NaN</td>\n",
              "      <td>UNBEKANNT</td>\n",
              "      <td>False</td>\n",
              "    </tr>\n",
              "    <tr>\n",
              "      <th>1</th>\n",
              "      <td>DB</td>\n",
              "      <td>Zug</td>\n",
              "      <td>RB</td>\n",
              "      <td>True</td>\n",
              "      <td>False</td>\n",
              "      <td>Basel Bad Bf</td>\n",
              "      <td>01.01.2024 01:05</td>\n",
              "      <td>01.01.2024 01:06:00</td>\n",
              "      <td>PROGNOSE</td>\n",
              "      <td>False</td>\n",
              "    </tr>\n",
              "    <tr>\n",
              "      <th>2</th>\n",
              "      <td>DB</td>\n",
              "      <td>Zug</td>\n",
              "      <td>RB</td>\n",
              "      <td>False</td>\n",
              "      <td>False</td>\n",
              "      <td>Basel Bad Bf</td>\n",
              "      <td>NaN</td>\n",
              "      <td>NaN</td>\n",
              "      <td>NaN</td>\n",
              "      <td>False</td>\n",
              "    </tr>\n",
              "    <tr>\n",
              "      <th>3</th>\n",
              "      <td>DB</td>\n",
              "      <td>Zug</td>\n",
              "      <td>RB</td>\n",
              "      <td>False</td>\n",
              "      <td>False</td>\n",
              "      <td>Basel Bad Bf</td>\n",
              "      <td>01.01.2024 07:53</td>\n",
              "      <td>01.01.2024 07:53:00</td>\n",
              "      <td>PROGNOSE</td>\n",
              "      <td>False</td>\n",
              "    </tr>\n",
              "    <tr>\n",
              "      <th>4</th>\n",
              "      <td>DB</td>\n",
              "      <td>Zug</td>\n",
              "      <td>RB</td>\n",
              "      <td>False</td>\n",
              "      <td>False</td>\n",
              "      <td>Basel Bad Bf</td>\n",
              "      <td>01.01.2024 08:53</td>\n",
              "      <td>01.01.2024 08:54:00</td>\n",
              "      <td>PROGNOSE</td>\n",
              "      <td>False</td>\n",
              "    </tr>\n",
              "  </tbody>\n",
              "</table>\n",
              "</div>"
            ],
            "text/plain": [
              "  BETREIBER_ABK PRODUKT_ID LINIEN_TEXT  ZUSATZFAHRT_TF  FAELLT_AUS_TF  \\\n",
              "0            DB        Zug          RB            True           True   \n",
              "1            DB        Zug          RB            True          False   \n",
              "2            DB        Zug          RB           False          False   \n",
              "3            DB        Zug          RB           False          False   \n",
              "4            DB        Zug          RB           False          False   \n",
              "\n",
              "  HALTESTELLEN_NAME      ABFAHRTSZEIT          AB_PROGNOSE AB_PROGNOSE_STATUS  \\\n",
              "0      Basel Bad Bf  01.01.2024 01:05                  NaN          UNBEKANNT   \n",
              "1      Basel Bad Bf  01.01.2024 01:05  01.01.2024 01:06:00           PROGNOSE   \n",
              "2      Basel Bad Bf               NaN                  NaN                NaN   \n",
              "3      Basel Bad Bf  01.01.2024 07:53  01.01.2024 07:53:00           PROGNOSE   \n",
              "4      Basel Bad Bf  01.01.2024 08:53  01.01.2024 08:54:00           PROGNOSE   \n",
              "\n",
              "   DURCHFAHRT_TF  \n",
              "0          False  \n",
              "1          False  \n",
              "2          False  \n",
              "3          False  \n",
              "4          False  "
            ]
          },
          "metadata": {},
          "output_type": "display_data"
        }
      ],
      "source": [
        "df_verkehr_daily = df_verkehr_daily_raw.drop(columns=[\"BETRIEBSTAG\", \"FAHRT_BEZEICHNER\", \"BETREIBER_ID\", \"BETREIBER_NAME\", \"LINIEN_ID\", \"UMLAUF_ID\", \"VERKEHRSMITTEL_TEXT\", \"BPUIC\", \"ANKUNFTSZEIT\", \"AN_PROGNOSE\", \"AN_PROGNOSE_STATUS\"])\n",
        "display(df_verkehr_daily.head())"
      ]
    },
    {
      "cell_type": "markdown",
      "metadata": {},
      "source": [
        "##### 2.2.1.3 Filterung der Daten "
      ]
    },
    {
      "cell_type": "markdown",
      "metadata": {
        "id": "R9F96kdE7KWv"
      },
      "source": [
        "Filtern nach Daten der Zürcher Verkehrsbetriebe (VBZ) mit anschliessender Kontrolle und löschung der Spalte"
      ]
    },
    {
      "cell_type": "code",
      "execution_count": 16,
      "metadata": {
        "id": "L-tEGVNt7KWw",
        "outputId": "bd1dced5-8f98-44ea-eddd-270d095feb0e"
      },
      "outputs": [
        {
          "name": "stdout",
          "output_type": "stream",
          "text": [
            "PRODUKT_ID\n",
            "Tram    69637\n",
            "Name: count, dtype: int64\n",
            "BETREIBER_ABK\n",
            "VBZ    Fpl    69637\n",
            "Name: count, dtype: int64\n"
          ]
        }
      ],
      "source": [
        "filter_produkt = df_verkehr_daily[\"PRODUKT_ID\"] == \"Tram\"\n",
        "filter_betreiber = df_verkehr_daily[\"BETREIBER_ABK\"].astype(str).str.contains(\"VBZ\", na=False)\n",
        "\n",
        "df_verkehr_daily_filtered = df_verkehr_daily[filter_produkt & filter_betreiber]\n",
        "\n",
        "# Kontrolle der Filterung\n",
        "print(df_verkehr_daily_filtered[\"PRODUKT_ID\"].value_counts())\n",
        "print(df_verkehr_daily_filtered[\"BETREIBER_ABK\"].value_counts())"
      ]
    },
    {
      "cell_type": "markdown",
      "metadata": {},
      "source": [
        "Nach erfolgreicher Prüfung werden die beiden gefilterten Spalten entfernt"
      ]
    },
    {
      "cell_type": "code",
      "execution_count": 17,
      "metadata": {},
      "outputs": [
        {
          "data": {
            "application/vnd.microsoft.datawrangler.viewer.v0+json": {
              "columns": [
                {
                  "name": "index",
                  "rawType": "int64",
                  "type": "integer"
                },
                {
                  "name": "LINIEN_TEXT",
                  "rawType": "object",
                  "type": "string"
                },
                {
                  "name": "ZUSATZFAHRT_TF",
                  "rawType": "bool",
                  "type": "boolean"
                },
                {
                  "name": "FAELLT_AUS_TF",
                  "rawType": "bool",
                  "type": "boolean"
                },
                {
                  "name": "HALTESTELLEN_NAME",
                  "rawType": "object",
                  "type": "string"
                },
                {
                  "name": "ABFAHRTSZEIT",
                  "rawType": "object",
                  "type": "string"
                },
                {
                  "name": "AB_PROGNOSE",
                  "rawType": "object",
                  "type": "string"
                },
                {
                  "name": "AB_PROGNOSE_STATUS",
                  "rawType": "object",
                  "type": "string"
                },
                {
                  "name": "DURCHFAHRT_TF",
                  "rawType": "bool",
                  "type": "boolean"
                }
              ],
              "conversionMethod": "pd.DataFrame",
              "ref": "790b226e-f6fe-494e-bf62-9b6ebea801ac",
              "rows": [
                [
                  "262646",
                  "2",
                  "False",
                  "False",
                  "Zürich,Kalkbreite/Bhf.Wiedikon",
                  "01.01.2024 04:51",
                  "01.01.2024 04:52:03",
                  "REAL",
                  "False"
                ],
                [
                  "262647",
                  "2",
                  "False",
                  "False",
                  "Zürich, Bezirksgebäude",
                  "01.01.2024 04:52",
                  "01.01.2024 04:53:27",
                  "REAL",
                  "False"
                ],
                [
                  "262648",
                  "2",
                  "False",
                  "False",
                  "Zürich, Stauffacher",
                  "01.01.2024 04:54",
                  "01.01.2024 04:55:26",
                  "REAL",
                  "False"
                ],
                [
                  "262649",
                  "2",
                  "False",
                  "False",
                  "Zürich, Sihlstrasse",
                  "01.01.2024 04:55",
                  "01.01.2024 04:57:26",
                  "REAL",
                  "False"
                ],
                [
                  "262650",
                  "2",
                  "False",
                  "False",
                  "Zürich, Paradeplatz",
                  "01.01.2024 04:57",
                  "01.01.2024 04:59:19",
                  "REAL",
                  "False"
                ]
              ],
              "shape": {
                "columns": 8,
                "rows": 5
              }
            },
            "text/html": [
              "<div>\n",
              "<style scoped>\n",
              "    .dataframe tbody tr th:only-of-type {\n",
              "        vertical-align: middle;\n",
              "    }\n",
              "\n",
              "    .dataframe tbody tr th {\n",
              "        vertical-align: top;\n",
              "    }\n",
              "\n",
              "    .dataframe thead th {\n",
              "        text-align: right;\n",
              "    }\n",
              "</style>\n",
              "<table border=\"1\" class=\"dataframe\">\n",
              "  <thead>\n",
              "    <tr style=\"text-align: right;\">\n",
              "      <th></th>\n",
              "      <th>LINIEN_TEXT</th>\n",
              "      <th>ZUSATZFAHRT_TF</th>\n",
              "      <th>FAELLT_AUS_TF</th>\n",
              "      <th>HALTESTELLEN_NAME</th>\n",
              "      <th>ABFAHRTSZEIT</th>\n",
              "      <th>AB_PROGNOSE</th>\n",
              "      <th>AB_PROGNOSE_STATUS</th>\n",
              "      <th>DURCHFAHRT_TF</th>\n",
              "    </tr>\n",
              "  </thead>\n",
              "  <tbody>\n",
              "    <tr>\n",
              "      <th>262646</th>\n",
              "      <td>2</td>\n",
              "      <td>False</td>\n",
              "      <td>False</td>\n",
              "      <td>Zürich,Kalkbreite/Bhf.Wiedikon</td>\n",
              "      <td>01.01.2024 04:51</td>\n",
              "      <td>01.01.2024 04:52:03</td>\n",
              "      <td>REAL</td>\n",
              "      <td>False</td>\n",
              "    </tr>\n",
              "    <tr>\n",
              "      <th>262647</th>\n",
              "      <td>2</td>\n",
              "      <td>False</td>\n",
              "      <td>False</td>\n",
              "      <td>Zürich, Bezirksgebäude</td>\n",
              "      <td>01.01.2024 04:52</td>\n",
              "      <td>01.01.2024 04:53:27</td>\n",
              "      <td>REAL</td>\n",
              "      <td>False</td>\n",
              "    </tr>\n",
              "    <tr>\n",
              "      <th>262648</th>\n",
              "      <td>2</td>\n",
              "      <td>False</td>\n",
              "      <td>False</td>\n",
              "      <td>Zürich, Stauffacher</td>\n",
              "      <td>01.01.2024 04:54</td>\n",
              "      <td>01.01.2024 04:55:26</td>\n",
              "      <td>REAL</td>\n",
              "      <td>False</td>\n",
              "    </tr>\n",
              "    <tr>\n",
              "      <th>262649</th>\n",
              "      <td>2</td>\n",
              "      <td>False</td>\n",
              "      <td>False</td>\n",
              "      <td>Zürich, Sihlstrasse</td>\n",
              "      <td>01.01.2024 04:55</td>\n",
              "      <td>01.01.2024 04:57:26</td>\n",
              "      <td>REAL</td>\n",
              "      <td>False</td>\n",
              "    </tr>\n",
              "    <tr>\n",
              "      <th>262650</th>\n",
              "      <td>2</td>\n",
              "      <td>False</td>\n",
              "      <td>False</td>\n",
              "      <td>Zürich, Paradeplatz</td>\n",
              "      <td>01.01.2024 04:57</td>\n",
              "      <td>01.01.2024 04:59:19</td>\n",
              "      <td>REAL</td>\n",
              "      <td>False</td>\n",
              "    </tr>\n",
              "  </tbody>\n",
              "</table>\n",
              "</div>"
            ],
            "text/plain": [
              "       LINIEN_TEXT  ZUSATZFAHRT_TF  FAELLT_AUS_TF  \\\n",
              "262646           2           False          False   \n",
              "262647           2           False          False   \n",
              "262648           2           False          False   \n",
              "262649           2           False          False   \n",
              "262650           2           False          False   \n",
              "\n",
              "                     HALTESTELLEN_NAME      ABFAHRTSZEIT          AB_PROGNOSE  \\\n",
              "262646  Zürich,Kalkbreite/Bhf.Wiedikon  01.01.2024 04:51  01.01.2024 04:52:03   \n",
              "262647          Zürich, Bezirksgebäude  01.01.2024 04:52  01.01.2024 04:53:27   \n",
              "262648             Zürich, Stauffacher  01.01.2024 04:54  01.01.2024 04:55:26   \n",
              "262649             Zürich, Sihlstrasse  01.01.2024 04:55  01.01.2024 04:57:26   \n",
              "262650             Zürich, Paradeplatz  01.01.2024 04:57  01.01.2024 04:59:19   \n",
              "\n",
              "       AB_PROGNOSE_STATUS  DURCHFAHRT_TF  \n",
              "262646               REAL          False  \n",
              "262647               REAL          False  \n",
              "262648               REAL          False  \n",
              "262649               REAL          False  \n",
              "262650               REAL          False  "
            ]
          },
          "metadata": {},
          "output_type": "display_data"
        }
      ],
      "source": [
        "# Nicht mehr benötigte Spalten entfernen\n",
        "df_verkehr_daily_filtered = df_verkehr_daily_filtered.drop(columns=[\"PRODUKT_ID\", \"BETREIBER_ABK\"])\n",
        "\n",
        "display(df_verkehr_daily_filtered.head())"
      ]
    },
    {
      "cell_type": "markdown",
      "metadata": {
        "id": "Tt_tjyFX7KWx"
      },
      "source": [
        "##### 2.2.1.4 Analyse der übrigen Spalten"
      ]
    },
    {
      "cell_type": "code",
      "execution_count": null,
      "metadata": {
        "id": "QXSezJQ97KWy",
        "outputId": "37d49fbb-6a4f-44a8-d9e8-0da58ed4ad4c"
      },
      "outputs": [
        {
          "name": "stdout",
          "output_type": "stream",
          "text": [
            "AB_PROGNOSE_STATUS\n",
            "REAL          64953\n",
            "PROGNOSE       1383\n",
            "UNBEKANNT       147\n",
            "GESCHAETZT      140\n",
            "Name: count, dtype: int64\n",
            "ZUSATZFAHRT_TF\n",
            "False    0.9743\n",
            "True     0.0257\n",
            "Name: count, dtype: float64\n",
            "FAELLT_AUS_TF\n",
            "False    0.9474\n",
            "True     0.0526\n",
            "Name: count, dtype: float64\n",
            "DURCHFAHRT_TF\n",
            "False    1.0\n",
            "Name: count, dtype: float64\n"
          ]
        },
        {
          "data": {
            "image/png": "[encoded data removed]",
            "text/plain": [
              "<Figure size 1500x500 with 3 Axes>"
            ]
          },
          "metadata": {},
          "output_type": "display_data"
        }
      ],
      "source": [
        "print(df_verkehr_daily_filtered[\"AB_PROGNOSE_STATUS\"].value_counts())\n",
        "print((df_verkehr_daily_filtered[\"ZUSATZFAHRT_TF\"].value_counts() / len(df_verkehr_daily_filtered)).round(4))\n",
        "print((df_verkehr_daily_filtered[\"FAELLT_AUS_TF\"].value_counts() / len(df_verkehr_daily_filtered)).round(4))\n",
        "print(df_verkehr_daily_filtered[\"DURCHFAHRT_TF\"].value_counts() / len(df_verkehr_daily_filtered))\n",
        "\n",
        "bool_cols = [\"ZUSATZFAHRT_TF\", \"FAELLT_AUS_TF\", \"DURCHFAHRT_TF\"]\n",
        "\n",
        "# Erstelle 1 Zeile mit 3 Spalten (nebeneinander)\n",
        "fig, axes = plt.subplots(1, 3, figsize=(15, 5), sharex=True)\n",
        "\n",
        "for i, col in enumerate(bool_cols):\n",
        "    anteile = df_verkehr_daily_filtered[col].value_counts(normalize=True).sort_index()\n",
        "    \n",
        "    sns.barplot(\n",
        "        x=anteile.values,\n",
        "        y=anteile.index,\n",
        "        orient='h',\n",
        "        ax=axes[i]\n",
        "    )\n",
        "    \n",
        "    axes[i].set_title(f\"{col}\")\n",
        "    axes[i].set_xlim(0, 1)\n",
        "    axes[i].set_xlabel(\"Anteil\")\n",
        "    axes[i].set_xticks(np.arange(0, 1.1, 0.1))\n",
        "\n",
        "plt.tight_layout()\n",
        "plt.show()"
      ]
    },
    {
      "cell_type": "markdown",
      "metadata": {
        "id": "qsQXt_s97KW0"
      },
      "source": [
        "Erkenntnisse \n",
        "- AB PROGNOSE_STATUS: Gemäss Cookbook der Verkehrsdaten sind nur die Prognosen mit dem Status REAL und GESCHAETZT als relevant anzusehen, alle anderen Werte werden darum entfernt\n",
        "- ZUSATZFAHRT_TF: Da es im ganzen Dataframe nur 0.02% Zusatzfrahrten gibt und diese zudem keine relevanten Beitrag zur Beantwortung der gestellten Frage leisten werden alle TRUE Werte entfernt\n",
        "- FAELLT_AUS_TF: Da es im ganzen Dataframe nur 0.05% Zusatzfrahrten gibt und diese zudem keine relevanten Beitrag zur Beantwortung der gestellten Frage leisten werden alle TRUE Werte entfernt\n",
        "- DURCHFAHRT_TF: Obwohl es in diesem Dataframe keine Durchfahrten werden alle zukünftigen Dataframes nach FALSE Werten gefiltert um alle Durchfahrten auszuschliessen\n"
      ]
    },
    {
      "cell_type": "code",
      "execution_count": 19,
      "metadata": {
        "id": "RXr1i-Mo7KW0",
        "outputId": "510ae92b-bc12-4d95-cbf4-6dfe47190462"
      },
      "outputs": [
        {
          "name": "stdout",
          "output_type": "stream",
          "text": [
            "AB_PROGNOSE_STATUS\n",
            "REAL          61406\n",
            "GESCHAETZT      119\n",
            "Name: count, dtype: int64\n"
          ]
        },
        {
          "data": {
            "application/vnd.microsoft.datawrangler.viewer.v0+json": {
              "columns": [
                {
                  "name": "index",
                  "rawType": "int64",
                  "type": "integer"
                },
                {
                  "name": "LINIEN_TEXT",
                  "rawType": "object",
                  "type": "string"
                },
                {
                  "name": "HALTESTELLEN_NAME",
                  "rawType": "object",
                  "type": "string"
                },
                {
                  "name": "ABFAHRTSZEIT",
                  "rawType": "object",
                  "type": "string"
                },
                {
                  "name": "AB_PROGNOSE",
                  "rawType": "object",
                  "type": "string"
                },
                {
                  "name": "AB_PROGNOSE_STATUS",
                  "rawType": "object",
                  "type": "string"
                }
              ],
              "conversionMethod": "pd.DataFrame",
              "ref": "3dd9b0f7-04e9-401c-9c1c-18477ec3b915",
              "rows": [
                [
                  "262646",
                  "2",
                  "Zürich,Kalkbreite/Bhf.Wiedikon",
                  "01.01.2024 04:51",
                  "01.01.2024 04:52:03",
                  "REAL"
                ],
                [
                  "262647",
                  "2",
                  "Zürich, Bezirksgebäude",
                  "01.01.2024 04:52",
                  "01.01.2024 04:53:27",
                  "REAL"
                ],
                [
                  "262648",
                  "2",
                  "Zürich, Stauffacher",
                  "01.01.2024 04:54",
                  "01.01.2024 04:55:26",
                  "REAL"
                ],
                [
                  "262649",
                  "2",
                  "Zürich, Sihlstrasse",
                  "01.01.2024 04:55",
                  "01.01.2024 04:57:26",
                  "REAL"
                ],
                [
                  "262650",
                  "2",
                  "Zürich, Paradeplatz",
                  "01.01.2024 04:57",
                  "01.01.2024 04:59:19",
                  "REAL"
                ]
              ],
              "shape": {
                "columns": 5,
                "rows": 5
              }
            },
            "text/html": [
              "<div>\n",
              "<style scoped>\n",
              "    .dataframe tbody tr th:only-of-type {\n",
              "        vertical-align: middle;\n",
              "    }\n",
              "\n",
              "    .dataframe tbody tr th {\n",
              "        vertical-align: top;\n",
              "    }\n",
              "\n",
              "    .dataframe thead th {\n",
              "        text-align: right;\n",
              "    }\n",
              "</style>\n",
              "<table border=\"1\" class=\"dataframe\">\n",
              "  <thead>\n",
              "    <tr style=\"text-align: right;\">\n",
              "      <th></th>\n",
              "      <th>LINIEN_TEXT</th>\n",
              "      <th>HALTESTELLEN_NAME</th>\n",
              "      <th>ABFAHRTSZEIT</th>\n",
              "      <th>AB_PROGNOSE</th>\n",
              "      <th>AB_PROGNOSE_STATUS</th>\n",
              "    </tr>\n",
              "  </thead>\n",
              "  <tbody>\n",
              "    <tr>\n",
              "      <th>262646</th>\n",
              "      <td>2</td>\n",
              "      <td>Zürich,Kalkbreite/Bhf.Wiedikon</td>\n",
              "      <td>01.01.2024 04:51</td>\n",
              "      <td>01.01.2024 04:52:03</td>\n",
              "      <td>REAL</td>\n",
              "    </tr>\n",
              "    <tr>\n",
              "      <th>262647</th>\n",
              "      <td>2</td>\n",
              "      <td>Zürich, Bezirksgebäude</td>\n",
              "      <td>01.01.2024 04:52</td>\n",
              "      <td>01.01.2024 04:53:27</td>\n",
              "      <td>REAL</td>\n",
              "    </tr>\n",
              "    <tr>\n",
              "      <th>262648</th>\n",
              "      <td>2</td>\n",
              "      <td>Zürich, Stauffacher</td>\n",
              "      <td>01.01.2024 04:54</td>\n",
              "      <td>01.01.2024 04:55:26</td>\n",
              "      <td>REAL</td>\n",
              "    </tr>\n",
              "    <tr>\n",
              "      <th>262649</th>\n",
              "      <td>2</td>\n",
              "      <td>Zürich, Sihlstrasse</td>\n",
              "      <td>01.01.2024 04:55</td>\n",
              "      <td>01.01.2024 04:57:26</td>\n",
              "      <td>REAL</td>\n",
              "    </tr>\n",
              "    <tr>\n",
              "      <th>262650</th>\n",
              "      <td>2</td>\n",
              "      <td>Zürich, Paradeplatz</td>\n",
              "      <td>01.01.2024 04:57</td>\n",
              "      <td>01.01.2024 04:59:19</td>\n",
              "      <td>REAL</td>\n",
              "    </tr>\n",
              "  </tbody>\n",
              "</table>\n",
              "</div>"
            ],
            "text/plain": [
              "       LINIEN_TEXT               HALTESTELLEN_NAME      ABFAHRTSZEIT  \\\n",
              "262646           2  Zürich,Kalkbreite/Bhf.Wiedikon  01.01.2024 04:51   \n",
              "262647           2          Zürich, Bezirksgebäude  01.01.2024 04:52   \n",
              "262648           2             Zürich, Stauffacher  01.01.2024 04:54   \n",
              "262649           2             Zürich, Sihlstrasse  01.01.2024 04:55   \n",
              "262650           2             Zürich, Paradeplatz  01.01.2024 04:57   \n",
              "\n",
              "                AB_PROGNOSE AB_PROGNOSE_STATUS  \n",
              "262646  01.01.2024 04:52:03               REAL  \n",
              "262647  01.01.2024 04:53:27               REAL  \n",
              "262648  01.01.2024 04:55:26               REAL  \n",
              "262649  01.01.2024 04:57:26               REAL  \n",
              "262650  01.01.2024 04:59:19               REAL  "
            ]
          },
          "metadata": {},
          "output_type": "display_data"
        }
      ],
      "source": [
        "filter_status = df_verkehr_daily_filtered[\"AB_PROGNOSE_STATUS\"].astype(str).str.contains(\"REAL|GESCHAETZT\", na=False) # Evtl GEASCHAETZT entfernen\n",
        "\n",
        "filter_faellt_aus = df_verkehr_daily_filtered[\"FAELLT_AUS_TF\"] == False\n",
        "filter_zusatzfahrt = df_verkehr_daily_filtered[\"ZUSATZFAHRT_TF\"] == False\n",
        "# filter_durchfahrt = df_verkehr_vbz[\"DURCHFAHRT_TF\"] == False #Wird erst in zukünftigen Filterungen relevant\n",
        "\n",
        "df_verkehr_daily_filtered = df_verkehr_daily_filtered[filter_status & filter_faellt_aus & filter_zusatzfahrt]\n",
        "\n",
        "print(df_verkehr_daily_filtered[\"AB_PROGNOSE_STATUS\"].value_counts())\n",
        "df_verkehr_daily_filtered = df_verkehr_daily_filtered.drop(columns=[\"ZUSATZFAHRT_TF\", \"FAELLT_AUS_TF\", \"DURCHFAHRT_TF\"])\n",
        "\n",
        "display(df_verkehr_daily_filtered.head())"
      ]
    },
    {
      "cell_type": "markdown",
      "metadata": {
        "id": "hdEUvL0R7KW1"
      },
      "source": [
        "Analyse der Verkehrsmittel und Linien"
      ]
    },
    {
      "cell_type": "code",
      "execution_count": 20,
      "metadata": {
        "id": "y4lG0Hak7KW1",
        "outputId": "09c7c68f-37fe-426b-aff5-9fd415dc3bf4"
      },
      "outputs": [
        {
          "name": "stdout",
          "output_type": "stream",
          "text": [
            "['2' '3' '4' '5' '6' '7' '8' '9' '10' '11' '12' '13' '14' '15' '17']\n"
          ]
        }
      ],
      "source": [
        "print(df_verkehr_daily_filtered[\"LINIEN_TEXT\"].unique())\n",
        "\n",
        "#Analyse in verbindung mit Wetterstation folgt später"
      ]
    },
    {
      "cell_type": "markdown",
      "metadata": {},
      "source": [
        "##### 2.2.1.5 Datentypen anpassen"
      ]
    },
    {
      "cell_type": "markdown",
      "metadata": {
        "id": "uKsrk6UT7KW2"
      },
      "source": [
        "Abfahrtszeit und Prognosezeit in Datetime Fomat umwandeln£"
      ]
    },
    {
      "cell_type": "code",
      "execution_count": 21,
      "metadata": {
        "id": "3J0aiDcU7KW2",
        "outputId": "c3e8856f-5146-4f09-e263-1e5e110ffee2"
      },
      "outputs": [
        {
          "name": "stdout",
          "output_type": "stream",
          "text": [
            "<class 'pandas.core.frame.DataFrame'>\n",
            "Index: 61525 entries, 262646 to 332281\n",
            "Data columns (total 5 columns):\n",
            " #   Column              Non-Null Count  Dtype         \n",
            "---  ------              --------------  -----         \n",
            " 0   LINIEN_TEXT         61525 non-null  object        \n",
            " 1   HALTESTELLEN_NAME   61525 non-null  object        \n",
            " 2   ABFAHRTSZEIT        61525 non-null  datetime64[ns]\n",
            " 3   AB_PROGNOSE         61525 non-null  datetime64[ns]\n",
            " 4   AB_PROGNOSE_STATUS  61525 non-null  object        \n",
            "dtypes: datetime64[ns](2), object(3)\n",
            "memory usage: 2.8+ MB\n"
          ]
        },
        {
          "data": {
            "text/plain": [
              "None"
            ]
          },
          "metadata": {},
          "output_type": "display_data"
        }
      ],
      "source": [
        "df_verkehr_daily_filtered[\"ABFAHRTSZEIT\"] = pd.to_datetime(df_verkehr_daily_filtered[\"ABFAHRTSZEIT\"]+ \":00\", dayfirst=True)\n",
        "df_verkehr_daily_filtered[\"AB_PROGNOSE\"] = pd.to_datetime(df_verkehr_daily_filtered[\"AB_PROGNOSE\"], dayfirst=True)\n",
        "\n",
        "display(df_verkehr_daily_filtered.info())"
      ]
    },
    {
      "cell_type": "markdown",
      "metadata": {},
      "source": [
        "##### 2.2.1.6. Zusammenfügen der Tagesdatensätze zu einem Jahresdatensatz"
      ]
    },
    {
      "cell_type": "markdown",
      "metadata": {
        "id": "lFaHdX8_7KW3"
      },
      "source": [
        "Aus den erkenntnissen der Tagesdaten wird nachfolgend ein Code erstellt der die Datensätze von einem Jahr zusmmenführt. Dabei werden die gleichen Methoden wie oben angewendet"
      ]
    },
    {
      "cell_type": "code",
      "execution_count": null,
      "metadata": {
        "id": "u6XkF6nE7KW3",
        "outputId": "213fc821-83a2-4aea-97a0-92448b83e8b2"
      },
      "outputs": [
        {
          "name": "stderr",
          "output_type": "stream",
          "text": [
            "/var/folders/y5/k4w6t8l1781fsnsg064n4dxw0000gn/T/ipykernel_86056/3108697666.py:50: UserWarning: Could not infer format, so each element will be parsed individually, falling back to `dateutil`. To ensure parsing is consistent and as-expected, please specify a format.\n",
            "  df[\"ABFAHRTSZEIT\"] = pd.to_datetime(df[\"ABFAHRTSZEIT\"], dayfirst=True, errors=\"coerce\")\n",
            "/var/folders/y5/k4w6t8l1781fsnsg064n4dxw0000gn/T/ipykernel_86056/3108697666.py:51: UserWarning: Could not infer format, so each element will be parsed individually, falling back to `dateutil`. To ensure parsing is consistent and as-expected, please specify a format.\n",
            "  df[\"AB_PROGNOSE\"] = pd.to_datetime(df[\"AB_PROGNOSE\"], dayfirst=True, errors=\"coerce\")\n"
          ]
        },
        {
          "ename": "KeyboardInterrupt",
          "evalue": "",
          "output_type": "error",
          "traceback": [
            "\u001b[31m---------------------------------------------------------------------------\u001b[39m",
            "\u001b[31mKeyboardInterrupt\u001b[39m                         Traceback (most recent call last)",
            "\u001b[36mCell\u001b[39m\u001b[36m \u001b[39m\u001b[32mIn[34]\u001b[39m\u001b[32m, line 35\u001b[39m\n\u001b[32m     32\u001b[39m df = pd.read_csv(datei, sep=\u001b[33m\"\u001b[39m\u001b[33m;\u001b[39m\u001b[33m\"\u001b[39m, encoding=\u001b[33m\"\u001b[39m\u001b[33mutf-8\u001b[39m\u001b[33m\"\u001b[39m, low_memory=\u001b[38;5;28;01mFalse\u001b[39;00m, usecols=spalten_lesen)\n\u001b[32m     34\u001b[39m \u001b[38;5;66;03m# Filter anwenden\u001b[39;00m\n\u001b[32m---> \u001b[39m\u001b[32m35\u001b[39m filter_betreiber = \u001b[43mdf\u001b[49m\u001b[43m[\u001b[49m\u001b[33;43m\"\u001b[39;49m\u001b[33;43mBETREIBER_ABK\u001b[39;49m\u001b[33;43m\"\u001b[39;49m\u001b[43m]\u001b[49m\u001b[43m.\u001b[49m\u001b[43mastype\u001b[49m\u001b[43m(\u001b[49m\u001b[38;5;28;43mstr\u001b[39;49m\u001b[43m)\u001b[49m.str.contains(\u001b[33m\"\u001b[39m\u001b[33mVBZ\u001b[39m\u001b[33m\"\u001b[39m, na=\u001b[38;5;28;01mFalse\u001b[39;00m)\n\u001b[32m     36\u001b[39m filter_prognose_status = df[\u001b[33m\"\u001b[39m\u001b[33mAB_PROGNOSE_STATUS\u001b[39m\u001b[33m\"\u001b[39m].astype(\u001b[38;5;28mstr\u001b[39m).str.contains(\u001b[33m\"\u001b[39m\u001b[33mREAL|GESCHAETZT\u001b[39m\u001b[33m\"\u001b[39m, na=\u001b[38;5;28;01mFalse\u001b[39;00m)\n\u001b[32m     37\u001b[39m filter_produkt_id = df[\u001b[33m\"\u001b[39m\u001b[33mPRODUKT_ID\u001b[39m\u001b[33m\"\u001b[39m].astype(\u001b[38;5;28mstr\u001b[39m).str.contains(\u001b[33m\"\u001b[39m\u001b[33mTram\u001b[39m\u001b[33m\"\u001b[39m, na=\u001b[38;5;28;01mFalse\u001b[39;00m)\n",
            "\u001b[36mFile \u001b[39m\u001b[32m~/Github/MSC_WI_BINA/.venv/lib/python3.12/site-packages/pandas/core/generic.py:6643\u001b[39m, in \u001b[36mNDFrame.astype\u001b[39m\u001b[34m(self, dtype, copy, errors)\u001b[39m\n\u001b[32m   6637\u001b[39m     results = [\n\u001b[32m   6638\u001b[39m         ser.astype(dtype, copy=copy, errors=errors) \u001b[38;5;28;01mfor\u001b[39;00m _, ser \u001b[38;5;129;01min\u001b[39;00m \u001b[38;5;28mself\u001b[39m.items()\n\u001b[32m   6639\u001b[39m     ]\n\u001b[32m   6641\u001b[39m \u001b[38;5;28;01melse\u001b[39;00m:\n\u001b[32m   6642\u001b[39m     \u001b[38;5;66;03m# else, only a single dtype is given\u001b[39;00m\n\u001b[32m-> \u001b[39m\u001b[32m6643\u001b[39m     new_data = \u001b[38;5;28;43mself\u001b[39;49m\u001b[43m.\u001b[49m\u001b[43m_mgr\u001b[49m\u001b[43m.\u001b[49m\u001b[43mastype\u001b[49m\u001b[43m(\u001b[49m\u001b[43mdtype\u001b[49m\u001b[43m=\u001b[49m\u001b[43mdtype\u001b[49m\u001b[43m,\u001b[49m\u001b[43m \u001b[49m\u001b[43mcopy\u001b[49m\u001b[43m=\u001b[49m\u001b[43mcopy\u001b[49m\u001b[43m,\u001b[49m\u001b[43m \u001b[49m\u001b[43merrors\u001b[49m\u001b[43m=\u001b[49m\u001b[43merrors\u001b[49m\u001b[43m)\u001b[49m\n\u001b[32m   6644\u001b[39m     res = \u001b[38;5;28mself\u001b[39m._constructor_from_mgr(new_data, axes=new_data.axes)\n\u001b[32m   6645\u001b[39m     \u001b[38;5;28;01mreturn\u001b[39;00m res.__finalize__(\u001b[38;5;28mself\u001b[39m, method=\u001b[33m\"\u001b[39m\u001b[33mastype\u001b[39m\u001b[33m\"\u001b[39m)\n",
            "\u001b[36mFile \u001b[39m\u001b[32m~/Github/MSC_WI_BINA/.venv/lib/python3.12/site-packages/pandas/core/internals/managers.py:430\u001b[39m, in \u001b[36mBaseBlockManager.astype\u001b[39m\u001b[34m(self, dtype, copy, errors)\u001b[39m\n\u001b[32m    427\u001b[39m \u001b[38;5;28;01melif\u001b[39;00m using_copy_on_write():\n\u001b[32m    428\u001b[39m     copy = \u001b[38;5;28;01mFalse\u001b[39;00m\n\u001b[32m--> \u001b[39m\u001b[32m430\u001b[39m \u001b[38;5;28;01mreturn\u001b[39;00m \u001b[38;5;28;43mself\u001b[39;49m\u001b[43m.\u001b[49m\u001b[43mapply\u001b[49m\u001b[43m(\u001b[49m\n\u001b[32m    431\u001b[39m \u001b[43m    \u001b[49m\u001b[33;43m\"\u001b[39;49m\u001b[33;43mastype\u001b[39;49m\u001b[33;43m\"\u001b[39;49m\u001b[43m,\u001b[49m\n\u001b[32m    432\u001b[39m \u001b[43m    \u001b[49m\u001b[43mdtype\u001b[49m\u001b[43m=\u001b[49m\u001b[43mdtype\u001b[49m\u001b[43m,\u001b[49m\n\u001b[32m    433\u001b[39m \u001b[43m    \u001b[49m\u001b[43mcopy\u001b[49m\u001b[43m=\u001b[49m\u001b[43mcopy\u001b[49m\u001b[43m,\u001b[49m\n\u001b[32m    434\u001b[39m \u001b[43m    \u001b[49m\u001b[43merrors\u001b[49m\u001b[43m=\u001b[49m\u001b[43merrors\u001b[49m\u001b[43m,\u001b[49m\n\u001b[32m    435\u001b[39m \u001b[43m    \u001b[49m\u001b[43musing_cow\u001b[49m\u001b[43m=\u001b[49m\u001b[43musing_copy_on_write\u001b[49m\u001b[43m(\u001b[49m\u001b[43m)\u001b[49m\u001b[43m,\u001b[49m\n\u001b[32m    436\u001b[39m \u001b[43m\u001b[49m\u001b[43m)\u001b[49m\n",
            "\u001b[36mFile \u001b[39m\u001b[32m~/Github/MSC_WI_BINA/.venv/lib/python3.12/site-packages/pandas/core/internals/managers.py:363\u001b[39m, in \u001b[36mBaseBlockManager.apply\u001b[39m\u001b[34m(self, f, align_keys, **kwargs)\u001b[39m\n\u001b[32m    361\u001b[39m         applied = b.apply(f, **kwargs)\n\u001b[32m    362\u001b[39m     \u001b[38;5;28;01melse\u001b[39;00m:\n\u001b[32m--> \u001b[39m\u001b[32m363\u001b[39m         applied = \u001b[38;5;28;43mgetattr\u001b[39;49m\u001b[43m(\u001b[49m\u001b[43mb\u001b[49m\u001b[43m,\u001b[49m\u001b[43m \u001b[49m\u001b[43mf\u001b[49m\u001b[43m)\u001b[49m\u001b[43m(\u001b[49m\u001b[43m*\u001b[49m\u001b[43m*\u001b[49m\u001b[43mkwargs\u001b[49m\u001b[43m)\u001b[49m\n\u001b[32m    364\u001b[39m     result_blocks = extend_blocks(applied, result_blocks)\n\u001b[32m    366\u001b[39m out = \u001b[38;5;28mtype\u001b[39m(\u001b[38;5;28mself\u001b[39m).from_blocks(result_blocks, \u001b[38;5;28mself\u001b[39m.axes)\n",
            "\u001b[36mFile \u001b[39m\u001b[32m~/Github/MSC_WI_BINA/.venv/lib/python3.12/site-packages/pandas/core/internals/blocks.py:758\u001b[39m, in \u001b[36mBlock.astype\u001b[39m\u001b[34m(self, dtype, copy, errors, using_cow, squeeze)\u001b[39m\n\u001b[32m    755\u001b[39m         \u001b[38;5;28;01mraise\u001b[39;00m \u001b[38;5;167;01mValueError\u001b[39;00m(\u001b[33m\"\u001b[39m\u001b[33mCan not squeeze with more than one column.\u001b[39m\u001b[33m\"\u001b[39m)\n\u001b[32m    756\u001b[39m     values = values[\u001b[32m0\u001b[39m, :]  \u001b[38;5;66;03m# type: ignore[call-overload]\u001b[39;00m\n\u001b[32m--> \u001b[39m\u001b[32m758\u001b[39m new_values = \u001b[43mastype_array_safe\u001b[49m\u001b[43m(\u001b[49m\u001b[43mvalues\u001b[49m\u001b[43m,\u001b[49m\u001b[43m \u001b[49m\u001b[43mdtype\u001b[49m\u001b[43m,\u001b[49m\u001b[43m \u001b[49m\u001b[43mcopy\u001b[49m\u001b[43m=\u001b[49m\u001b[43mcopy\u001b[49m\u001b[43m,\u001b[49m\u001b[43m \u001b[49m\u001b[43merrors\u001b[49m\u001b[43m=\u001b[49m\u001b[43merrors\u001b[49m\u001b[43m)\u001b[49m\n\u001b[32m    760\u001b[39m new_values = maybe_coerce_values(new_values)\n\u001b[32m    762\u001b[39m refs = \u001b[38;5;28;01mNone\u001b[39;00m\n",
            "\u001b[36mFile \u001b[39m\u001b[32m~/Github/MSC_WI_BINA/.venv/lib/python3.12/site-packages/pandas/core/dtypes/astype.py:237\u001b[39m, in \u001b[36mastype_array_safe\u001b[39m\u001b[34m(values, dtype, copy, errors)\u001b[39m\n\u001b[32m    234\u001b[39m     dtype = dtype.numpy_dtype\n\u001b[32m    236\u001b[39m \u001b[38;5;28;01mtry\u001b[39;00m:\n\u001b[32m--> \u001b[39m\u001b[32m237\u001b[39m     new_values = \u001b[43mastype_array\u001b[49m\u001b[43m(\u001b[49m\u001b[43mvalues\u001b[49m\u001b[43m,\u001b[49m\u001b[43m \u001b[49m\u001b[43mdtype\u001b[49m\u001b[43m,\u001b[49m\u001b[43m \u001b[49m\u001b[43mcopy\u001b[49m\u001b[43m=\u001b[49m\u001b[43mcopy\u001b[49m\u001b[43m)\u001b[49m\n\u001b[32m    238\u001b[39m \u001b[38;5;28;01mexcept\u001b[39;00m (\u001b[38;5;167;01mValueError\u001b[39;00m, \u001b[38;5;167;01mTypeError\u001b[39;00m):\n\u001b[32m    239\u001b[39m     \u001b[38;5;66;03m# e.g. _astype_nansafe can fail on object-dtype of strings\u001b[39;00m\n\u001b[32m    240\u001b[39m     \u001b[38;5;66;03m#  trying to convert to float\u001b[39;00m\n\u001b[32m    241\u001b[39m     \u001b[38;5;28;01mif\u001b[39;00m errors == \u001b[33m\"\u001b[39m\u001b[33mignore\u001b[39m\u001b[33m\"\u001b[39m:\n",
            "\u001b[36mFile \u001b[39m\u001b[32m~/Github/MSC_WI_BINA/.venv/lib/python3.12/site-packages/pandas/core/dtypes/astype.py:182\u001b[39m, in \u001b[36mastype_array\u001b[39m\u001b[34m(values, dtype, copy)\u001b[39m\n\u001b[32m    179\u001b[39m     values = values.astype(dtype, copy=copy)\n\u001b[32m    181\u001b[39m \u001b[38;5;28;01melse\u001b[39;00m:\n\u001b[32m--> \u001b[39m\u001b[32m182\u001b[39m     values = \u001b[43m_astype_nansafe\u001b[49m\u001b[43m(\u001b[49m\u001b[43mvalues\u001b[49m\u001b[43m,\u001b[49m\u001b[43m \u001b[49m\u001b[43mdtype\u001b[49m\u001b[43m,\u001b[49m\u001b[43m \u001b[49m\u001b[43mcopy\u001b[49m\u001b[43m=\u001b[49m\u001b[43mcopy\u001b[49m\u001b[43m)\u001b[49m\n\u001b[32m    184\u001b[39m \u001b[38;5;66;03m# in pandas we don't store numpy str dtypes, so convert to object\u001b[39;00m\n\u001b[32m    185\u001b[39m \u001b[38;5;28;01mif\u001b[39;00m \u001b[38;5;28misinstance\u001b[39m(dtype, np.dtype) \u001b[38;5;129;01mand\u001b[39;00m \u001b[38;5;28missubclass\u001b[39m(values.dtype.type, \u001b[38;5;28mstr\u001b[39m):\n",
            "\u001b[36mFile \u001b[39m\u001b[32m~/Github/MSC_WI_BINA/.venv/lib/python3.12/site-packages/pandas/core/dtypes/astype.py:96\u001b[39m, in \u001b[36m_astype_nansafe\u001b[39m\u001b[34m(arr, dtype, copy, skipna)\u001b[39m\n\u001b[32m     94\u001b[39m     \u001b[38;5;28;01mif\u001b[39;00m arr.ndim > \u001b[32m1\u001b[39m:\n\u001b[32m     95\u001b[39m         arr = arr.ravel()\n\u001b[32m---> \u001b[39m\u001b[32m96\u001b[39m     \u001b[38;5;28;01mreturn\u001b[39;00m \u001b[43mlib\u001b[49m\u001b[43m.\u001b[49m\u001b[43mensure_string_array\u001b[49m\u001b[43m(\u001b[49m\n\u001b[32m     97\u001b[39m \u001b[43m        \u001b[49m\u001b[43marr\u001b[49m\u001b[43m,\u001b[49m\u001b[43m \u001b[49m\u001b[43mskipna\u001b[49m\u001b[43m=\u001b[49m\u001b[43mskipna\u001b[49m\u001b[43m,\u001b[49m\u001b[43m \u001b[49m\u001b[43mconvert_na_value\u001b[49m\u001b[43m=\u001b[49m\u001b[38;5;28;43;01mFalse\u001b[39;49;00m\n\u001b[32m     98\u001b[39m \u001b[43m    \u001b[49m\u001b[43m)\u001b[49m.reshape(shape)\n\u001b[32m    100\u001b[39m \u001b[38;5;28;01melif\u001b[39;00m np.issubdtype(arr.dtype, np.floating) \u001b[38;5;129;01mand\u001b[39;00m dtype.kind \u001b[38;5;129;01min\u001b[39;00m \u001b[33m\"\u001b[39m\u001b[33miu\u001b[39m\u001b[33m\"\u001b[39m:\n\u001b[32m    101\u001b[39m     \u001b[38;5;28;01mreturn\u001b[39;00m _astype_float_to_int_nansafe(arr, dtype, copy)\n",
            "\u001b[31mKeyboardInterrupt\u001b[39m: "
          ]
        }
      ],
      "source": [
        "# Schutzzelle gegen versehentliche Ausführung\n",
        "raise RuntimeError(\"⛔ Diese Zelle ist nur zur Dokumentation. Sie dauert 30 Minuten und sollte nicht erneut ausgeführt werden.\")\n",
        "\n",
        "import os\n",
        "import glob\n",
        "\n",
        "# Ordnerpfad mit den CSV-Dateien\n",
        "ordner_pfad = \"/Users/remofankhauser/Verkehrsdaten_2024\"\n",
        "\n",
        "# Alle CSV-Dateien im Ordner finden\n",
        "csv_dateien = glob.glob(os.path.join(ordner_pfad, \"*.csv\"))\n",
        "\n",
        "# Nur benötigte Spalten einlesen\n",
        "spalten_lesen = [\n",
        "    \"BETREIBER_ABK\",\n",
        "    \"PRODUKT_ID\",\n",
        "    \"LINIEN_TEXT\",\n",
        "    \"ZUSATZFAHRT_TF\",\n",
        "    \"FAELLT_AUS_TF\",\n",
        "    \"DURCHFAHRT_TF\",\n",
        "    \"HALTESTELLEN_NAME\",\n",
        "    \"ABFAHRTSZEIT\",\n",
        "    \"AB_PROGNOSE\",\n",
        "    \"AB_PROGNOSE_STATUS\"\n",
        "]\n",
        "\n",
        "# Liste zum Speichern der DataFrames\n",
        "df_list = []\n",
        "\n",
        "# Alle CSV-Dateien einlesen und filtern\n",
        "for datei in csv_dateien:\n",
        "    df = pd.read_csv(datei, sep=\";\", encoding=\"utf-8\", low_memory=False, usecols=spalten_lesen)\n",
        "\n",
        "    # Filter anwenden\n",
        "    filter_betreiber = df[\"BETREIBER_ABK\"].astype(str).str.contains(\"VBZ\", na=False)\n",
        "    filter_prognose_status = df[\"AB_PROGNOSE_STATUS\"].astype(str).str.contains(\"REAL|GESCHAETZT\", na=False)\n",
        "    filter_produkt_id = df[\"PRODUKT_ID\"].astype(str).str.contains(\"Tram\", na=False)\n",
        "    filter_zusatzfahrt = df[\"ZUSATZFAHRT_TF\"] == False\n",
        "    filter_faellt_aus = df[\"FAELLT_AUS_TF\"] == False\n",
        "    filter_durchfahrt = df[\"DURCHFAHRT_TF\"] == False\n",
        "\n",
        "    df = df[filter_betreiber & filter_prognose_status & filter_produkt_id & filter_zusatzfahrt & filter_faellt_aus & filter_durchfahrt]\n",
        "\n",
        "    # Nicht mehr benötigte Spalten entfernen\n",
        "    df = df.drop(columns=[\"BETREIBER_ABK\", \"PRODUKT_ID\", \"ZUSATZFAHRT_TF\", \"FAELLT_AUS_TF\", \"DURCHFAHRT_TF\"])\n",
        "\n",
        "    # Zeitstempel konvertieren\n",
        "    df[\"ABFAHRTSZEIT\"] = df[\"ABFAHRTSZEIT\"].astype(str).str.strip()\n",
        "    df[\"AB_PROGNOSE\"] = df[\"AB_PROGNOSE\"].astype(str).str.strip()\n",
        "    df[\"ABFAHRTSZEIT\"] = pd.to_datetime(df[\"ABFAHRTSZEIT\"], dayfirst=True, errors=\"coerce\")\n",
        "    df[\"AB_PROGNOSE\"] = pd.to_datetime(df[\"AB_PROGNOSE\"], dayfirst=True, errors=\"coerce\")\n",
        "\n",
        "    df_list.append(df)\n",
        "\n",
        "# Alle gefilterten DataFrames zusammenführen\n",
        "if df_list:\n",
        "    df_gesamt = pd.concat(df_list, ignore_index=True)\n",
        "    df_gesamt = df_gesamt.sort_values(by=\"ABFAHRTSZEIT\").reset_index(drop=True)\n",
        "\n",
        "    # Neue Datei speichern\n",
        "    speicherpfad = os.path.join(ordner_pfad, \"Verkehrs_Daten_2024.csv\")\n",
        "    df_gesamt.to_csv(speicherpfad, index=False)"
      ]
    },
    {
      "cell_type": "markdown",
      "metadata": {},
      "source": [
        "##### 2.2.1.7. Analyse der Jahresdaten"
      ]
    },
    {
      "cell_type": "code",
      "execution_count": 26,
      "metadata": {
        "id": "RR9NCNQ37KW4"
      },
      "outputs": [
        {
          "data": {
            "application/vnd.microsoft.datawrangler.viewer.v0+json": {
              "columns": [
                {
                  "name": "index",
                  "rawType": "int64",
                  "type": "integer"
                },
                {
                  "name": "LINIEN_TEXT",
                  "rawType": "int64",
                  "type": "integer"
                },
                {
                  "name": "HALTESTELLEN_NAME",
                  "rawType": "object",
                  "type": "string"
                },
                {
                  "name": "ABFAHRTSZEIT",
                  "rawType": "object",
                  "type": "string"
                },
                {
                  "name": "AB_PROGNOSE",
                  "rawType": "object",
                  "type": "string"
                },
                {
                  "name": "AB_PROGNOSE_STATUS",
                  "rawType": "object",
                  "type": "string"
                }
              ],
              "conversionMethod": "pd.DataFrame",
              "ref": "0a1eb60d-9576-4959-8a40-7cf175b9e7b5",
              "rows": [
                [
                  "0",
                  "10",
                  "Zürich, Salersteig",
                  "2024-01-01 04:36:00",
                  "2024-01-01 04:37:09",
                  "REAL"
                ],
                [
                  "1",
                  "10",
                  "Zürich, Berninaplatz",
                  "2024-01-01 04:37:00",
                  "2024-01-01 04:38:08",
                  "REAL"
                ],
                [
                  "2",
                  "10",
                  "Zürich, Hirschwiesenstrasse",
                  "2024-01-01 04:38:00",
                  "2024-01-01 04:39:12",
                  "REAL"
                ],
                [
                  "3",
                  "2",
                  "Zürich,Kalkbreite/Bhf.Wiedikon",
                  "2024-01-01 04:39:00",
                  "2024-01-01 04:39:42",
                  "REAL"
                ],
                [
                  "4",
                  "12",
                  "Zürich, Sternen Oerlikon",
                  "2024-01-01 04:40:00",
                  "2024-01-01 04:40:00",
                  "REAL"
                ]
              ],
              "shape": {
                "columns": 5,
                "rows": 5
              }
            },
            "text/html": [
              "<div>\n",
              "<style scoped>\n",
              "    .dataframe tbody tr th:only-of-type {\n",
              "        vertical-align: middle;\n",
              "    }\n",
              "\n",
              "    .dataframe tbody tr th {\n",
              "        vertical-align: top;\n",
              "    }\n",
              "\n",
              "    .dataframe thead th {\n",
              "        text-align: right;\n",
              "    }\n",
              "</style>\n",
              "<table border=\"1\" class=\"dataframe\">\n",
              "  <thead>\n",
              "    <tr style=\"text-align: right;\">\n",
              "      <th></th>\n",
              "      <th>LINIEN_TEXT</th>\n",
              "      <th>HALTESTELLEN_NAME</th>\n",
              "      <th>ABFAHRTSZEIT</th>\n",
              "      <th>AB_PROGNOSE</th>\n",
              "      <th>AB_PROGNOSE_STATUS</th>\n",
              "    </tr>\n",
              "  </thead>\n",
              "  <tbody>\n",
              "    <tr>\n",
              "      <th>0</th>\n",
              "      <td>10</td>\n",
              "      <td>Zürich, Salersteig</td>\n",
              "      <td>2024-01-01 04:36:00</td>\n",
              "      <td>2024-01-01 04:37:09</td>\n",
              "      <td>REAL</td>\n",
              "    </tr>\n",
              "    <tr>\n",
              "      <th>1</th>\n",
              "      <td>10</td>\n",
              "      <td>Zürich, Berninaplatz</td>\n",
              "      <td>2024-01-01 04:37:00</td>\n",
              "      <td>2024-01-01 04:38:08</td>\n",
              "      <td>REAL</td>\n",
              "    </tr>\n",
              "    <tr>\n",
              "      <th>2</th>\n",
              "      <td>10</td>\n",
              "      <td>Zürich, Hirschwiesenstrasse</td>\n",
              "      <td>2024-01-01 04:38:00</td>\n",
              "      <td>2024-01-01 04:39:12</td>\n",
              "      <td>REAL</td>\n",
              "    </tr>\n",
              "    <tr>\n",
              "      <th>3</th>\n",
              "      <td>2</td>\n",
              "      <td>Zürich,Kalkbreite/Bhf.Wiedikon</td>\n",
              "      <td>2024-01-01 04:39:00</td>\n",
              "      <td>2024-01-01 04:39:42</td>\n",
              "      <td>REAL</td>\n",
              "    </tr>\n",
              "    <tr>\n",
              "      <th>4</th>\n",
              "      <td>12</td>\n",
              "      <td>Zürich, Sternen Oerlikon</td>\n",
              "      <td>2024-01-01 04:40:00</td>\n",
              "      <td>2024-01-01 04:40:00</td>\n",
              "      <td>REAL</td>\n",
              "    </tr>\n",
              "  </tbody>\n",
              "</table>\n",
              "</div>"
            ],
            "text/plain": [
              "   LINIEN_TEXT               HALTESTELLEN_NAME         ABFAHRTSZEIT  \\\n",
              "0           10              Zürich, Salersteig  2024-01-01 04:36:00   \n",
              "1           10            Zürich, Berninaplatz  2024-01-01 04:37:00   \n",
              "2           10     Zürich, Hirschwiesenstrasse  2024-01-01 04:38:00   \n",
              "3            2  Zürich,Kalkbreite/Bhf.Wiedikon  2024-01-01 04:39:00   \n",
              "4           12        Zürich, Sternen Oerlikon  2024-01-01 04:40:00   \n",
              "\n",
              "           AB_PROGNOSE AB_PROGNOSE_STATUS  \n",
              "0  2024-01-01 04:37:09               REAL  \n",
              "1  2024-01-01 04:38:08               REAL  \n",
              "2  2024-01-01 04:39:12               REAL  \n",
              "3  2024-01-01 04:39:42               REAL  \n",
              "4  2024-01-01 04:40:00               REAL  "
            ]
          },
          "metadata": {},
          "output_type": "display_data"
        },
        {
          "name": "stdout",
          "output_type": "stream",
          "text": [
            "<class 'pandas.core.frame.DataFrame'>\n",
            "RangeIndex: 30038780 entries, 0 to 30038779\n",
            "Data columns (total 5 columns):\n",
            " #   Column              Dtype \n",
            "---  ------              ----- \n",
            " 0   LINIEN_TEXT         int64 \n",
            " 1   HALTESTELLEN_NAME   object\n",
            " 2   ABFAHRTSZEIT        object\n",
            " 3   AB_PROGNOSE         object\n",
            " 4   AB_PROGNOSE_STATUS  object\n",
            "dtypes: int64(1), object(4)\n",
            "memory usage: 1.1+ GB\n",
            "None\n",
            "LINIEN_TEXT\n",
            "11    3103361\n",
            "9     2810206\n",
            "13    2761924\n",
            "7     2760459\n",
            "2     2740779\n",
            "14    2447650\n",
            "4     2347930\n",
            "8     2146001\n",
            "3     1789393\n",
            "10    1665432\n",
            "17    1660479\n",
            "6     1297475\n",
            "5     1101471\n",
            "12     846716\n",
            "15     559504\n",
            "Name: count, dtype: int64\n"
          ]
        }
      ],
      "source": [
        "df_verkehr_2024 = pd.read_csv(\"Verkehrsdaten_2024.csv\", sep=\",\", encoding=\"utf-8\", low_memory=False)\n",
        "\n",
        "display(df_verkehr_2024.head())\n",
        "print(df_verkehr_2024.info())\n",
        "\n",
        "print(df_verkehr_2024[\"LINIEN_TEXT\"].value_counts())"
      ]
    },
    {
      "cell_type": "markdown",
      "metadata": {},
      "source": [
        "Linie E aus dem Datensatz entfernen. Die Linie E ist das Entsorgungstram der VBZ. Da es keinem regelmössigen Fahrplan folgt wird es aus dem Datensatz entfernt."
      ]
    },
    {
      "cell_type": "code",
      "execution_count": 27,
      "metadata": {
        "id": "uhrRmS0j7KW4"
      },
      "outputs": [
        {
          "name": "stdout",
          "output_type": "stream",
          "text": [
            "LINIEN_TEXT\n",
            "11    3103361\n",
            "9     2810206\n",
            "13    2761924\n",
            "7     2760459\n",
            "2     2740779\n",
            "14    2447650\n",
            "4     2347930\n",
            "8     2146001\n",
            "3     1789393\n",
            "10    1665432\n",
            "17    1660479\n",
            "6     1297475\n",
            "5     1101471\n",
            "12     846716\n",
            "15     559504\n",
            "Name: count, dtype: int64\n"
          ]
        }
      ],
      "source": [
        "# filter_linie_10 = df_2024[\"LINIEN_TEXT\"] != \"10\" # Erst später filtern\n",
        "filter_linie = df_verkehr_2024[\"LINIEN_TEXT\"] != \"E\"\n",
        "\n",
        "df_verkehr_2024_filtered = df_verkehr_2024[ filter_linie]\n",
        "print(df_verkehr_2024_filtered[\"LINIEN_TEXT\"].value_counts())"
      ]
    },
    {
      "cell_type": "markdown",
      "metadata": {},
      "source": [
        "##### 2.2.1.8 Berechnung der Verspätungen"
      ]
    },
    {
      "cell_type": "code",
      "execution_count": 28,
      "metadata": {},
      "outputs": [
        {
          "name": "stdout",
          "output_type": "stream",
          "text": [
            "<class 'pandas.core.frame.DataFrame'>\n",
            "RangeIndex: 30038780 entries, 0 to 30038779\n",
            "Data columns (total 5 columns):\n",
            " #   Column              Dtype         \n",
            "---  ------              -----         \n",
            " 0   LINIEN_TEXT         int64         \n",
            " 1   HALTESTELLEN_NAME   object        \n",
            " 2   ABFAHRTSZEIT        datetime64[ns]\n",
            " 3   AB_PROGNOSE         datetime64[ns]\n",
            " 4   AB_PROGNOSE_STATUS  object        \n",
            "dtypes: datetime64[ns](2), int64(1), object(2)\n",
            "memory usage: 1.1+ GB\n"
          ]
        },
        {
          "data": {
            "application/vnd.microsoft.datawrangler.viewer.v0+json": {
              "columns": [
                {
                  "name": "index",
                  "rawType": "int64",
                  "type": "integer"
                },
                {
                  "name": "LINIEN_TEXT",
                  "rawType": "int64",
                  "type": "integer"
                },
                {
                  "name": "HALTESTELLEN_NAME",
                  "rawType": "object",
                  "type": "string"
                },
                {
                  "name": "ABFAHRTSZEIT",
                  "rawType": "datetime64[ns]",
                  "type": "datetime"
                },
                {
                  "name": "AB_PROGNOSE",
                  "rawType": "datetime64[ns]",
                  "type": "datetime"
                },
                {
                  "name": "AB_PROGNOSE_STATUS",
                  "rawType": "object",
                  "type": "string"
                },
                {
                  "name": "VERSPAETUNG [s]",
                  "rawType": "float64",
                  "type": "float"
                }
              ],
              "conversionMethod": "pd.DataFrame",
              "ref": "8ec94023-f7b3-48c0-904d-2a5ac59f3d28",
              "rows": [
                [
                  "0",
                  "10",
                  "Zürich, Salersteig",
                  "2024-01-01 04:36:00",
                  "2024-01-01 04:37:09",
                  "REAL",
                  "69.0"
                ],
                [
                  "1",
                  "10",
                  "Zürich, Berninaplatz",
                  "2024-01-01 04:37:00",
                  "2024-01-01 04:38:08",
                  "REAL",
                  "68.0"
                ],
                [
                  "2",
                  "10",
                  "Zürich, Hirschwiesenstrasse",
                  "2024-01-01 04:38:00",
                  "2024-01-01 04:39:12",
                  "REAL",
                  "72.0"
                ],
                [
                  "3",
                  "2",
                  "Zürich,Kalkbreite/Bhf.Wiedikon",
                  "2024-01-01 04:39:00",
                  "2024-01-01 04:39:42",
                  "REAL",
                  "42.0"
                ],
                [
                  "4",
                  "12",
                  "Zürich, Sternen Oerlikon",
                  "2024-01-01 04:40:00",
                  "2024-01-01 04:40:00",
                  "REAL",
                  "0.0"
                ]
              ],
              "shape": {
                "columns": 6,
                "rows": 5
              }
            },
            "text/html": [
              "<div>\n",
              "<style scoped>\n",
              "    .dataframe tbody tr th:only-of-type {\n",
              "        vertical-align: middle;\n",
              "    }\n",
              "\n",
              "    .dataframe tbody tr th {\n",
              "        vertical-align: top;\n",
              "    }\n",
              "\n",
              "    .dataframe thead th {\n",
              "        text-align: right;\n",
              "    }\n",
              "</style>\n",
              "<table border=\"1\" class=\"dataframe\">\n",
              "  <thead>\n",
              "    <tr style=\"text-align: right;\">\n",
              "      <th></th>\n",
              "      <th>LINIEN_TEXT</th>\n",
              "      <th>HALTESTELLEN_NAME</th>\n",
              "      <th>ABFAHRTSZEIT</th>\n",
              "      <th>AB_PROGNOSE</th>\n",
              "      <th>AB_PROGNOSE_STATUS</th>\n",
              "      <th>VERSPAETUNG [s]</th>\n",
              "    </tr>\n",
              "  </thead>\n",
              "  <tbody>\n",
              "    <tr>\n",
              "      <th>0</th>\n",
              "      <td>10</td>\n",
              "      <td>Zürich, Salersteig</td>\n",
              "      <td>2024-01-01 04:36:00</td>\n",
              "      <td>2024-01-01 04:37:09</td>\n",
              "      <td>REAL</td>\n",
              "      <td>69.0</td>\n",
              "    </tr>\n",
              "    <tr>\n",
              "      <th>1</th>\n",
              "      <td>10</td>\n",
              "      <td>Zürich, Berninaplatz</td>\n",
              "      <td>2024-01-01 04:37:00</td>\n",
              "      <td>2024-01-01 04:38:08</td>\n",
              "      <td>REAL</td>\n",
              "      <td>68.0</td>\n",
              "    </tr>\n",
              "    <tr>\n",
              "      <th>2</th>\n",
              "      <td>10</td>\n",
              "      <td>Zürich, Hirschwiesenstrasse</td>\n",
              "      <td>2024-01-01 04:38:00</td>\n",
              "      <td>2024-01-01 04:39:12</td>\n",
              "      <td>REAL</td>\n",
              "      <td>72.0</td>\n",
              "    </tr>\n",
              "    <tr>\n",
              "      <th>3</th>\n",
              "      <td>2</td>\n",
              "      <td>Zürich,Kalkbreite/Bhf.Wiedikon</td>\n",
              "      <td>2024-01-01 04:39:00</td>\n",
              "      <td>2024-01-01 04:39:42</td>\n",
              "      <td>REAL</td>\n",
              "      <td>42.0</td>\n",
              "    </tr>\n",
              "    <tr>\n",
              "      <th>4</th>\n",
              "      <td>12</td>\n",
              "      <td>Zürich, Sternen Oerlikon</td>\n",
              "      <td>2024-01-01 04:40:00</td>\n",
              "      <td>2024-01-01 04:40:00</td>\n",
              "      <td>REAL</td>\n",
              "      <td>0.0</td>\n",
              "    </tr>\n",
              "  </tbody>\n",
              "</table>\n",
              "</div>"
            ],
            "text/plain": [
              "   LINIEN_TEXT               HALTESTELLEN_NAME        ABFAHRTSZEIT  \\\n",
              "0           10              Zürich, Salersteig 2024-01-01 04:36:00   \n",
              "1           10            Zürich, Berninaplatz 2024-01-01 04:37:00   \n",
              "2           10     Zürich, Hirschwiesenstrasse 2024-01-01 04:38:00   \n",
              "3            2  Zürich,Kalkbreite/Bhf.Wiedikon 2024-01-01 04:39:00   \n",
              "4           12        Zürich, Sternen Oerlikon 2024-01-01 04:40:00   \n",
              "\n",
              "          AB_PROGNOSE AB_PROGNOSE_STATUS  VERSPAETUNG [s]  \n",
              "0 2024-01-01 04:37:09               REAL             69.0  \n",
              "1 2024-01-01 04:38:08               REAL             68.0  \n",
              "2 2024-01-01 04:39:12               REAL             72.0  \n",
              "3 2024-01-01 04:39:42               REAL             42.0  \n",
              "4 2024-01-01 04:40:00               REAL              0.0  "
            ]
          },
          "metadata": {},
          "output_type": "display_data"
        }
      ],
      "source": [
        "df_verkehr_2024_filtered[\"ABFAHRTSZEIT\"] = pd.to_datetime(df_verkehr_2024_filtered[\"ABFAHRTSZEIT\"], errors=\"coerce\")\n",
        "df_verkehr_2024_filtered[\"AB_PROGNOSE\"] = pd.to_datetime(df_verkehr_2024_filtered[\"AB_PROGNOSE\"], errors=\"coerce\")\n",
        "df_verkehr_2024_filtered.info()\n",
        "\n",
        "df_verkehr_2024_filtered[\"VERSPAETUNG [s]\"] = (df_verkehr_2024_filtered[\"AB_PROGNOSE\"] - df_verkehr_2024_filtered[\"ABFAHRTSZEIT\"]).dt.total_seconds()\n",
        "display(df_verkehr_2024_filtered.head())"
      ]
    },
    {
      "cell_type": "markdown",
      "metadata": {},
      "source": [
        "##### 2.2.1.9. Analyse der Verspätungen"
      ]
    },
    {
      "cell_type": "code",
      "execution_count": 30,
      "metadata": {},
      "outputs": [
        {
          "data": {
            "image/png": "[encoded data removed]",
            "text/plain": [
              "<Figure size 1000x600 with 1 Axes>"
            ]
          },
          "metadata": {},
          "output_type": "display_data"
        }
      ],
      "source": [
        "plt.figure(figsize=(10, 6))\n",
        "sns.boxplot(x=df_verkehr_2024_filtered[\"VERSPAETUNG [s]\"] / 60)\n",
        "plt.xlabel(\"Verspätung [min]\")\n",
        "plt.title(\"Boxplot der Verspätungswerte\")\n",
        "plt.show()\n"
      ]
    },
    {
      "cell_type": "markdown",
      "metadata": {},
      "source": [
        "#### 2.2.1.10 Filterung der negativ- und Extremwerte"
      ]
    },
    {
      "cell_type": "code",
      "execution_count": null,
      "metadata": {},
      "outputs": [],
      "source": [
        "filter_extrem_werte = df_verkehr_2024_filtered[\"VERSPAETUNG [s]\"] < 1800\n",
        "filter_negative_werte = df_verkehr_2024_filtered[\"VERSPAETUNG [s]\"] > 60\n",
        "df_verkehr_2024_filtered = df_verkehr_2024_filtered[filter_negative_werte & filter_extrem_werte]"
      ]
    },
    {
      "cell_type": "code",
      "execution_count": null,
      "metadata": {},
      "outputs": [
        {
          "data": {
            "image/png": "[encoded data removed]",
            "text/plain": [
              "<Figure size 1200x600 with 1 Axes>"
            ]
          },
          "metadata": {},
          "output_type": "display_data"
        },
        {
          "data": {
            "text/plain": [
              "VERSPAETUNG [s]\n",
              "61.0      179237\n",
              "62.0      200840\n",
              "63.0      198622\n",
              "64.0      198623\n",
              "65.0      189671\n",
              "           ...  \n",
              "1795.0        15\n",
              "1796.0        15\n",
              "1797.0        16\n",
              "1798.0        10\n",
              "1799.0         3\n",
              "Name: count, Length: 1739, dtype: int64"
            ]
          },
          "execution_count": 22,
          "metadata": {},
          "output_type": "execute_result"
        }
      ],
      "source": [
        "plt.figure(figsize=(12, 6))\n",
        "ax = sns.boxplot(x=df_verkehr_2024_filtered[\"VERSPAETUNG [s]\"]/60)\n",
        "plt.xlabel(\"Verspätung [min]\")\n",
        "plt.title(\"Boxplot der Verspätungswerte\")\n",
        "plt.show()"
      ]
    },
    {
      "cell_type": "markdown",
      "metadata": {
        "id": "dhZG-5Ky7KW4"
      },
      "source": [
        "### 2.2.2 Wetterdaten"
      ]
    },
    {
      "cell_type": "markdown",
      "metadata": {},
      "source": [
        "##### 2.2.2.1 Import Wetterdatensatz 1\n",
        "Zunächst wurde auf IDAweb nach einer Wetterstation gesucht, die zentral in der Stadt Zürich liegt und genügend unterschiedliche, relevante und aktuelle Wetterdaten zur Verfügung stellt. Leider ist die Plattform nicht sehr benutzerfreundlich und die Suche erwies sich als sehr aufwändig. Nach erfolgter Suche wurde die Wetterstation Zürich Kaserne (NABZUE) als geeignetste Wetterstation identifiziert. Wir haben die folgenden fünf Wetterparameter (Granularität=stündlich) für den Zeitraum vom 1.1.2022 bis zum 31.12.2024 heruntergeladen:\n",
        "\n",
        "-Böenspitze (Sekundenböe); Stundenmaximum in km/h\n",
        "\n",
        "-Globalstrahlung; Stundenmittel in W/m²\n",
        "\n",
        "-Lufttemperatur; 2 m über Boden; Stundenmittel in °C\n",
        "\n",
        "-Niederschlag; Stundensumme in mm\n",
        "\n",
        "-Windgeschwindigkeit skalar; Stundenmittel in km/h\n",
        "\n",
        "Die Legende zum Wetterdatensatz kann in folgender Datei eingesehen werden: Legende_Wetterdatensatz1.txt"
      ]
    },
    {
      "cell_type": "code",
      "execution_count": 8,
      "metadata": {
        "id": "1dkkcS8i7KW4",
        "outputId": "e744ff9d-c6f5-4329-8649-6920e1ce816c"
      },
      "outputs": [
        {
          "data": {
            "text/html": [
              "<div>\n",
              "<style scoped>\n",
              "    .dataframe tbody tr th:only-of-type {\n",
              "        vertical-align: middle;\n",
              "    }\n",
              "\n",
              "    .dataframe tbody tr th {\n",
              "        vertical-align: top;\n",
              "    }\n",
              "\n",
              "    .dataframe thead th {\n",
              "        text-align: right;\n",
              "    }\n",
              "</style>\n",
              "<table border=\"1\" class=\"dataframe\">\n",
              "  <thead>\n",
              "    <tr style=\"text-align: right;\">\n",
              "      <th></th>\n",
              "      <th>stn</th>\n",
              "      <th>time</th>\n",
              "      <th>Böenspitze_kmh</th>\n",
              "      <th>Globalstrahlung_Wm2</th>\n",
              "      <th>Temperatur_C</th>\n",
              "      <th>Niederschlag_mm</th>\n",
              "      <th>Windgeschwindigkeit_kmh</th>\n",
              "    </tr>\n",
              "  </thead>\n",
              "  <tbody>\n",
              "    <tr>\n",
              "      <th>17520</th>\n",
              "      <td>NABZUE</td>\n",
              "      <td>2024-01-01 00:00:00</td>\n",
              "      <td>40.7</td>\n",
              "      <td>3</td>\n",
              "      <td>5.1</td>\n",
              "      <td>0.0</td>\n",
              "      <td>10.4</td>\n",
              "    </tr>\n",
              "    <tr>\n",
              "      <th>17521</th>\n",
              "      <td>NABZUE</td>\n",
              "      <td>2024-01-01 01:00:00</td>\n",
              "      <td>24.8</td>\n",
              "      <td>-1</td>\n",
              "      <td>5.1</td>\n",
              "      <td>0.0</td>\n",
              "      <td>7.9</td>\n",
              "    </tr>\n",
              "    <tr>\n",
              "      <th>17522</th>\n",
              "      <td>NABZUE</td>\n",
              "      <td>2024-01-01 02:00:00</td>\n",
              "      <td>32.0</td>\n",
              "      <td>-1</td>\n",
              "      <td>5.2</td>\n",
              "      <td>0.0</td>\n",
              "      <td>9.4</td>\n",
              "    </tr>\n",
              "    <tr>\n",
              "      <th>17523</th>\n",
              "      <td>NABZUE</td>\n",
              "      <td>2024-01-01 03:00:00</td>\n",
              "      <td>21.2</td>\n",
              "      <td>0</td>\n",
              "      <td>5.3</td>\n",
              "      <td>0.1</td>\n",
              "      <td>9.4</td>\n",
              "    </tr>\n",
              "    <tr>\n",
              "      <th>17524</th>\n",
              "      <td>NABZUE</td>\n",
              "      <td>2024-01-01 04:00:00</td>\n",
              "      <td>50.4</td>\n",
              "      <td>0</td>\n",
              "      <td>4.9</td>\n",
              "      <td>1.1</td>\n",
              "      <td>15.5</td>\n",
              "    </tr>\n",
              "    <tr>\n",
              "      <th>17525</th>\n",
              "      <td>NABZUE</td>\n",
              "      <td>2024-01-01 05:00:00</td>\n",
              "      <td>33.5</td>\n",
              "      <td>0</td>\n",
              "      <td>5.3</td>\n",
              "      <td>0.0</td>\n",
              "      <td>12.6</td>\n",
              "    </tr>\n",
              "    <tr>\n",
              "      <th>17526</th>\n",
              "      <td>NABZUE</td>\n",
              "      <td>2024-01-01 06:00:00</td>\n",
              "      <td>33.8</td>\n",
              "      <td>0</td>\n",
              "      <td>5.6</td>\n",
              "      <td>0.0</td>\n",
              "      <td>10.4</td>\n",
              "    </tr>\n",
              "    <tr>\n",
              "      <th>17527</th>\n",
              "      <td>NABZUE</td>\n",
              "      <td>2024-01-01 07:00:00</td>\n",
              "      <td>36.7</td>\n",
              "      <td>0</td>\n",
              "      <td>6.0</td>\n",
              "      <td>0.0</td>\n",
              "      <td>11.9</td>\n",
              "    </tr>\n",
              "    <tr>\n",
              "      <th>17528</th>\n",
              "      <td>NABZUE</td>\n",
              "      <td>2024-01-01 08:00:00</td>\n",
              "      <td>35.3</td>\n",
              "      <td>12</td>\n",
              "      <td>6.3</td>\n",
              "      <td>0.0</td>\n",
              "      <td>11.9</td>\n",
              "    </tr>\n",
              "    <tr>\n",
              "      <th>17529</th>\n",
              "      <td>NABZUE</td>\n",
              "      <td>2024-01-01 09:00:00</td>\n",
              "      <td>31.3</td>\n",
              "      <td>51</td>\n",
              "      <td>6.7</td>\n",
              "      <td>0.0</td>\n",
              "      <td>10.1</td>\n",
              "    </tr>\n",
              "  </tbody>\n",
              "</table>\n",
              "</div>"
            ],
            "text/plain": [
              "          stn                time Böenspitze_kmh Globalstrahlung_Wm2  \\\n",
              "17520  NABZUE 2024-01-01 00:00:00           40.7                   3   \n",
              "17521  NABZUE 2024-01-01 01:00:00           24.8                  -1   \n",
              "17522  NABZUE 2024-01-01 02:00:00           32.0                  -1   \n",
              "17523  NABZUE 2024-01-01 03:00:00           21.2                   0   \n",
              "17524  NABZUE 2024-01-01 04:00:00           50.4                   0   \n",
              "17525  NABZUE 2024-01-01 05:00:00           33.5                   0   \n",
              "17526  NABZUE 2024-01-01 06:00:00           33.8                   0   \n",
              "17527  NABZUE 2024-01-01 07:00:00           36.7                   0   \n",
              "17528  NABZUE 2024-01-01 08:00:00           35.3                  12   \n",
              "17529  NABZUE 2024-01-01 09:00:00           31.3                  51   \n",
              "\n",
              "       Temperatur_C  Niederschlag_mm Windgeschwindigkeit_kmh  \n",
              "17520           5.1              0.0                    10.4  \n",
              "17521           5.1              0.0                     7.9  \n",
              "17522           5.2              0.0                     9.4  \n",
              "17523           5.3              0.1                     9.4  \n",
              "17524           4.9              1.1                    15.5  \n",
              "17525           5.3              0.0                    12.6  \n",
              "17526           5.6              0.0                    10.4  \n",
              "17527           6.0              0.0                    11.9  \n",
              "17528           6.3              0.0                    11.9  \n",
              "17529           6.7              0.0                    10.1  "
            ]
          },
          "metadata": {},
          "output_type": "display_data"
        },
        {
          "name": "stdout",
          "output_type": "stream",
          "text": [
            "Anzahl der Einträge für 2024: 8784\n"
          ]
        }
      ],
      "source": [
        "# 1.1 Wetterdatensatz 1 einlesen (Böenspitze_kmh, Globalstrahlung_Wm2, Temperatur_C, Niederschlag_mm, Windgeschwindigkeit_kmh)\n",
        "url = \"https://raw.githubusercontent.com/RFankhauser/MSc_WI_BINA/refs/heads/main/Semesterarbeit/Wetterdaten/Wetterdatensatz1.csv\"\n",
        "df_wetter1= pd.read_csv(url, sep=\";\", encoding=\"utf-8\")\n",
        "\n",
        "# 1.2 Spaltennamen anpassen (gemäss der Legende)\n",
        "parameter_mapping1 = {\n",
        "    \"fu3010h1\": \"Böenspitze_kmh\",\n",
        "    \"gre000h0\": \"Globalstrahlung_Wm2\",\n",
        "    \"tre200h0\": \"Temperatur_C\",\n",
        "    \"rre150h0\": \"Niederschlag_mm\",\n",
        "    \"fu3010h0\": \"Windgeschwindigkeit_kmh\"\n",
        "}\n",
        "\n",
        "df_wetter1 = df_wetter1.rename(columns=parameter_mapping1)\n",
        "\n",
        "\n",
        "# 1.3 'time' in Datumsformat umwandeln\n",
        "df_wetter1['time'] = pd.to_datetime(df_wetter1['time'], format='%Y%m%d%H', errors='coerce')\n",
        "\n",
        "# 1.4 Filtern nach dem Jahr 2024\n",
        "df_wetter1 = df_wetter1[df_wetter1['time'].dt.year == 2024]\n",
        "\n",
        "# 1.5 Ersten 10 Zeilen anzeigen\n",
        "display(df_wetter1.head(10))\n",
        "\n",
        "# 1.6 Anzahl der Einträge für das Jahr 2024\n",
        "anzahl_2024 = len(df_wetter1)\n",
        "print(f\"Anzahl der Einträge für 2024: {anzahl_2024}\")"
      ]
    },
    {
      "cell_type": "markdown",
      "metadata": {
        "id": "d1lB_NFL7KW5"
      },
      "source": [
        "##### 2.2.2.2 Import Wetterdatensatz 2\n",
        "Im Wetterdatensatz 1 (Station Zürich Kaserne) sind leider keine Wetterdaten für Schnee, Hagel und Nebel vorhanden. Deshalb wurde nach einer anderen Wetterstation in Zürich gesucht, die diese Daten erfasst. Nach der Suche wurde die Wetterstation Zürich Kloten (KLO) als geeignetste Wetterstation identifiziert. Wir haben die folgenden vier Wetterparameter (Granularität=täglich) für den Zeitraum vom 1.1.2024 bis zum 31.12.2024 heruntergeladen:\n",
        "\n",
        "-Neuschneehöhe; Tagessumme 6 UTC - 6 UTC Folgetag in cm\n",
        "\n",
        "-Schneehöhe; Morgenmessung von 6 UTC in cm\n",
        "\n",
        "-Tag mit Hagel; y/n\n",
        "\n",
        "-Tag mit Nebel; y/n\n",
        "\n",
        "Die Legende zum Wetterdatensatz kann in folgender Datei eingesehen werden: Legende_Wetterdatensatz2.txt\n"
      ]
    },
    {
      "cell_type": "code",
      "execution_count": 9,
      "metadata": {
        "id": "9RsWB2fp7KW5",
        "outputId": "20d88f95-af3a-47c1-df68-806e782b9050"
      },
      "outputs": [
        {
          "data": {
            "text/html": [
              "<div>\n",
              "<style scoped>\n",
              "    .dataframe tbody tr th:only-of-type {\n",
              "        vertical-align: middle;\n",
              "    }\n",
              "\n",
              "    .dataframe tbody tr th {\n",
              "        vertical-align: top;\n",
              "    }\n",
              "\n",
              "    .dataframe thead th {\n",
              "        text-align: right;\n",
              "    }\n",
              "</style>\n",
              "<table border=\"1\" class=\"dataframe\">\n",
              "  <thead>\n",
              "    <tr style=\"text-align: right;\">\n",
              "      <th></th>\n",
              "      <th>stn2</th>\n",
              "      <th>time2</th>\n",
              "      <th>Neuschneehöhe_cm</th>\n",
              "      <th>Schneehöhe_Morgenmessung_6_UTC_cm</th>\n",
              "      <th>Tag_mit_Hagel</th>\n",
              "      <th>Tag_mit_Nebel</th>\n",
              "    </tr>\n",
              "  </thead>\n",
              "  <tbody>\n",
              "    <tr>\n",
              "      <th>0</th>\n",
              "      <td>KLO</td>\n",
              "      <td>2024-01-01</td>\n",
              "      <td>0</td>\n",
              "      <td>0</td>\n",
              "      <td>0</td>\n",
              "      <td>0</td>\n",
              "    </tr>\n",
              "    <tr>\n",
              "      <th>1</th>\n",
              "      <td>KLO</td>\n",
              "      <td>2024-01-02</td>\n",
              "      <td>0</td>\n",
              "      <td>0</td>\n",
              "      <td>0</td>\n",
              "      <td>0</td>\n",
              "    </tr>\n",
              "    <tr>\n",
              "      <th>2</th>\n",
              "      <td>KLO</td>\n",
              "      <td>2024-01-03</td>\n",
              "      <td>0</td>\n",
              "      <td>0</td>\n",
              "      <td>0</td>\n",
              "      <td>0</td>\n",
              "    </tr>\n",
              "    <tr>\n",
              "      <th>3</th>\n",
              "      <td>KLO</td>\n",
              "      <td>2024-01-04</td>\n",
              "      <td>0</td>\n",
              "      <td>0</td>\n",
              "      <td>0</td>\n",
              "      <td>0</td>\n",
              "    </tr>\n",
              "    <tr>\n",
              "      <th>4</th>\n",
              "      <td>KLO</td>\n",
              "      <td>2024-01-05</td>\n",
              "      <td>0</td>\n",
              "      <td>0</td>\n",
              "      <td>0</td>\n",
              "      <td>0</td>\n",
              "    </tr>\n",
              "    <tr>\n",
              "      <th>5</th>\n",
              "      <td>KLO</td>\n",
              "      <td>2024-01-06</td>\n",
              "      <td>0</td>\n",
              "      <td>0</td>\n",
              "      <td>0</td>\n",
              "      <td>0</td>\n",
              "    </tr>\n",
              "    <tr>\n",
              "      <th>6</th>\n",
              "      <td>KLO</td>\n",
              "      <td>2024-01-07</td>\n",
              "      <td>0</td>\n",
              "      <td>0</td>\n",
              "      <td>0</td>\n",
              "      <td>0</td>\n",
              "    </tr>\n",
              "    <tr>\n",
              "      <th>7</th>\n",
              "      <td>KLO</td>\n",
              "      <td>2024-01-08</td>\n",
              "      <td>0</td>\n",
              "      <td>0</td>\n",
              "      <td>0</td>\n",
              "      <td>0</td>\n",
              "    </tr>\n",
              "    <tr>\n",
              "      <th>8</th>\n",
              "      <td>KLO</td>\n",
              "      <td>2024-01-09</td>\n",
              "      <td>2</td>\n",
              "      <td>0</td>\n",
              "      <td>0</td>\n",
              "      <td>0</td>\n",
              "    </tr>\n",
              "    <tr>\n",
              "      <th>9</th>\n",
              "      <td>KLO</td>\n",
              "      <td>2024-01-10</td>\n",
              "      <td>0</td>\n",
              "      <td>2</td>\n",
              "      <td>0</td>\n",
              "      <td>0</td>\n",
              "    </tr>\n",
              "  </tbody>\n",
              "</table>\n",
              "</div>"
            ],
            "text/plain": [
              "  stn2      time2  Neuschneehöhe_cm  Schneehöhe_Morgenmessung_6_UTC_cm  \\\n",
              "0  KLO 2024-01-01                 0                                  0   \n",
              "1  KLO 2024-01-02                 0                                  0   \n",
              "2  KLO 2024-01-03                 0                                  0   \n",
              "3  KLO 2024-01-04                 0                                  0   \n",
              "4  KLO 2024-01-05                 0                                  0   \n",
              "5  KLO 2024-01-06                 0                                  0   \n",
              "6  KLO 2024-01-07                 0                                  0   \n",
              "7  KLO 2024-01-08                 0                                  0   \n",
              "8  KLO 2024-01-09                 2                                  0   \n",
              "9  KLO 2024-01-10                 0                                  2   \n",
              "\n",
              "   Tag_mit_Hagel  Tag_mit_Nebel  \n",
              "0              0              0  \n",
              "1              0              0  \n",
              "2              0              0  \n",
              "3              0              0  \n",
              "4              0              0  \n",
              "5              0              0  \n",
              "6              0              0  \n",
              "7              0              0  \n",
              "8              0              0  \n",
              "9              0              0  "
            ]
          },
          "metadata": {},
          "output_type": "display_data"
        }
      ],
      "source": [
        "# 2.1 Wetterdatensatz 2 einlesen (Neuschneehöhe_cm,Schneehöhe_Morgenmessung_6_UTC_cm,Tag_mit_Hagel,Tag_mit_Nebel)\n",
        "url2 = \"https://raw.githubusercontent.com/RFankhauser/MSc_WI_BINA/refs/heads/main/Semesterarbeit/Wetterdaten/Wetterdatensatz2.csv\"\n",
        "df_wetter2 = pd.read_csv(url2, sep=\";\", encoding=\"utf-8\")\n",
        "\n",
        "# 2.2 Spaltennamen anpassen (gemäss der Legende)\n",
        "parameter_mapping2 = {\n",
        "    \"hns000d0\": \"Neuschneehöhe_cm\",\n",
        "    \"hto000d0\": \"Schneehöhe_Morgenmessung_6_UTC_cm\",\n",
        "    \"w3p002d0\": \"Tag_mit_Hagel\",\n",
        "    \"w5p002d0\": \"Tag_mit_Nebel\"\n",
        "}\n",
        "\n",
        "df_wetter2 = df_wetter2.rename(columns=parameter_mapping2)\n",
        "df_wetter2 = df_wetter2.rename(columns={\"stn\": \"stn2\", \"time\": \"time2\"})\n",
        "\n",
        "# 2.3 Konvertiere die 'time'-Spalte in df_wetter2 in das Datetime-Format\n",
        "df_wetter2['time2'] = pd.to_datetime(df_wetter2['time2'], format='%Y%m%d', errors='coerce')\n",
        "\n",
        "#  2.4 Ersten 10 Zeilen anzeigen\n",
        "display(df_wetter2.head(10))"
      ]
    },
    {
      "cell_type": "markdown",
      "metadata": {
        "id": "zElyKVaE7KW5"
      },
      "source": [
        "##### 2.2.2.3 Zusammenführen der beiden Wetterdatensätze\n",
        "\n",
        "Der Wetterdatensatz 2 hat nur eine tägliche Granularität, daher müssen die Tageswerte auf 24 Stunden multipliziert werden. Ansonsten kann das Zusammenführen der Datensätze aufgrund der unterschiedlichen Tabellenformate nicht funktionieren. Anschlissend werden die beiden Datensätze zusammengeführt."
      ]
    },
    {
      "cell_type": "code",
      "execution_count": 10,
      "metadata": {
        "id": "80FTlUf37KW6",
        "outputId": "0fba3c30-2558-4762-f4df-3e271a8bc321"
      },
      "outputs": [
        {
          "data": {
            "text/html": [
              "<div>\n",
              "<style scoped>\n",
              "    .dataframe tbody tr th:only-of-type {\n",
              "        vertical-align: middle;\n",
              "    }\n",
              "\n",
              "    .dataframe tbody tr th {\n",
              "        vertical-align: top;\n",
              "    }\n",
              "\n",
              "    .dataframe thead th {\n",
              "        text-align: right;\n",
              "    }\n",
              "</style>\n",
              "<table border=\"1\" class=\"dataframe\">\n",
              "  <thead>\n",
              "    <tr style=\"text-align: right;\">\n",
              "      <th></th>\n",
              "      <th>stn</th>\n",
              "      <th>time</th>\n",
              "      <th>Böenspitze_kmh</th>\n",
              "      <th>Globalstrahlung_Wm2</th>\n",
              "      <th>Temperatur_C</th>\n",
              "      <th>Niederschlag_mm</th>\n",
              "      <th>Windgeschwindigkeit_kmh</th>\n",
              "      <th>Neuschneehöhe_cm</th>\n",
              "      <th>Schneehöhe_Morgenmessung_6_UTC_cm</th>\n",
              "      <th>Tag_mit_Hagel</th>\n",
              "      <th>Tag_mit_Nebel</th>\n",
              "    </tr>\n",
              "  </thead>\n",
              "  <tbody>\n",
              "    <tr>\n",
              "      <th>0</th>\n",
              "      <td>NABZUE</td>\n",
              "      <td>2024-01-01 00:00:00</td>\n",
              "      <td>40.7</td>\n",
              "      <td>3</td>\n",
              "      <td>5.1</td>\n",
              "      <td>0.0</td>\n",
              "      <td>10.4</td>\n",
              "      <td>0</td>\n",
              "      <td>0</td>\n",
              "      <td>0</td>\n",
              "      <td>0</td>\n",
              "    </tr>\n",
              "    <tr>\n",
              "      <th>1</th>\n",
              "      <td>NABZUE</td>\n",
              "      <td>2024-01-01 01:00:00</td>\n",
              "      <td>24.8</td>\n",
              "      <td>-1</td>\n",
              "      <td>5.1</td>\n",
              "      <td>0.0</td>\n",
              "      <td>7.9</td>\n",
              "      <td>0</td>\n",
              "      <td>0</td>\n",
              "      <td>0</td>\n",
              "      <td>0</td>\n",
              "    </tr>\n",
              "    <tr>\n",
              "      <th>2</th>\n",
              "      <td>NABZUE</td>\n",
              "      <td>2024-01-01 02:00:00</td>\n",
              "      <td>32.0</td>\n",
              "      <td>-1</td>\n",
              "      <td>5.2</td>\n",
              "      <td>0.0</td>\n",
              "      <td>9.4</td>\n",
              "      <td>0</td>\n",
              "      <td>0</td>\n",
              "      <td>0</td>\n",
              "      <td>0</td>\n",
              "    </tr>\n",
              "    <tr>\n",
              "      <th>3</th>\n",
              "      <td>NABZUE</td>\n",
              "      <td>2024-01-01 03:00:00</td>\n",
              "      <td>21.2</td>\n",
              "      <td>0</td>\n",
              "      <td>5.3</td>\n",
              "      <td>0.1</td>\n",
              "      <td>9.4</td>\n",
              "      <td>0</td>\n",
              "      <td>0</td>\n",
              "      <td>0</td>\n",
              "      <td>0</td>\n",
              "    </tr>\n",
              "    <tr>\n",
              "      <th>4</th>\n",
              "      <td>NABZUE</td>\n",
              "      <td>2024-01-01 04:00:00</td>\n",
              "      <td>50.4</td>\n",
              "      <td>0</td>\n",
              "      <td>4.9</td>\n",
              "      <td>1.1</td>\n",
              "      <td>15.5</td>\n",
              "      <td>0</td>\n",
              "      <td>0</td>\n",
              "      <td>0</td>\n",
              "      <td>0</td>\n",
              "    </tr>\n",
              "    <tr>\n",
              "      <th>5</th>\n",
              "      <td>NABZUE</td>\n",
              "      <td>2024-01-01 05:00:00</td>\n",
              "      <td>33.5</td>\n",
              "      <td>0</td>\n",
              "      <td>5.3</td>\n",
              "      <td>0.0</td>\n",
              "      <td>12.6</td>\n",
              "      <td>0</td>\n",
              "      <td>0</td>\n",
              "      <td>0</td>\n",
              "      <td>0</td>\n",
              "    </tr>\n",
              "    <tr>\n",
              "      <th>6</th>\n",
              "      <td>NABZUE</td>\n",
              "      <td>2024-01-01 06:00:00</td>\n",
              "      <td>33.8</td>\n",
              "      <td>0</td>\n",
              "      <td>5.6</td>\n",
              "      <td>0.0</td>\n",
              "      <td>10.4</td>\n",
              "      <td>0</td>\n",
              "      <td>0</td>\n",
              "      <td>0</td>\n",
              "      <td>0</td>\n",
              "    </tr>\n",
              "    <tr>\n",
              "      <th>7</th>\n",
              "      <td>NABZUE</td>\n",
              "      <td>2024-01-01 07:00:00</td>\n",
              "      <td>36.7</td>\n",
              "      <td>0</td>\n",
              "      <td>6.0</td>\n",
              "      <td>0.0</td>\n",
              "      <td>11.9</td>\n",
              "      <td>0</td>\n",
              "      <td>0</td>\n",
              "      <td>0</td>\n",
              "      <td>0</td>\n",
              "    </tr>\n",
              "    <tr>\n",
              "      <th>8</th>\n",
              "      <td>NABZUE</td>\n",
              "      <td>2024-01-01 08:00:00</td>\n",
              "      <td>35.3</td>\n",
              "      <td>12</td>\n",
              "      <td>6.3</td>\n",
              "      <td>0.0</td>\n",
              "      <td>11.9</td>\n",
              "      <td>0</td>\n",
              "      <td>0</td>\n",
              "      <td>0</td>\n",
              "      <td>0</td>\n",
              "    </tr>\n",
              "    <tr>\n",
              "      <th>9</th>\n",
              "      <td>NABZUE</td>\n",
              "      <td>2024-01-01 09:00:00</td>\n",
              "      <td>31.3</td>\n",
              "      <td>51</td>\n",
              "      <td>6.7</td>\n",
              "      <td>0.0</td>\n",
              "      <td>10.1</td>\n",
              "      <td>0</td>\n",
              "      <td>0</td>\n",
              "      <td>0</td>\n",
              "      <td>0</td>\n",
              "    </tr>\n",
              "  </tbody>\n",
              "</table>\n",
              "</div>"
            ],
            "text/plain": [
              "      stn                time Böenspitze_kmh Globalstrahlung_Wm2  \\\n",
              "0  NABZUE 2024-01-01 00:00:00           40.7                   3   \n",
              "1  NABZUE 2024-01-01 01:00:00           24.8                  -1   \n",
              "2  NABZUE 2024-01-01 02:00:00           32.0                  -1   \n",
              "3  NABZUE 2024-01-01 03:00:00           21.2                   0   \n",
              "4  NABZUE 2024-01-01 04:00:00           50.4                   0   \n",
              "5  NABZUE 2024-01-01 05:00:00           33.5                   0   \n",
              "6  NABZUE 2024-01-01 06:00:00           33.8                   0   \n",
              "7  NABZUE 2024-01-01 07:00:00           36.7                   0   \n",
              "8  NABZUE 2024-01-01 08:00:00           35.3                  12   \n",
              "9  NABZUE 2024-01-01 09:00:00           31.3                  51   \n",
              "\n",
              "   Temperatur_C  Niederschlag_mm Windgeschwindigkeit_kmh  Neuschneehöhe_cm  \\\n",
              "0           5.1              0.0                    10.4                 0   \n",
              "1           5.1              0.0                     7.9                 0   \n",
              "2           5.2              0.0                     9.4                 0   \n",
              "3           5.3              0.1                     9.4                 0   \n",
              "4           4.9              1.1                    15.5                 0   \n",
              "5           5.3              0.0                    12.6                 0   \n",
              "6           5.6              0.0                    10.4                 0   \n",
              "7           6.0              0.0                    11.9                 0   \n",
              "8           6.3              0.0                    11.9                 0   \n",
              "9           6.7              0.0                    10.1                 0   \n",
              "\n",
              "   Schneehöhe_Morgenmessung_6_UTC_cm  Tag_mit_Hagel  Tag_mit_Nebel  \n",
              "0                                  0              0              0  \n",
              "1                                  0              0              0  \n",
              "2                                  0              0              0  \n",
              "3                                  0              0              0  \n",
              "4                                  0              0              0  \n",
              "5                                  0              0              0  \n",
              "6                                  0              0              0  \n",
              "7                                  0              0              0  \n",
              "8                                  0              0              0  \n",
              "9                                  0              0              0  "
            ]
          },
          "metadata": {},
          "output_type": "display_data"
        }
      ],
      "source": [
        "#Beide Wetter Datensätze mergen\n",
        "\n",
        "# 3.1 Wiederhole die täglichen Werte von df_wetter2 für jede Stunde des Tages\n",
        "df_wetter2_repeated = df_wetter2.loc[df_wetter2.index.repeat(24)].reset_index(drop=True)\n",
        "\n",
        "# 3.2 Kombiniere die beiden DataFrames\n",
        "df_wetter = pd.concat([df_wetter1.reset_index(drop=True), df_wetter2_repeated], axis=1)\n",
        "\n",
        "# 3.3 Entferne die Spalten 'stn2' und 'time2' aus dem kombinierten DataFrame\n",
        "df_wetter = df_wetter.drop(columns=['stn2', 'time2'])\n",
        "\n",
        "# 3.4 Zeige die ersten 10 Zeilen des kombinierten DataFrames an\n",
        "display(df_wetter.head(10))"
      ]
    },
    {
      "cell_type": "markdown",
      "metadata": {
        "id": "uyjr-Qyx7KW6"
      },
      "source": [
        "##### 2.2.2.4 Datenbereinigung & Formatierung\n",
        "\n",
        "Die relevanten Spalten wurden in numerische Werte (Float) umgewandelt. Ungültige Werte (-) wurden als NaN markiert und anschliessend mit dem Durchschnitt der jeweiligen Spalte ersetzt. Abschliessend wurde die Anzahl verbleibender NaN-Werte ausgegeben, um sicherzustellen, dass keine Datenlücken mehr vorhanden sind.\n"
      ]
    },
    {
      "cell_type": "code",
      "execution_count": 11,
      "metadata": {
        "id": "Kx8VxJcA7KW6",
        "outputId": "6623f52a-c79e-4cc4-e4ea-0f9e5f331894"
      },
      "outputs": [
        {
          "name": "stdout",
          "output_type": "stream",
          "text": [
            "stn                                          object\n",
            "time                                 datetime64[ns]\n",
            "Böenspitze_kmh                              float64\n",
            "Globalstrahlung_Wm2                         float64\n",
            "Temperatur_C                                float64\n",
            "Niederschlag_mm                             float64\n",
            "Windgeschwindigkeit_kmh                     float64\n",
            "Neuschneehöhe_cm                            float64\n",
            "Schneehöhe_Morgenmessung_6_UTC_cm           float64\n",
            "Tag_mit_Hagel                                 int64\n",
            "Tag_mit_Nebel                                 int64\n",
            "dtype: object\n",
            "Anzahl der NaN-Werte pro Spalte:\n",
            "stn                                  0\n",
            "time                                 0\n",
            "Böenspitze_kmh                       0\n",
            "Globalstrahlung_Wm2                  0\n",
            "Temperatur_C                         0\n",
            "Niederschlag_mm                      0\n",
            "Windgeschwindigkeit_kmh              0\n",
            "Neuschneehöhe_cm                     0\n",
            "Schneehöhe_Morgenmessung_6_UTC_cm    0\n",
            "Tag_mit_Hagel                        0\n",
            "Tag_mit_Nebel                        0\n",
            "dtype: int64\n"
          ]
        }
      ],
      "source": [
        "# 4.1 Umwandlung der angegebenen Spalten in float\n",
        "columns_to_convert = [\"Böenspitze_kmh\", \"Globalstrahlung_Wm2\", \"Windgeschwindigkeit_kmh\", \"Neuschneehöhe_cm\", \"Schneehöhe_Morgenmessung_6_UTC_cm\"]\n",
        "\n",
        "# 4.1.1 Ersetzen von \"-\" durch NaN in den relevanten Spalten\n",
        "df_wetter[columns_to_convert] = df_wetter[columns_to_convert].replace(\"-\", np.nan)\n",
        "\n",
        "# 4.1.2 Konvertierung der Spalten in float\n",
        "df_wetter[columns_to_convert] = df_wetter[columns_to_convert].astype(float)\n",
        "\n",
        "# 4.2 Konvertierung der Spalten in Float, fehlerhafte Werte als NaN setzen\n",
        "df_wetter[columns_to_convert] = df_wetter[columns_to_convert].astype(float)\n",
        "\n",
        "# 4.3 Überprüfen, ob die Umwandlung geklappt hat\n",
        "print(df_wetter.dtypes)\n",
        "\n",
        "# 4.4 Ersetzen von \"-\" durch NaN\n",
        "df_wetter.replace(\"-\", np.nan, inplace=True)\n",
        "\n",
        "# 4.5 Alle Zeilen mit NaN-Werten extrahieren\n",
        "df_nan = df_wetter[df_wetter.isna().any(axis=1)]\n",
        "\n",
        "# 4.6 Durchschnitt für jede Spalte berechnen und fehlende Werte durch den jeweiligen Durchschnitt ersetzen\n",
        "df_wetter.fillna(df_wetter.mean(numeric_only=True), inplace=True)\n",
        "\n",
        "# 4.7 Anzahl der NaN-Werte pro Spalte anzeigen\n",
        "nan_summary = df_wetter.isna().sum()\n",
        "\n",
        "# 4.8 Anzahl der NaN-Werte pro Spalte ausgeben\n",
        "print(\"Anzahl der NaN-Werte pro Spalte:\")\n",
        "print(nan_summary)"
      ]
    },
    {
      "cell_type": "markdown",
      "metadata": {
        "id": "OMWWz60w7KW7"
      },
      "source": [
        "##### 2.2.2.5 Überprüfung der Wetterdaten\n",
        "\n",
        "Zur Plausibilitätsprüfung der Wetterdaten wurde ein Plot erstellt, der die geglättete Temperatur über den Jahresverlauf darstellt. Die Visualisierung zeigt ein erwartbares Muster: höhere Temperaturen im Sommer und niedrigere Temperaturen im Winter. Dies bestätigt die Plausibilität der Daten."
      ]
    },
    {
      "cell_type": "code",
      "execution_count": 12,
      "metadata": {
        "id": "0h3jTBXk7KW7",
        "outputId": "6745702c-8e04-483c-9c83-4688ded28114"
      },
      "outputs": [
        {
          "data": {
            "image/png": "[encoded data removed]",
            "text/plain": [
              "<Figure size 1200x600 with 1 Axes>"
            ]
          },
          "metadata": {},
          "output_type": "display_data"
        }
      ],
      "source": [
        "import matplotlib.dates as mdates\n",
        "# 5.1 Gleitender Mittelwert (Moving Average) über 24 Stunden zur Glättung\n",
        "df_wetter['Temperatur_Glatt'] = df_wetter['Temperatur_C'].rolling(window=24, min_periods=1).mean()\n",
        "\n",
        "# 5.2 Liniendiagramm mit geglätteten Werten\n",
        "plt.figure(figsize=(12, 6))\n",
        "sns.lineplot(x=df_wetter['time'], y=df_wetter['Temperatur_Glatt'], label='Geglättete Temperatur (°C)')\n",
        "\n",
        "# 5.3 Achsentitel und Diagrammtitel setzen\n",
        "plt.xlabel('Monat')\n",
        "plt.ylabel('Temperatur (°C)')\n",
        "plt.title('Geglätteter Temperaturverlauf über das Jahr')\n",
        "\n",
        "# 5.4 X-Achse so formatieren, dass jeder Rasterpunkt einen Monat zeigt\n",
        "plt.gca().xaxis.set_major_locator(mdates.MonthLocator())  # Jeden Monat einen Rasterpunkt setzen\n",
        "plt.gca().xaxis.set_major_formatter(mdates.DateFormatter('%Y-%m'))  # Format als \"YYYY-MM\"\n",
        "\n",
        "# 5.5 Legende und Raster hinzufügen\n",
        "plt.legend()\n",
        "plt.grid()\n",
        "\n",
        "# 5.6 Diagramm anzeigen\n",
        "plt.show()"
      ]
    },
    {
      "cell_type": "code",
      "execution_count": 13,
      "metadata": {
        "id": "nEcmSDHS7KW8",
        "outputId": "5eedb8d5-26e7-4341-94f3-f312f7f9b42e"
      },
      "outputs": [
        {
          "data": {
            "text/html": [
              "<div>\n",
              "<style scoped>\n",
              "    .dataframe tbody tr th:only-of-type {\n",
              "        vertical-align: middle;\n",
              "    }\n",
              "\n",
              "    .dataframe tbody tr th {\n",
              "        vertical-align: top;\n",
              "    }\n",
              "\n",
              "    .dataframe thead th {\n",
              "        text-align: right;\n",
              "    }\n",
              "</style>\n",
              "<table border=\"1\" class=\"dataframe\">\n",
              "  <thead>\n",
              "    <tr style=\"text-align: right;\">\n",
              "      <th></th>\n",
              "      <th>time</th>\n",
              "      <th>Böenspitze_kmh</th>\n",
              "      <th>Globalstrahlung_Wm2</th>\n",
              "      <th>Temperatur_C</th>\n",
              "      <th>Niederschlag_mm</th>\n",
              "      <th>Windgeschwindigkeit_kmh</th>\n",
              "      <th>Neuschneehöhe_cm</th>\n",
              "      <th>Schneehöhe_Morgenmessung_6_UTC_cm</th>\n",
              "      <th>Tag_mit_Hagel</th>\n",
              "      <th>Tag_mit_Nebel</th>\n",
              "      <th>Temperatur_Glatt</th>\n",
              "    </tr>\n",
              "  </thead>\n",
              "  <tbody>\n",
              "    <tr>\n",
              "      <th>count</th>\n",
              "      <td>8784</td>\n",
              "      <td>8784.000000</td>\n",
              "      <td>8784.000000</td>\n",
              "      <td>8784.000000</td>\n",
              "      <td>8784.000000</td>\n",
              "      <td>8784.000000</td>\n",
              "      <td>8784.000000</td>\n",
              "      <td>8784.000000</td>\n",
              "      <td>8784.000000</td>\n",
              "      <td>8784.000000</td>\n",
              "      <td>8784.000000</td>\n",
              "    </tr>\n",
              "    <tr>\n",
              "      <th>mean</th>\n",
              "      <td>2024-07-01 23:30:00</td>\n",
              "      <td>18.137074</td>\n",
              "      <td>128.763568</td>\n",
              "      <td>12.683003</td>\n",
              "      <td>0.134882</td>\n",
              "      <td>7.836387</td>\n",
              "      <td>0.076503</td>\n",
              "      <td>0.155738</td>\n",
              "      <td>0.002732</td>\n",
              "      <td>0.117486</td>\n",
              "      <td>12.691263</td>\n",
              "    </tr>\n",
              "    <tr>\n",
              "      <th>min</th>\n",
              "      <td>2024-01-01 00:00:00</td>\n",
              "      <td>3.600000</td>\n",
              "      <td>-7.000000</td>\n",
              "      <td>-5.100000</td>\n",
              "      <td>0.000000</td>\n",
              "      <td>1.400000</td>\n",
              "      <td>0.000000</td>\n",
              "      <td>0.000000</td>\n",
              "      <td>0.000000</td>\n",
              "      <td>0.000000</td>\n",
              "      <td>-3.158333</td>\n",
              "    </tr>\n",
              "    <tr>\n",
              "      <th>25%</th>\n",
              "      <td>2024-04-01 11:45:00</td>\n",
              "      <td>11.200000</td>\n",
              "      <td>-1.000000</td>\n",
              "      <td>7.000000</td>\n",
              "      <td>0.000000</td>\n",
              "      <td>5.000000</td>\n",
              "      <td>0.000000</td>\n",
              "      <td>0.000000</td>\n",
              "      <td>0.000000</td>\n",
              "      <td>0.000000</td>\n",
              "      <td>7.204167</td>\n",
              "    </tr>\n",
              "    <tr>\n",
              "      <th>50%</th>\n",
              "      <td>2024-07-01 23:30:00</td>\n",
              "      <td>15.800000</td>\n",
              "      <td>4.000000</td>\n",
              "      <td>12.000000</td>\n",
              "      <td>0.000000</td>\n",
              "      <td>7.200000</td>\n",
              "      <td>0.000000</td>\n",
              "      <td>0.000000</td>\n",
              "      <td>0.000000</td>\n",
              "      <td>0.000000</td>\n",
              "      <td>12.218750</td>\n",
              "    </tr>\n",
              "    <tr>\n",
              "      <th>75%</th>\n",
              "      <td>2024-10-01 11:15:00</td>\n",
              "      <td>22.300000</td>\n",
              "      <td>168.000000</td>\n",
              "      <td>18.400000</td>\n",
              "      <td>0.000000</td>\n",
              "      <td>9.700000</td>\n",
              "      <td>0.000000</td>\n",
              "      <td>0.000000</td>\n",
              "      <td>0.000000</td>\n",
              "      <td>0.000000</td>\n",
              "      <td>18.333333</td>\n",
              "    </tr>\n",
              "    <tr>\n",
              "      <th>max</th>\n",
              "      <td>2024-12-31 23:00:00</td>\n",
              "      <td>83.900000</td>\n",
              "      <td>1039.000000</td>\n",
              "      <td>34.600000</td>\n",
              "      <td>11.700000</td>\n",
              "      <td>31.000000</td>\n",
              "      <td>17.000000</td>\n",
              "      <td>17.000000</td>\n",
              "      <td>1.000000</td>\n",
              "      <td>1.000000</td>\n",
              "      <td>28.704167</td>\n",
              "    </tr>\n",
              "    <tr>\n",
              "      <th>std</th>\n",
              "      <td>NaN</td>\n",
              "      <td>10.000674</td>\n",
              "      <td>216.765757</td>\n",
              "      <td>7.739708</td>\n",
              "      <td>0.549063</td>\n",
              "      <td>3.948387</td>\n",
              "      <td>0.943623</td>\n",
              "      <td>1.161988</td>\n",
              "      <td>0.052202</td>\n",
              "      <td>0.322017</td>\n",
              "      <td>7.301960</td>\n",
              "    </tr>\n",
              "  </tbody>\n",
              "</table>\n",
              "</div>"
            ],
            "text/plain": [
              "                      time  Böenspitze_kmh  Globalstrahlung_Wm2  Temperatur_C  \\\n",
              "count                 8784     8784.000000          8784.000000   8784.000000   \n",
              "mean   2024-07-01 23:30:00       18.137074           128.763568     12.683003   \n",
              "min    2024-01-01 00:00:00        3.600000            -7.000000     -5.100000   \n",
              "25%    2024-04-01 11:45:00       11.200000            -1.000000      7.000000   \n",
              "50%    2024-07-01 23:30:00       15.800000             4.000000     12.000000   \n",
              "75%    2024-10-01 11:15:00       22.300000           168.000000     18.400000   \n",
              "max    2024-12-31 23:00:00       83.900000          1039.000000     34.600000   \n",
              "std                    NaN       10.000674           216.765757      7.739708   \n",
              "\n",
              "       Niederschlag_mm  Windgeschwindigkeit_kmh  Neuschneehöhe_cm  \\\n",
              "count      8784.000000              8784.000000       8784.000000   \n",
              "mean          0.134882                 7.836387          0.076503   \n",
              "min           0.000000                 1.400000          0.000000   \n",
              "25%           0.000000                 5.000000          0.000000   \n",
              "50%           0.000000                 7.200000          0.000000   \n",
              "75%           0.000000                 9.700000          0.000000   \n",
              "max          11.700000                31.000000         17.000000   \n",
              "std           0.549063                 3.948387          0.943623   \n",
              "\n",
              "       Schneehöhe_Morgenmessung_6_UTC_cm  Tag_mit_Hagel  Tag_mit_Nebel  \\\n",
              "count                        8784.000000    8784.000000    8784.000000   \n",
              "mean                            0.155738       0.002732       0.117486   \n",
              "min                             0.000000       0.000000       0.000000   \n",
              "25%                             0.000000       0.000000       0.000000   \n",
              "50%                             0.000000       0.000000       0.000000   \n",
              "75%                             0.000000       0.000000       0.000000   \n",
              "max                            17.000000       1.000000       1.000000   \n",
              "std                             1.161988       0.052202       0.322017   \n",
              "\n",
              "       Temperatur_Glatt  \n",
              "count       8784.000000  \n",
              "mean          12.691263  \n",
              "min           -3.158333  \n",
              "25%            7.204167  \n",
              "50%           12.218750  \n",
              "75%           18.333333  \n",
              "max           28.704167  \n",
              "std            7.301960  "
            ]
          },
          "execution_count": 13,
          "metadata": {},
          "output_type": "execute_result"
        }
      ],
      "source": [
        "df_wetter.describe()"
      ]
    },
    {
      "cell_type": "markdown",
      "metadata": {
        "id": "2ZNG0DdZ7KW8"
      },
      "source": [
        "### 2.2.2.3 Zusammenführen der Verkehrsdaten und Wetterdaten"
      ]
    },
    {
      "cell_type": "code",
      "execution_count": 14,
      "metadata": {},
      "outputs": [
        {
          "name": "stderr",
          "output_type": "stream",
          "text": [
            "C:\\Users\\Donat\\AppData\\Local\\Temp\\ipykernel_25760\\1894873724.py:3: FutureWarning: 'H' is deprecated and will be removed in a future version, please use 'h' instead.\n",
            "  df_verkehr_2024_filtered[\"ABFAHRTSZEIT_aggregiert\"] = df_verkehr_2024_filtered[\"ABFAHRTSZEIT\"].dt.floor(\"H\")\n"
          ]
        },
        {
          "data": {
            "text/html": [
              "<div>\n",
              "<style scoped>\n",
              "    .dataframe tbody tr th:only-of-type {\n",
              "        vertical-align: middle;\n",
              "    }\n",
              "\n",
              "    .dataframe tbody tr th {\n",
              "        vertical-align: top;\n",
              "    }\n",
              "\n",
              "    .dataframe thead th {\n",
              "        text-align: right;\n",
              "    }\n",
              "</style>\n",
              "<table border=\"1\" class=\"dataframe\">\n",
              "  <thead>\n",
              "    <tr style=\"text-align: right;\">\n",
              "      <th></th>\n",
              "      <th>LINIEN_TEXT</th>\n",
              "      <th>HALTESTELLEN_NAME</th>\n",
              "      <th>ABFAHRTSZEIT</th>\n",
              "      <th>AB_PROGNOSE</th>\n",
              "      <th>AB_PROGNOSE_STATUS</th>\n",
              "      <th>VERSPAETUNG [s]</th>\n",
              "      <th>ABFAHRTSZEIT_aggregiert</th>\n",
              "    </tr>\n",
              "  </thead>\n",
              "  <tbody>\n",
              "    <tr>\n",
              "      <th>0</th>\n",
              "      <td>10</td>\n",
              "      <td>Zürich, Salersteig</td>\n",
              "      <td>2024-01-01 04:36:00</td>\n",
              "      <td>2024-01-01 04:37:09</td>\n",
              "      <td>REAL</td>\n",
              "      <td>-69.0</td>\n",
              "      <td>2024-01-01 04:00:00</td>\n",
              "    </tr>\n",
              "    <tr>\n",
              "      <th>1</th>\n",
              "      <td>10</td>\n",
              "      <td>Zürich, Berninaplatz</td>\n",
              "      <td>2024-01-01 04:37:00</td>\n",
              "      <td>2024-01-01 04:38:08</td>\n",
              "      <td>REAL</td>\n",
              "      <td>-68.0</td>\n",
              "      <td>2024-01-01 04:00:00</td>\n",
              "    </tr>\n",
              "    <tr>\n",
              "      <th>2</th>\n",
              "      <td>10</td>\n",
              "      <td>Zürich, Hirschwiesenstrasse</td>\n",
              "      <td>2024-01-01 04:38:00</td>\n",
              "      <td>2024-01-01 04:39:12</td>\n",
              "      <td>REAL</td>\n",
              "      <td>-72.0</td>\n",
              "      <td>2024-01-01 04:00:00</td>\n",
              "    </tr>\n",
              "    <tr>\n",
              "      <th>3</th>\n",
              "      <td>2</td>\n",
              "      <td>Zürich,Kalkbreite/Bhf.Wiedikon</td>\n",
              "      <td>2024-01-01 04:39:00</td>\n",
              "      <td>2024-01-01 04:39:42</td>\n",
              "      <td>REAL</td>\n",
              "      <td>-42.0</td>\n",
              "      <td>2024-01-01 04:00:00</td>\n",
              "    </tr>\n",
              "    <tr>\n",
              "      <th>4</th>\n",
              "      <td>12</td>\n",
              "      <td>Zürich, Sternen Oerlikon</td>\n",
              "      <td>2024-01-01 04:40:00</td>\n",
              "      <td>2024-01-01 04:40:00</td>\n",
              "      <td>REAL</td>\n",
              "      <td>0.0</td>\n",
              "      <td>2024-01-01 04:00:00</td>\n",
              "    </tr>\n",
              "    <tr>\n",
              "      <th>5</th>\n",
              "      <td>2</td>\n",
              "      <td>Zürich, Lochergut</td>\n",
              "      <td>2024-01-01 04:40:00</td>\n",
              "      <td>2024-01-01 04:40:45</td>\n",
              "      <td>REAL</td>\n",
              "      <td>-45.0</td>\n",
              "      <td>2024-01-01 04:00:00</td>\n",
              "    </tr>\n",
              "    <tr>\n",
              "      <th>6</th>\n",
              "      <td>10</td>\n",
              "      <td>Zürich, Milchbuck</td>\n",
              "      <td>2024-01-01 04:40:00</td>\n",
              "      <td>2024-01-01 04:42:18</td>\n",
              "      <td>REAL</td>\n",
              "      <td>-138.0</td>\n",
              "      <td>2024-01-01 04:00:00</td>\n",
              "    </tr>\n",
              "    <tr>\n",
              "      <th>7</th>\n",
              "      <td>12</td>\n",
              "      <td>Zürich, Bahnhof Oerlikon Ost</td>\n",
              "      <td>2024-01-01 04:41:00</td>\n",
              "      <td>2024-01-01 04:41:47</td>\n",
              "      <td>REAL</td>\n",
              "      <td>-47.0</td>\n",
              "      <td>2024-01-01 04:00:00</td>\n",
              "    </tr>\n",
              "    <tr>\n",
              "      <th>8</th>\n",
              "      <td>10</td>\n",
              "      <td>Zürich, Universität Irchel</td>\n",
              "      <td>2024-01-01 04:41:00</td>\n",
              "      <td>2024-01-01 04:44:07</td>\n",
              "      <td>REAL</td>\n",
              "      <td>-187.0</td>\n",
              "      <td>2024-01-01 04:00:00</td>\n",
              "    </tr>\n",
              "    <tr>\n",
              "      <th>9</th>\n",
              "      <td>2</td>\n",
              "      <td>Zürich, Zypressenstrasse</td>\n",
              "      <td>2024-01-01 04:41:00</td>\n",
              "      <td>2024-01-01 04:41:44</td>\n",
              "      <td>REAL</td>\n",
              "      <td>-44.0</td>\n",
              "      <td>2024-01-01 04:00:00</td>\n",
              "    </tr>\n",
              "  </tbody>\n",
              "</table>\n",
              "</div>"
            ],
            "text/plain": [
              "   LINIEN_TEXT               HALTESTELLEN_NAME        ABFAHRTSZEIT  \\\n",
              "0           10              Zürich, Salersteig 2024-01-01 04:36:00   \n",
              "1           10            Zürich, Berninaplatz 2024-01-01 04:37:00   \n",
              "2           10     Zürich, Hirschwiesenstrasse 2024-01-01 04:38:00   \n",
              "3            2  Zürich,Kalkbreite/Bhf.Wiedikon 2024-01-01 04:39:00   \n",
              "4           12        Zürich, Sternen Oerlikon 2024-01-01 04:40:00   \n",
              "5            2               Zürich, Lochergut 2024-01-01 04:40:00   \n",
              "6           10               Zürich, Milchbuck 2024-01-01 04:40:00   \n",
              "7           12    Zürich, Bahnhof Oerlikon Ost 2024-01-01 04:41:00   \n",
              "8           10      Zürich, Universität Irchel 2024-01-01 04:41:00   \n",
              "9            2        Zürich, Zypressenstrasse 2024-01-01 04:41:00   \n",
              "\n",
              "          AB_PROGNOSE AB_PROGNOSE_STATUS  VERSPAETUNG [s]  \\\n",
              "0 2024-01-01 04:37:09               REAL            -69.0   \n",
              "1 2024-01-01 04:38:08               REAL            -68.0   \n",
              "2 2024-01-01 04:39:12               REAL            -72.0   \n",
              "3 2024-01-01 04:39:42               REAL            -42.0   \n",
              "4 2024-01-01 04:40:00               REAL              0.0   \n",
              "5 2024-01-01 04:40:45               REAL            -45.0   \n",
              "6 2024-01-01 04:42:18               REAL           -138.0   \n",
              "7 2024-01-01 04:41:47               REAL            -47.0   \n",
              "8 2024-01-01 04:44:07               REAL           -187.0   \n",
              "9 2024-01-01 04:41:44               REAL            -44.0   \n",
              "\n",
              "  ABFAHRTSZEIT_aggregiert  \n",
              "0     2024-01-01 04:00:00  \n",
              "1     2024-01-01 04:00:00  \n",
              "2     2024-01-01 04:00:00  \n",
              "3     2024-01-01 04:00:00  \n",
              "4     2024-01-01 04:00:00  \n",
              "5     2024-01-01 04:00:00  \n",
              "6     2024-01-01 04:00:00  \n",
              "7     2024-01-01 04:00:00  \n",
              "8     2024-01-01 04:00:00  \n",
              "9     2024-01-01 04:00:00  "
            ]
          },
          "metadata": {},
          "output_type": "display_data"
        }
      ],
      "source": [
        "#Aggregiere die Verspätungen auf stündliche Intervalle\n",
        "# Neue Spalte: Stündlich abgerundeter Timestamp (z. B. 2025-02-22 12:00:00)\n",
        "df_verkehr_2024_filtered[\"ABFAHRTSZEIT_aggregiert\"] = df_verkehr_2024_filtered[\"ABFAHRTSZEIT\"].dt.floor(\"H\")\n",
        "display(df_verkehr_2024_filtered.head(10))"
      ]
    },
    {
      "cell_type": "code",
      "execution_count": 15,
      "metadata": {
        "id": "ZBR3sgQv7KW8"
      },
      "outputs": [
        {
          "data": {
            "text/html": [
              "<div>\n",
              "<style scoped>\n",
              "    .dataframe tbody tr th:only-of-type {\n",
              "        vertical-align: middle;\n",
              "    }\n",
              "\n",
              "    .dataframe tbody tr th {\n",
              "        vertical-align: top;\n",
              "    }\n",
              "\n",
              "    .dataframe thead th {\n",
              "        text-align: right;\n",
              "    }\n",
              "</style>\n",
              "<table border=\"1\" class=\"dataframe\">\n",
              "  <thead>\n",
              "    <tr style=\"text-align: right;\">\n",
              "      <th></th>\n",
              "      <th>LINIEN_TEXT</th>\n",
              "      <th>HALTESTELLEN_NAME</th>\n",
              "      <th>ABFAHRTSZEIT</th>\n",
              "      <th>AB_PROGNOSE</th>\n",
              "      <th>AB_PROGNOSE_STATUS</th>\n",
              "      <th>VERSPAETUNG [s]</th>\n",
              "      <th>ABFAHRTSZEIT_aggregiert</th>\n",
              "      <th>stn</th>\n",
              "      <th>time</th>\n",
              "      <th>Böenspitze_kmh</th>\n",
              "      <th>Globalstrahlung_Wm2</th>\n",
              "      <th>Temperatur_C</th>\n",
              "      <th>Niederschlag_mm</th>\n",
              "      <th>Windgeschwindigkeit_kmh</th>\n",
              "      <th>Neuschneehöhe_cm</th>\n",
              "      <th>Schneehöhe_Morgenmessung_6_UTC_cm</th>\n",
              "      <th>Tag_mit_Hagel</th>\n",
              "      <th>Tag_mit_Nebel</th>\n",
              "      <th>Temperatur_Glatt</th>\n",
              "      <th>timestamp_merge</th>\n",
              "    </tr>\n",
              "  </thead>\n",
              "  <tbody>\n",
              "    <tr>\n",
              "      <th>0</th>\n",
              "      <td>10</td>\n",
              "      <td>Zürich, Salersteig</td>\n",
              "      <td>2024-01-01 04:36:00</td>\n",
              "      <td>2024-01-01 04:37:09</td>\n",
              "      <td>REAL</td>\n",
              "      <td>-69.0</td>\n",
              "      <td>2024-01-01 04:00:00</td>\n",
              "      <td>NABZUE</td>\n",
              "      <td>2024-01-01 04:00:00</td>\n",
              "      <td>50.4</td>\n",
              "      <td>0.0</td>\n",
              "      <td>4.9</td>\n",
              "      <td>1.1</td>\n",
              "      <td>15.5</td>\n",
              "      <td>0.0</td>\n",
              "      <td>0.0</td>\n",
              "      <td>0.0</td>\n",
              "      <td>0.0</td>\n",
              "      <td>5.12</td>\n",
              "      <td>2024-01-01 04:00:00</td>\n",
              "    </tr>\n",
              "    <tr>\n",
              "      <th>1</th>\n",
              "      <td>10</td>\n",
              "      <td>Zürich, Berninaplatz</td>\n",
              "      <td>2024-01-01 04:37:00</td>\n",
              "      <td>2024-01-01 04:38:08</td>\n",
              "      <td>REAL</td>\n",
              "      <td>-68.0</td>\n",
              "      <td>2024-01-01 04:00:00</td>\n",
              "      <td>NABZUE</td>\n",
              "      <td>2024-01-01 04:00:00</td>\n",
              "      <td>50.4</td>\n",
              "      <td>0.0</td>\n",
              "      <td>4.9</td>\n",
              "      <td>1.1</td>\n",
              "      <td>15.5</td>\n",
              "      <td>0.0</td>\n",
              "      <td>0.0</td>\n",
              "      <td>0.0</td>\n",
              "      <td>0.0</td>\n",
              "      <td>5.12</td>\n",
              "      <td>2024-01-01 04:00:00</td>\n",
              "    </tr>\n",
              "    <tr>\n",
              "      <th>2</th>\n",
              "      <td>10</td>\n",
              "      <td>Zürich, Hirschwiesenstrasse</td>\n",
              "      <td>2024-01-01 04:38:00</td>\n",
              "      <td>2024-01-01 04:39:12</td>\n",
              "      <td>REAL</td>\n",
              "      <td>-72.0</td>\n",
              "      <td>2024-01-01 04:00:00</td>\n",
              "      <td>NABZUE</td>\n",
              "      <td>2024-01-01 04:00:00</td>\n",
              "      <td>50.4</td>\n",
              "      <td>0.0</td>\n",
              "      <td>4.9</td>\n",
              "      <td>1.1</td>\n",
              "      <td>15.5</td>\n",
              "      <td>0.0</td>\n",
              "      <td>0.0</td>\n",
              "      <td>0.0</td>\n",
              "      <td>0.0</td>\n",
              "      <td>5.12</td>\n",
              "      <td>2024-01-01 04:00:00</td>\n",
              "    </tr>\n",
              "    <tr>\n",
              "      <th>3</th>\n",
              "      <td>2</td>\n",
              "      <td>Zürich,Kalkbreite/Bhf.Wiedikon</td>\n",
              "      <td>2024-01-01 04:39:00</td>\n",
              "      <td>2024-01-01 04:39:42</td>\n",
              "      <td>REAL</td>\n",
              "      <td>-42.0</td>\n",
              "      <td>2024-01-01 04:00:00</td>\n",
              "      <td>NABZUE</td>\n",
              "      <td>2024-01-01 04:00:00</td>\n",
              "      <td>50.4</td>\n",
              "      <td>0.0</td>\n",
              "      <td>4.9</td>\n",
              "      <td>1.1</td>\n",
              "      <td>15.5</td>\n",
              "      <td>0.0</td>\n",
              "      <td>0.0</td>\n",
              "      <td>0.0</td>\n",
              "      <td>0.0</td>\n",
              "      <td>5.12</td>\n",
              "      <td>2024-01-01 04:00:00</td>\n",
              "    </tr>\n",
              "    <tr>\n",
              "      <th>4</th>\n",
              "      <td>12</td>\n",
              "      <td>Zürich, Sternen Oerlikon</td>\n",
              "      <td>2024-01-01 04:40:00</td>\n",
              "      <td>2024-01-01 04:40:00</td>\n",
              "      <td>REAL</td>\n",
              "      <td>0.0</td>\n",
              "      <td>2024-01-01 04:00:00</td>\n",
              "      <td>NABZUE</td>\n",
              "      <td>2024-01-01 04:00:00</td>\n",
              "      <td>50.4</td>\n",
              "      <td>0.0</td>\n",
              "      <td>4.9</td>\n",
              "      <td>1.1</td>\n",
              "      <td>15.5</td>\n",
              "      <td>0.0</td>\n",
              "      <td>0.0</td>\n",
              "      <td>0.0</td>\n",
              "      <td>0.0</td>\n",
              "      <td>5.12</td>\n",
              "      <td>2024-01-01 04:00:00</td>\n",
              "    </tr>\n",
              "    <tr>\n",
              "      <th>5</th>\n",
              "      <td>2</td>\n",
              "      <td>Zürich, Lochergut</td>\n",
              "      <td>2024-01-01 04:40:00</td>\n",
              "      <td>2024-01-01 04:40:45</td>\n",
              "      <td>REAL</td>\n",
              "      <td>-45.0</td>\n",
              "      <td>2024-01-01 04:00:00</td>\n",
              "      <td>NABZUE</td>\n",
              "      <td>2024-01-01 04:00:00</td>\n",
              "      <td>50.4</td>\n",
              "      <td>0.0</td>\n",
              "      <td>4.9</td>\n",
              "      <td>1.1</td>\n",
              "      <td>15.5</td>\n",
              "      <td>0.0</td>\n",
              "      <td>0.0</td>\n",
              "      <td>0.0</td>\n",
              "      <td>0.0</td>\n",
              "      <td>5.12</td>\n",
              "      <td>2024-01-01 04:00:00</td>\n",
              "    </tr>\n",
              "    <tr>\n",
              "      <th>6</th>\n",
              "      <td>10</td>\n",
              "      <td>Zürich, Milchbuck</td>\n",
              "      <td>2024-01-01 04:40:00</td>\n",
              "      <td>2024-01-01 04:42:18</td>\n",
              "      <td>REAL</td>\n",
              "      <td>-138.0</td>\n",
              "      <td>2024-01-01 04:00:00</td>\n",
              "      <td>NABZUE</td>\n",
              "      <td>2024-01-01 04:00:00</td>\n",
              "      <td>50.4</td>\n",
              "      <td>0.0</td>\n",
              "      <td>4.9</td>\n",
              "      <td>1.1</td>\n",
              "      <td>15.5</td>\n",
              "      <td>0.0</td>\n",
              "      <td>0.0</td>\n",
              "      <td>0.0</td>\n",
              "      <td>0.0</td>\n",
              "      <td>5.12</td>\n",
              "      <td>2024-01-01 04:00:00</td>\n",
              "    </tr>\n",
              "    <tr>\n",
              "      <th>7</th>\n",
              "      <td>12</td>\n",
              "      <td>Zürich, Bahnhof Oerlikon Ost</td>\n",
              "      <td>2024-01-01 04:41:00</td>\n",
              "      <td>2024-01-01 04:41:47</td>\n",
              "      <td>REAL</td>\n",
              "      <td>-47.0</td>\n",
              "      <td>2024-01-01 04:00:00</td>\n",
              "      <td>NABZUE</td>\n",
              "      <td>2024-01-01 04:00:00</td>\n",
              "      <td>50.4</td>\n",
              "      <td>0.0</td>\n",
              "      <td>4.9</td>\n",
              "      <td>1.1</td>\n",
              "      <td>15.5</td>\n",
              "      <td>0.0</td>\n",
              "      <td>0.0</td>\n",
              "      <td>0.0</td>\n",
              "      <td>0.0</td>\n",
              "      <td>5.12</td>\n",
              "      <td>2024-01-01 04:00:00</td>\n",
              "    </tr>\n",
              "    <tr>\n",
              "      <th>8</th>\n",
              "      <td>10</td>\n",
              "      <td>Zürich, Universität Irchel</td>\n",
              "      <td>2024-01-01 04:41:00</td>\n",
              "      <td>2024-01-01 04:44:07</td>\n",
              "      <td>REAL</td>\n",
              "      <td>-187.0</td>\n",
              "      <td>2024-01-01 04:00:00</td>\n",
              "      <td>NABZUE</td>\n",
              "      <td>2024-01-01 04:00:00</td>\n",
              "      <td>50.4</td>\n",
              "      <td>0.0</td>\n",
              "      <td>4.9</td>\n",
              "      <td>1.1</td>\n",
              "      <td>15.5</td>\n",
              "      <td>0.0</td>\n",
              "      <td>0.0</td>\n",
              "      <td>0.0</td>\n",
              "      <td>0.0</td>\n",
              "      <td>5.12</td>\n",
              "      <td>2024-01-01 04:00:00</td>\n",
              "    </tr>\n",
              "    <tr>\n",
              "      <th>9</th>\n",
              "      <td>2</td>\n",
              "      <td>Zürich, Zypressenstrasse</td>\n",
              "      <td>2024-01-01 04:41:00</td>\n",
              "      <td>2024-01-01 04:41:44</td>\n",
              "      <td>REAL</td>\n",
              "      <td>-44.0</td>\n",
              "      <td>2024-01-01 04:00:00</td>\n",
              "      <td>NABZUE</td>\n",
              "      <td>2024-01-01 04:00:00</td>\n",
              "      <td>50.4</td>\n",
              "      <td>0.0</td>\n",
              "      <td>4.9</td>\n",
              "      <td>1.1</td>\n",
              "      <td>15.5</td>\n",
              "      <td>0.0</td>\n",
              "      <td>0.0</td>\n",
              "      <td>0.0</td>\n",
              "      <td>0.0</td>\n",
              "      <td>5.12</td>\n",
              "      <td>2024-01-01 04:00:00</td>\n",
              "    </tr>\n",
              "  </tbody>\n",
              "</table>\n",
              "</div>"
            ],
            "text/plain": [
              "   LINIEN_TEXT               HALTESTELLEN_NAME        ABFAHRTSZEIT  \\\n",
              "0           10              Zürich, Salersteig 2024-01-01 04:36:00   \n",
              "1           10            Zürich, Berninaplatz 2024-01-01 04:37:00   \n",
              "2           10     Zürich, Hirschwiesenstrasse 2024-01-01 04:38:00   \n",
              "3            2  Zürich,Kalkbreite/Bhf.Wiedikon 2024-01-01 04:39:00   \n",
              "4           12        Zürich, Sternen Oerlikon 2024-01-01 04:40:00   \n",
              "5            2               Zürich, Lochergut 2024-01-01 04:40:00   \n",
              "6           10               Zürich, Milchbuck 2024-01-01 04:40:00   \n",
              "7           12    Zürich, Bahnhof Oerlikon Ost 2024-01-01 04:41:00   \n",
              "8           10      Zürich, Universität Irchel 2024-01-01 04:41:00   \n",
              "9            2        Zürich, Zypressenstrasse 2024-01-01 04:41:00   \n",
              "\n",
              "          AB_PROGNOSE AB_PROGNOSE_STATUS  VERSPAETUNG [s]  \\\n",
              "0 2024-01-01 04:37:09               REAL            -69.0   \n",
              "1 2024-01-01 04:38:08               REAL            -68.0   \n",
              "2 2024-01-01 04:39:12               REAL            -72.0   \n",
              "3 2024-01-01 04:39:42               REAL            -42.0   \n",
              "4 2024-01-01 04:40:00               REAL              0.0   \n",
              "5 2024-01-01 04:40:45               REAL            -45.0   \n",
              "6 2024-01-01 04:42:18               REAL           -138.0   \n",
              "7 2024-01-01 04:41:47               REAL            -47.0   \n",
              "8 2024-01-01 04:44:07               REAL           -187.0   \n",
              "9 2024-01-01 04:41:44               REAL            -44.0   \n",
              "\n",
              "  ABFAHRTSZEIT_aggregiert     stn                time  Böenspitze_kmh  \\\n",
              "0     2024-01-01 04:00:00  NABZUE 2024-01-01 04:00:00            50.4   \n",
              "1     2024-01-01 04:00:00  NABZUE 2024-01-01 04:00:00            50.4   \n",
              "2     2024-01-01 04:00:00  NABZUE 2024-01-01 04:00:00            50.4   \n",
              "3     2024-01-01 04:00:00  NABZUE 2024-01-01 04:00:00            50.4   \n",
              "4     2024-01-01 04:00:00  NABZUE 2024-01-01 04:00:00            50.4   \n",
              "5     2024-01-01 04:00:00  NABZUE 2024-01-01 04:00:00            50.4   \n",
              "6     2024-01-01 04:00:00  NABZUE 2024-01-01 04:00:00            50.4   \n",
              "7     2024-01-01 04:00:00  NABZUE 2024-01-01 04:00:00            50.4   \n",
              "8     2024-01-01 04:00:00  NABZUE 2024-01-01 04:00:00            50.4   \n",
              "9     2024-01-01 04:00:00  NABZUE 2024-01-01 04:00:00            50.4   \n",
              "\n",
              "   Globalstrahlung_Wm2  Temperatur_C  Niederschlag_mm  \\\n",
              "0                  0.0           4.9              1.1   \n",
              "1                  0.0           4.9              1.1   \n",
              "2                  0.0           4.9              1.1   \n",
              "3                  0.0           4.9              1.1   \n",
              "4                  0.0           4.9              1.1   \n",
              "5                  0.0           4.9              1.1   \n",
              "6                  0.0           4.9              1.1   \n",
              "7                  0.0           4.9              1.1   \n",
              "8                  0.0           4.9              1.1   \n",
              "9                  0.0           4.9              1.1   \n",
              "\n",
              "   Windgeschwindigkeit_kmh  Neuschneehöhe_cm  \\\n",
              "0                     15.5               0.0   \n",
              "1                     15.5               0.0   \n",
              "2                     15.5               0.0   \n",
              "3                     15.5               0.0   \n",
              "4                     15.5               0.0   \n",
              "5                     15.5               0.0   \n",
              "6                     15.5               0.0   \n",
              "7                     15.5               0.0   \n",
              "8                     15.5               0.0   \n",
              "9                     15.5               0.0   \n",
              "\n",
              "   Schneehöhe_Morgenmessung_6_UTC_cm  Tag_mit_Hagel  Tag_mit_Nebel  \\\n",
              "0                                0.0            0.0            0.0   \n",
              "1                                0.0            0.0            0.0   \n",
              "2                                0.0            0.0            0.0   \n",
              "3                                0.0            0.0            0.0   \n",
              "4                                0.0            0.0            0.0   \n",
              "5                                0.0            0.0            0.0   \n",
              "6                                0.0            0.0            0.0   \n",
              "7                                0.0            0.0            0.0   \n",
              "8                                0.0            0.0            0.0   \n",
              "9                                0.0            0.0            0.0   \n",
              "\n",
              "   Temperatur_Glatt     timestamp_merge  \n",
              "0              5.12 2024-01-01 04:00:00  \n",
              "1              5.12 2024-01-01 04:00:00  \n",
              "2              5.12 2024-01-01 04:00:00  \n",
              "3              5.12 2024-01-01 04:00:00  \n",
              "4              5.12 2024-01-01 04:00:00  \n",
              "5              5.12 2024-01-01 04:00:00  \n",
              "6              5.12 2024-01-01 04:00:00  \n",
              "7              5.12 2024-01-01 04:00:00  \n",
              "8              5.12 2024-01-01 04:00:00  \n",
              "9              5.12 2024-01-01 04:00:00  "
            ]
          },
          "metadata": {},
          "output_type": "display_data"
        }
      ],
      "source": [
        "# Zeitstempel konvertieren (ohne Zeitzonenanpassung)\n",
        "df_wetter[\"timestamp_merge\"] = pd.to_datetime(df_wetter[\"time\"], format=\"%Y%m%d%H\", errors=\"coerce\")\n",
        "\n",
        "# Merge mit den Verkehrsdaten\n",
        "# Annahme: df_merged ist der DataFrame mit den Verkehrsdaten und enthält eine Spalte \"ABFAHRTSZEIT_aggregiert\"\n",
        "df_merged = pd.merge(\n",
        "    df_verkehr_2024_filtered,  # Verkehrsdaten\n",
        "    df_wetter,  # Wetterdaten\n",
        "    left_on=\"ABFAHRTSZEIT_aggregiert\",  # Zeitstempel in den Verkehrsdaten\n",
        "    right_on=\"timestamp_merge\",         # Zeitstempel in den Wetterdaten\n",
        "    how=\"left\"  # Behalte alle Verkehrsdaten, auch wenn keine Wetterdaten vorhanden sind\n",
        ")\n",
        "\n",
        "# 1.3 Überprüfen des gemergten DataFrames\n",
        "display(df_merged.head(10))"
      ]
    },
    {
      "cell_type": "markdown",
      "metadata": {
        "id": "35IFSlm77KW8"
      },
      "source": [
        "#Analyse der Tramlinien und ihrem Abstand zur Wetterstation"
      ]
    },
    {
      "cell_type": "code",
      "execution_count": 16,
      "metadata": {},
      "outputs": [
        {
          "data": {
            "text/plain": [
              "Index(['LINIEN_TEXT', 'HALTESTELLEN_NAME', 'ABFAHRTSZEIT', 'AB_PROGNOSE',\n",
              "       'AB_PROGNOSE_STATUS', 'VERSPAETUNG [s]', 'ABFAHRTSZEIT_aggregiert',\n",
              "       'stn', 'time', 'Böenspitze_kmh', 'Globalstrahlung_Wm2', 'Temperatur_C',\n",
              "       'Niederschlag_mm', 'Windgeschwindigkeit_kmh', 'Neuschneehöhe_cm',\n",
              "       'Schneehöhe_Morgenmessung_6_UTC_cm', 'Tag_mit_Hagel', 'Tag_mit_Nebel',\n",
              "       'Temperatur_Glatt', 'timestamp_merge'],\n",
              "      dtype='object')"
            ]
          },
          "execution_count": 16,
          "metadata": {},
          "output_type": "execute_result"
        }
      ],
      "source": [
        "df_merged.columns"
      ]
    },
    {
      "cell_type": "code",
      "execution_count": 17,
      "metadata": {
        "id": "1Wuu49p57KW9"
      },
      "outputs": [
        {
          "data": {
            "image/png": "[encoded data removed]",
            "text/plain": [
              "<Figure size 1000x600 with 1 Axes>"
            ]
          },
          "metadata": {},
          "output_type": "display_data"
        }
      ],
      "source": [
        "# Filtere nur die Verspätungen zwischen 1 Minute (60 Sekunden) und 30 Minuten (1800 Sekunden)\n",
        "df_delay_rain = df_merged[(df_merged[\"VERSPAETUNG [s]\"] > 60) & (df_merged[\"VERSPAETUNG [s]\"] <= 1800)]\n",
        "\n",
        "# Erstelle einen Scatterplot für Verspätung vs. Niederschlag\n",
        "plt.figure(figsize=(10, 6))\n",
        "sns.scatterplot(x=df_delay_rain[\"Niederschlag_mm\"], y=df_delay_rain[\"VERSPAETUNG [s]\"], alpha=0.5)\n",
        "\n",
        "# Achsenbeschriftung und Titel\n",
        "plt.xlabel(\"Niederschlag (mm)\")\n",
        "plt.ylabel(\"Verspätung (Sekunden)\")\n",
        "plt.title(\"Korrelation zwischen Verspätungen (> 1 Minute) und Niederschlag\")\n",
        "\n",
        "# Anzeige des Diagramms\n",
        "plt.show()"
      ]
    },
    {
      "cell_type": "code",
      "execution_count": 18,
      "metadata": {},
      "outputs": [
        {
          "name": "stdout",
          "output_type": "stream",
          "text": [
            "Korrelationsmatrix:\n",
            "                 VERSPAETUNG [s]  Niederschlag_mm\n",
            "VERSPAETUNG [s]         1.000000         0.054888\n",
            "Niederschlag_mm         0.054888         1.000000\n"
          ]
        }
      ],
      "source": [
        "correlation = df_delay_rain[[\"VERSPAETUNG [s]\", \"Niederschlag_mm\"]].corr()\n",
        "print(\"Korrelationsmatrix:\")\n",
        "print(correlation)"
      ]
    },
    {
      "cell_type": "code",
      "execution_count": 22,
      "metadata": {},
      "outputs": [
        {
          "name": "stdout",
          "output_type": "stream",
          "text": [
            "          VERSPAETUNG [s]\n",
            "0                   -69.0\n",
            "1                   -68.0\n",
            "2                   -72.0\n",
            "3                   -42.0\n",
            "5                   -45.0\n",
            "...                   ...\n",
            "30038770            -39.0\n",
            "30038771            -26.0\n",
            "30038772            -20.0\n",
            "30038773            -20.0\n",
            "30038775            -37.0\n",
            "\n",
            "[25734322 rows x 1 columns]\n",
            "\n",
            "Anzahl negativer Werte: 25734322\n",
            "Gesamtanzahl: 30038760\n",
            "Prozentualer Anteil negativer Werte: 85.67%\n"
          ]
        }
      ],
      "source": [
        "# 1. Alle negativen Verspätungen anzeigen\n",
        "negative_verspaetungen = df_merged[df_merged['VERSPAETUNG [s]'] < 0]\n",
        "print(negative_verspaetungen[['VERSPAETUNG [s]']])\n",
        "\n",
        "# 2. Prozentualer Anteil negativer Werte\n",
        "total_count = df_merged['VERSPAETUNG [s]'].count()\n",
        "negative_count = negative_verspaetungen['VERSPAETUNG [s]'].count()\n",
        "anteil_negativ = (negative_count / total_count) * 100\n",
        "\n",
        "print(f\"\\nAnzahl negativer Werte: {negative_count}\")\n",
        "print(f\"Gesamtanzahl: {total_count}\")\n",
        "print(f\"Prozentualer Anteil negativer Werte: {anteil_negativ:.2f}%\")"
      ]
    },
    {
      "cell_type": "markdown",
      "metadata": {
        "id": "ef485_577KW9"
      },
      "source": [
        "---\n",
        "## 3 Datenanalyse"
      ]
    },
    {
      "cell_type": "markdown",
      "metadata": {
        "id": "1SXPvjJS7KW9"
      },
      "source": [
        "---\n",
        "## 4 Präsentation der Ergebnisse"
      ]
    },
    {
      "cell_type": "markdown",
      "metadata": {
        "id": "tkR0KBvp7KW9"
      },
      "source": []
    }
  ],
  "metadata": {
    "colab": {
      "provenance": []
    },
    "kernelspec": {
      "display_name": ".venv",
      "language": "python",
      "name": "python3"
    },
    "language_info": {
      "codemirror_mode": {
        "name": "ipython",
        "version": 3
      },
      "file_extension": ".py",
      "mimetype": "text/x-python",
      "name": "python",
      "nbconvert_exporter": "python",
      "pygments_lexer": "ipython3",
      "version": "3.12.9"
    }
  },
  "nbformat": 4,
  "nbformat_minor": 0
}
