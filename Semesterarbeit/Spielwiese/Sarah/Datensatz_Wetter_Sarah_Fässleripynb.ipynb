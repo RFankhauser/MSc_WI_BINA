{
  "cells": [
    {
      "cell_type": "markdown",
      "metadata": {
        "id": "view-in-github",
        "colab_type": "text"
      },
      "source": [
        "<a href=\"https://colab.research.google.com/github/RFankhauser/MSc_WI_BINA/blob/main/Datensatz_Wetter_Sarah_F%C3%A4ssleripynb.ipynb\" target=\"_parent\"><img src=\"https://colab.research.google.com/assets/colab-badge.svg\" alt=\"Open In Colab\"/></a>"
      ]
    },
    {
      "cell_type": "code",
      "execution_count": null,
      "metadata": {
        "colab": {
          "base_uri": "https://localhost:8080/"
        },
        "id": "0qmLO1rQjrl8",
        "outputId": "33f9d2e6-b94a-4a1a-ef2f-df6e59af11f6"
      },
      "outputs": [
        {
          "name": "stdout",
          "output_type": "stream",
          "text": [
            "Spalten in df_2022: ['Datum,\"Standort\",\"Parameter\",\"Intervall\",\"Einheit\",\"Wert\",\"Status\"']\n"
          ]
        }
      ],
      "source": [
        "import pandas as pd\n",
        "\n",
        "url_2022 = \"https://raw.githubusercontent.com/RFankhauser/MSc_WI_BINA/main/Semesterarbeit/Wetter_Z%C3%BCrich_st%C3%BCndlich/ugz_ogd_meteo_h1_2022.csv\"\n",
        "# Falls ein BOM (Byte Order Mark) vorliegt, kann encoding='utf-8-sig' helfen:\n",
        "df_2022 = pd.read_csv(url_2022, sep=';', low_memory=False, encoding='utf-8-sig')\n",
        "# Entferne führende und nachfolgende Leerzeichen aus den Spaltennamen:\n",
        "df_2022.columns = df_2022.columns.str.strip()\n",
        "print(\"Spalten in df_2022:\", df_2022.columns.tolist())"
      ]
    },
    {
      "cell_type": "code",
      "execution_count": null,
      "metadata": {
        "colab": {
          "base_uri": "https://localhost:8080/"
        },
        "id": "A1kvSXDjotzS",
        "outputId": "9540e9d4-55b8-4dbd-c444-352ec1b83499"
      },
      "outputs": [
        {
          "name": "stdout",
          "output_type": "stream",
          "text": [
            "Spalten in df_2022: ['Datum', 'Standort', 'Parameter', 'Intervall', 'Einheit', 'Wert', 'Status']\n",
            "                      Datum                 Standort Parameter Intervall  \\\n",
            "0 2022-01-01 00:00:00+01:00  Zch_Stampfenbachstrasse         T        h1   \n",
            "1 2022-01-01 00:00:00+01:00  Zch_Stampfenbachstrasse        Hr        h1   \n",
            "2 2022-01-01 00:00:00+01:00  Zch_Stampfenbachstrasse         p        h1   \n",
            "3 2022-01-01 00:00:00+01:00  Zch_Stampfenbachstrasse   RainDur        h1   \n",
            "4 2022-01-01 00:00:00+01:00  Zch_Stampfenbachstrasse    StrGlo        h1   \n",
            "\n",
            "                     Einheit    Wert     Status  \n",
            "0                gradcelsius    7.22  bereinigt  \n",
            "1  relative_Luftfeuchtigkeit   82.93  bereinigt  \n",
            "2                        hPa  977.20  bereinigt  \n",
            "3                        min    0.00  bereinigt  \n",
            "4                       W/m2    0.02  bereinigt  \n"
          ]
        }
      ],
      "source": [
        "import pandas as pd\n",
        "import seaborn as sns\n",
        "import matplotlib.pyplot as plt\n",
        "\n",
        "# Optional: Seaborn-Stil setzen\n",
        "sns.set(style=\"whitegrid\")\n",
        "\n",
        "# URLs der CSV-Dateien (Raw-Links)\n",
        "url_2022 = \"https://raw.githubusercontent.com/RFankhauser/MSc_WI_BINA/main/Semesterarbeit/Wetter_Z%C3%BCrich_st%C3%BCndlich/ugz_ogd_meteo_h1_2022.csv\"\n",
        "url_2023 = \"https://raw.githubusercontent.com/RFankhauser/MSc_WI_BINA/main/Semesterarbeit/Wetter_Z%C3%BCrich_st%C3%BCndlich/ugz_ogd_meteo_h1_2023.csv\"\n",
        "url_2024 = \"https://raw.githubusercontent.com/RFankhauser/MSc_WI_BINA/main/Semesterarbeit/Wetter_Z%C3%BCrich_st%C3%BCndlich/ugz_ogd_meteo_h1_2024.csv\"\n",
        "\n",
        "# CSV-Dateien einlesen: Verwende sep=\",\", da die Header-Zeile Komma-getrennt ist,\n",
        "# und entferne überflüssige Leerzeichen in den Spaltennamen\n",
        "# und parse die Spalte \"Datum\" als Datumsformat\n",
        "df_2022 = pd.read_csv(url_2022, sep=',', low_memory=False, encoding='utf-8-sig', parse_dates=[\"Datum\"])\n",
        "df_2023 = pd.read_csv(url_2023, sep=',', low_memory=False, encoding='utf-8-sig', parse_dates=[\"Datum\"])\n",
        "df_2024 = pd.read_csv(url_2024, sep=',', low_memory=False, encoding='utf-8-sig', parse_dates=[\"Datum\"])\n",
        "\n",
        "# Kontrolle: Spaltennamen anzeigen\n",
        "print(\"Spalten in df_2022:\", df_2022.columns.tolist())\n",
        "print(df_2022.head())"
      ]
    },
    {
      "cell_type": "code",
      "execution_count": null,
      "metadata": {
        "id": "tSq1mGpArLNb"
      },
      "outputs": [],
      "source": [
        "#Alle Daten zusammenführen\n",
        "df_all = pd.concat([df_2022, df_2023, df_2024])\n",
        "df_all.sort_values(\"Datum\", inplace=True)\n",
        "df_all.reset_index(drop=True, inplace=True)"
      ]
    },
    {
      "cell_type": "code",
      "execution_count": null,
      "metadata": {
        "colab": {
          "base_uri": "https://localhost:8080/"
        },
        "id": "p3sVM8UCu8Bg",
        "outputId": "927eb9a4-d380-4843-99b4-84befe446692"
      },
      "outputs": [
        {
          "name": "stdout",
          "output_type": "stream",
          "text": [
            "Spalten: ['Datum', 'Standort', 'Parameter', 'Intervall', 'Einheit', 'Wert', 'Status']\n",
            "Spalten: ['Datum', 'Standort', 'Parameter', 'Intervall', 'Einheit', 'Wert', 'Status']\n",
            "Spalten: ['Datum', 'Standort', 'Parameter', 'Intervall', 'Einheit', 'Wert', 'Status']\n"
          ]
        }
      ],
      "source": [
        "#Überprüfen der Spaltennamen\n",
        "print(\"Spalten:\", df_2022.columns.tolist())\n",
        "print(\"Spalten:\", df_2023.columns.tolist())\n",
        "print(\"Spalten:\", df_2024.columns.tolist())"
      ]
    },
    {
      "cell_type": "code",
      "execution_count": null,
      "metadata": {
        "colab": {
          "base_uri": "https://localhost:8080/"
        },
        "id": "Vz_UoKuuvVa6",
        "outputId": "0b8147e6-1dd0-460b-c655-c8f7233093cc"
      },
      "outputs": [
        {
          "name": "stdout",
          "output_type": "stream",
          "text": [
            "Fehlende Werte pro Spalte:\n",
            " Datum          0\n",
            "Standort       0\n",
            "Parameter      0\n",
            "Intervall      0\n",
            "Einheit        0\n",
            "Wert         794\n",
            "Status         0\n",
            "dtype: int64\n",
            "Fehlende Werte pro Spalte:\n",
            " Datum           0\n",
            "Standort        0\n",
            "Parameter       0\n",
            "Intervall       0\n",
            "Einheit         0\n",
            "Wert         2688\n",
            "Status          0\n",
            "dtype: int64\n",
            "Fehlende Werte pro Spalte:\n",
            " Datum           0\n",
            "Standort        0\n",
            "Parameter       0\n",
            "Intervall       0\n",
            "Einheit         0\n",
            "Wert         8022\n",
            "Status          0\n",
            "dtype: int64\n"
          ]
        }
      ],
      "source": [
        "#Überprüfen, ob fehlende Werte vorhanden sind\n",
        "print(\"Fehlende Werte pro Spalte:\\n\", df_2022.isnull().sum())\n",
        "print(\"Fehlende Werte pro Spalte:\\n\", df_2023.isnull().sum())\n",
        "print(\"Fehlende Werte pro Spalte:\\n\", df_2024.isnull().sum())"
      ]
    },
    {
      "cell_type": "code",
      "source": [
        "# Falls df_all noch nicht existiert, zusammenführen:\n",
        "df_all = pd.concat([df_2022, df_2023, df_2024])\n",
        "df_all.reset_index(drop=True, inplace=True)"
      ],
      "metadata": {
        "id": "i6hHNXjg7c1X"
      },
      "execution_count": 44,
      "outputs": []
    },
    {
      "cell_type": "code",
      "source": [
        "print(\"Aktuelle Spalten in df_all:\", df_all.columns.tolist())"
      ],
      "metadata": {
        "colab": {
          "base_uri": "https://localhost:8080/"
        },
        "id": "_bgEV8Gz7gS5",
        "outputId": "35fbd99d-9228-477c-da60-8f11db4a6e60"
      },
      "execution_count": 45,
      "outputs": [
        {
          "output_type": "stream",
          "name": "stdout",
          "text": [
            "Aktuelle Spalten in df_all: ['Datum', 'Standort', 'Parameter', 'Intervall', 'Einheit', 'Wert', 'Status']\n"
          ]
        }
      ]
    },
    {
      "cell_type": "code",
      "source": [
        "# Entferne überflüssige Leerzeichen und passe die Groß-/Kleinschreibung an:\n",
        "df_all.columns = df_all.columns.str.strip()"
      ],
      "metadata": {
        "id": "sT2hCmG07jbN"
      },
      "execution_count": 46,
      "outputs": []
    },
    {
      "cell_type": "code",
      "source": [
        "# Definiere die relevanten Parameter und ihre erwarteten Einheiten\n",
        "relevante_parameter = {\n",
        "    \"T\": \"gradcelsius\",\n",
        "    \"WVs\": \"m/s\",\n",
        "    \"RainDur\": \"min\",\n",
        "    \"StrGlo\": \"W/m2\"\n",
        "}\n",
        "\n",
        "# Filtere den DataFrame, sodass nur die Zeilen mit den gewünschten Parametern und Einheiten beibehalten werden.\n",
        "df_clean = df_all[\n",
        "    df_all.apply(\n",
        "        lambda row: row[\"Parameter\"] in relevante_parameter and row[\"Einheit\"] == relevante_parameter[row[\"Parameter\"]],\n",
        "        axis=1\n",
        "    )\n",
        "].copy()\n",
        "\n",
        "print(\"Erste Zeilen des gefilterten DataFrames:\")\n",
        "print(df_clean.head())"
      ],
      "metadata": {
        "colab": {
          "base_uri": "https://localhost:8080/"
        },
        "id": "_qm5wYC17nEr",
        "outputId": "f2b1c68f-d34c-4673-a1b8-cba1a83ca149"
      },
      "execution_count": 47,
      "outputs": [
        {
          "output_type": "stream",
          "name": "stdout",
          "text": [
            "Erste Zeilen des gefilterten DataFrames:\n",
            "                      Datum                 Standort Parameter Intervall  \\\n",
            "0 2022-01-01 00:00:00+01:00  Zch_Stampfenbachstrasse         T        h1   \n",
            "3 2022-01-01 00:00:00+01:00  Zch_Stampfenbachstrasse   RainDur        h1   \n",
            "4 2022-01-01 00:00:00+01:00  Zch_Stampfenbachstrasse    StrGlo        h1   \n",
            "7 2022-01-01 00:00:00+01:00  Zch_Stampfenbachstrasse       WVs        h1   \n",
            "8 2022-01-01 00:00:00+01:00      Zch_Schimmelstrasse         T        h1   \n",
            "\n",
            "       Einheit  Wert     Status  \n",
            "0  gradcelsius  7.22  bereinigt  \n",
            "3          min  0.00  bereinigt  \n",
            "4         W/m2  0.02  bereinigt  \n",
            "7          m/s  1.16  bereinigt  \n",
            "8  gradcelsius  5.96  bereinigt  \n"
          ]
        }
      ]
    },
    {
      "cell_type": "code",
      "source": [
        "# Überprüfen, ob es fehlende Werte im gefilterten DataFrame gibt\n",
        "fehlende_werte = df_clean.isnull().sum()\n",
        "print(\"Fehlende Werte pro Spalte:\")\n",
        "print(fehlende_werte)"
      ],
      "metadata": {
        "colab": {
          "base_uri": "https://localhost:8080/"
        },
        "id": "LsTBIgQ28M4o",
        "outputId": "6499205f-75dd-4eeb-cc5c-eaae762c87cc"
      },
      "execution_count": 48,
      "outputs": [
        {
          "output_type": "stream",
          "name": "stdout",
          "text": [
            "Fehlende Werte pro Spalte:\n",
            "Datum           0\n",
            "Standort        0\n",
            "Parameter       0\n",
            "Intervall       0\n",
            "Einheit         0\n",
            "Wert         4426\n",
            "Status          0\n",
            "dtype: int64\n"
          ]
        }
      ]
    },
    {
      "cell_type": "code",
      "source": [
        "print(\"Fehlende Werte in 'RainDur':\", df_clean[df_clean[\"Parameter\"]==\"RainDur\"][\"Wert\"].isnull().sum())"
      ],
      "metadata": {
        "colab": {
          "base_uri": "https://localhost:8080/"
        },
        "id": "77NKttz48Q-V",
        "outputId": "ce6b3220-c4bc-46e7-8a0f-63a450b561a3"
      },
      "execution_count": 49,
      "outputs": [
        {
          "output_type": "stream",
          "name": "stdout",
          "text": [
            "Fehlende Werte in 'RainDur': 1588\n"
          ]
        }
      ]
    },
    {
      "cell_type": "code",
      "source": [
        "# Filtere die Zeilen, in denen der Parameter \"RainDur\" ist und der \"Wert\" fehlt (NaN)\n",
        "rainDur_missing = df_clean[(df_clean[\"Parameter\"] == \"RainDur\") & (df_clean[\"Wert\"].isnull())]\n",
        "\n",
        "# Zeige die betroffenen Zeilen an\n",
        "print(rainDur_missing)"
      ],
      "metadata": {
        "colab": {
          "base_uri": "https://localhost:8080/"
        },
        "id": "lMHEyUwp8jhV",
        "outputId": "c255540c-b7f3-4523-ed44-482ca5edc890"
      },
      "execution_count": 50,
      "outputs": [
        {
          "output_type": "stream",
          "name": "stdout",
          "text": [
            "                           Datum                 Standort Parameter Intervall  \\\n",
            "10754  2022-01-21 08:00:00+01:00   Zch_Rosengartenstrasse   RainDur        h1   \n",
            "10776  2022-01-21 09:00:00+01:00   Zch_Rosengartenstrasse   RainDur        h1   \n",
            "54593  2022-04-14 09:00:00+01:00      Zch_Schimmelstrasse   RainDur        h1   \n",
            "95285  2022-06-30 11:00:00+01:00  Zch_Stampfenbachstrasse   RainDur        h1   \n",
            "140151 2022-09-23 10:00:00+01:00      Zch_Schimmelstrasse   RainDur        h1   \n",
            "...                          ...                      ...       ...       ...   \n",
            "527622 2024-09-26 06:00:00+01:00   Zch_Rosengartenstrasse   RainDur        h1   \n",
            "527644 2024-09-26 07:00:00+01:00   Zch_Rosengartenstrasse   RainDur        h1   \n",
            "560541 2024-11-27 15:00:00+01:00  Zch_Stampfenbachstrasse   RainDur        h1   \n",
            "560563 2024-11-27 16:00:00+01:00  Zch_Stampfenbachstrasse   RainDur        h1   \n",
            "560585 2024-11-27 17:00:00+01:00  Zch_Stampfenbachstrasse   RainDur        h1   \n",
            "\n",
            "       Einheit  Wert        Status  \n",
            "10754      min   NaN     bereinigt  \n",
            "10776      min   NaN     bereinigt  \n",
            "54593      min   NaN     bereinigt  \n",
            "95285      min   NaN     bereinigt  \n",
            "140151     min   NaN     bereinigt  \n",
            "...        ...   ...           ...  \n",
            "527622     min   NaN  provisorisch  \n",
            "527644     min   NaN  provisorisch  \n",
            "560541     min   NaN  provisorisch  \n",
            "560563     min   NaN  provisorisch  \n",
            "560585     min   NaN  provisorisch  \n",
            "\n",
            "[1588 rows x 7 columns]\n"
          ]
        }
      ]
    },
    {
      "cell_type": "code",
      "source": [
        "# Filtere zunächst alle Zeilen, in denen der Parameter \"RainDur\" ist\n",
        "rainDur_df = df_clean[df_clean[\"Parameter\"] == \"RainDur\"]\n",
        "\n",
        "# Anzahl der NaN-Werte in der Spalte \"Wert\"\n",
        "nan_count = rainDur_df[\"Wert\"].isnull().sum()\n",
        "print(\"Anzahl NaN in 'Wert':\", nan_count)\n",
        "\n",
        "# Anzahl der Zeilen, in denen 'Wert' exakt 0 ist\n",
        "zero_count = (rainDur_df[\"Wert\"] == 0).sum()\n",
        "print(\"Anzahl 0 in 'Wert':\", zero_count)"
      ],
      "metadata": {
        "colab": {
          "base_uri": "https://localhost:8080/"
        },
        "id": "1anSAtbP9V4d",
        "outputId": "892cd055-41d7-4841-b3a4-32ab9c99b4ca"
      },
      "execution_count": 51,
      "outputs": [
        {
          "output_type": "stream",
          "name": "stdout",
          "text": [
            "Anzahl NaN in 'Wert': 1588\n",
            "Anzahl 0 in 'Wert': 61965\n"
          ]
        }
      ]
    },
    {
      "cell_type": "code",
      "source": [
        "#Bereinigung der NaN in 'Wert'\n",
        "\n",
        "df_clean.loc[df_clean[\"Parameter\"] == \"RainDur\", \"Wert\"] = df_clean.loc[df_clean[\"Parameter\"] == \"RainDur\", \"Wert\"].fillna(0)"
      ],
      "metadata": {
        "id": "qmfeWw_492Wp"
      },
      "execution_count": 52,
      "outputs": []
    },
    {
      "cell_type": "code",
      "source": [
        "# Filtere zunächst alle Zeilen, in denen der Parameter \"RainDur\" ist\n",
        "rainDur_df = df_clean[df_clean[\"Parameter\"] == \"RainDur\"]\n",
        "\n",
        "# Anzahl der NaN-Werte in der Spalte \"Wert\"\n",
        "nan_count = rainDur_df[\"Wert\"].isnull().sum()\n",
        "print(\"Anzahl NaN in 'Wert':\", nan_count)\n",
        "\n",
        "# Anzahl der Zeilen, in denen 'Wert' exakt 0 ist\n",
        "zero_count = (rainDur_df[\"Wert\"] == 0).sum()\n",
        "print(\"Anzahl 0 in 'Wert':\", zero_count)"
      ],
      "metadata": {
        "colab": {
          "base_uri": "https://localhost:8080/"
        },
        "id": "lBpUZzRw99I1",
        "outputId": "131da3b1-a83a-4aea-d1ce-4244a9d9ed29"
      },
      "execution_count": 53,
      "outputs": [
        {
          "output_type": "stream",
          "name": "stdout",
          "text": [
            "Anzahl NaN in 'Wert': 0\n",
            "Anzahl 0 in 'Wert': 63553\n"
          ]
        }
      ]
    },
    {
      "cell_type": "code",
      "source": [
        "# Für jeden Parameter prüfen, wie viele NaN und 0 in der Spalte \"Wert\" vorhanden sind\n",
        "for param in df_clean[\"Parameter\"].unique():\n",
        "    subset = df_clean[df_clean[\"Parameter\"] == param]\n",
        "    total_count = len(subset)\n",
        "    nan_count = subset[\"Wert\"].isnull().sum()\n",
        "    zero_count = (subset[\"Wert\"] == 0).sum()\n",
        "    einheit = subset[\"Einheit\"].iloc[0] if not subset[\"Einheit\"].empty else \"keine Einheit\"\n",
        "    print(f\"Parameter: {param} (Einheit: {einheit})\")\n",
        "    print(f\"  Gesamtanzahl Zeilen: {total_count}\")\n",
        "    print(f\"  NaN: {nan_count} ({nan_count/total_count*100:.2f}%)\")\n",
        "    print(f\"  0-Werte: {zero_count} ({zero_count/total_count*100:.2f}%)\\n\")"
      ],
      "metadata": {
        "colab": {
          "base_uri": "https://localhost:8080/"
        },
        "id": "z6cshs30-Z_T",
        "outputId": "36427b9c-888a-4580-ecd5-047f349b66d5"
      },
      "execution_count": 54,
      "outputs": [
        {
          "output_type": "stream",
          "name": "stdout",
          "text": [
            "Parameter: T (Einheit: gradcelsius)\n",
            "  Gesamtanzahl Zeilen: 78909\n",
            "  NaN: 1326 (1.68%)\n",
            "  0-Werte: 13 (0.02%)\n",
            "\n",
            "Parameter: RainDur (Einheit: min)\n",
            "  Gesamtanzahl Zeilen: 78909\n",
            "  NaN: 0 (0.00%)\n",
            "  0-Werte: 63553 (80.54%)\n",
            "\n",
            "Parameter: StrGlo (Einheit: W/m2)\n",
            "  Gesamtanzahl Zeilen: 26303\n",
            "  NaN: 29 (0.11%)\n",
            "  0-Werte: 0 (0.00%)\n",
            "\n",
            "Parameter: WVs (Einheit: m/s)\n",
            "  Gesamtanzahl Zeilen: 78909\n",
            "  NaN: 1483 (1.88%)\n",
            "  0-Werte: 0 (0.00%)\n",
            "\n"
          ]
        }
      ]
    }
  ],
  "metadata": {
    "colab": {
      "provenance": [],
      "authorship_tag": "ABX9TyOol7D9qghH3msMl1YjQyl/",
      "include_colab_link": true
    },
    "kernelspec": {
      "display_name": "Python 3",
      "name": "python3"
    },
    "language_info": {
      "name": "python"
    }
  },
  "nbformat": 4,
  "nbformat_minor": 0
}