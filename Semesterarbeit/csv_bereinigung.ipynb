{
 "cells": [
  {
   "cell_type": "code",
   "execution_count": 4,
   "metadata": {},
   "outputs": [
    {
     "name": "stderr",
     "output_type": "stream",
     "text": [
      "/var/folders/y5/k4w6t8l1781fsnsg064n4dxw0000gn/T/ipykernel_94938/45738932.py:8: ParserWarning: Falling back to the 'python' engine because the 'c' engine does not support sep=None with delim_whitespace=False; you can avoid this warning by specifying engine='python'.\n",
      "  df = pd.read_csv(input_file, sep=None)\n"
     ]
    },
    {
     "name": "stdout",
     "output_type": "stream",
     "text": [
      "Gefilterte Datei wurde gespeichert unter: /Users/remofankhauser/20250222_vbz_filtered.csv\n"
     ]
    }
   ],
   "source": [
    "import pandas as pd\n",
    "\n",
    "# Datei-Pfad einlesen (Anpassen!)\n",
    "input_file = \"/Users/remofankhauser/20250222_istdaten.csv\"  # Ersetze mit dem tatsächlichen Pfad\n",
    "output_file = \"/Users/remofankhauser/20250222_vbz_filtered.csv\"  # Ersetze mit dem gewünschten Speicherort\n",
    "\n",
    "# CSV-Datei einlesen (ggf. Separator anpassen, falls nicht Komma-getrennt)\n",
    "df = pd.read_csv(input_file, sep=None)\n",
    "\n",
    "# Nur Zeilen behalten, in denen \"VBZ\" in der Spalte BETREIBER_ABK enthalten ist\n",
    "df_filtered = df[df[\"BETREIBER_ABK\"].str.contains(\"VBZ\")]\n",
    "\n",
    "# Gefilterte Daten speichern\n",
    "df_filtered.to_csv(output_file, index=False)\n",
    "\n",
    "print(f\"Gefilterte Datei wurde gespeichert unter: {output_file}\")"
   ]
  },
  {
   "cell_type": "code",
   "execution_count": null,
   "metadata": {},
   "outputs": [],
   "source": []
  }
 ],
 "metadata": {
  "kernelspec": {
   "display_name": ".venv",
   "language": "python",
   "name": "python3"
  },
  "language_info": {
   "codemirror_mode": {
    "name": "ipython",
    "version": 3
   },
   "file_extension": ".py",
   "mimetype": "text/x-python",
   "name": "python",
   "nbconvert_exporter": "python",
   "pygments_lexer": "ipython3",
   "version": "3.12.9"
  }
 },
 "nbformat": 4,
 "nbformat_minor": 2
}
